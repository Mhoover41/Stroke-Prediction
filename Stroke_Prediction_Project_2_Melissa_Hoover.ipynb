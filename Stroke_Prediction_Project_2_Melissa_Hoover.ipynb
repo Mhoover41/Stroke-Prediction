{
  "nbformat": 4,
  "nbformat_minor": 0,
  "metadata": {
    "colab": {
      "provenance": [],
      "toc_visible": true,
      "authorship_tag": "ABX9TyO/UVseL/lJTxvhDfgkbYuK",
      "include_colab_link": true
    },
    "kernelspec": {
      "name": "python3",
      "display_name": "Python 3"
    },
    "language_info": {
      "name": "python"
    }
  },
  "cells": [
    {
      "cell_type": "markdown",
      "metadata": {
        "id": "view-in-github",
        "colab_type": "text"
      },
      "source": [
        "<a href=\"https://colab.research.google.com/github/Mhoover41/Stroke-Prediction/blob/main/Stroke_Prediction_Project_2_Melissa_Hoover.ipynb\" target=\"_parent\"><img src=\"https://colab.research.google.com/assets/colab-badge.svg\" alt=\"Open In Colab\"/></a>"
      ]
    },
    {
      "cell_type": "markdown",
      "source": [
        "#**Stroke Prediction**\n"
      ],
      "metadata": {
        "id": "AMTgsztIJqxb"
      }
    },
    {
      "cell_type": "markdown",
      "source": [
        "- **Author:** Melissa Hoover"
      ],
      "metadata": {
        "id": "9oaUACqGJrwp"
      }
    },
    {
      "cell_type": "markdown",
      "source": [
        "#**Project Overview**"
      ],
      "metadata": {
        "id": "2RxGxdamJr9g"
      }
    },
    {
      "cell_type": "markdown",
      "source": [
        "This dataset is used to predict whether a patient is likely to get stroke based on the input parameters like gender, age, various diseases, and smoking status. Each row in the data provides relavant information about the patient."
      ],
      "metadata": {
        "id": "kkVkSVxfIbwW"
      }
    },
    {
      "cell_type": "markdown",
      "source": [
        "Data Source:  https://www.kaggle.com/datasets/fedesoriano/stroke-prediction-dataset"
      ],
      "metadata": {
        "id": "Q6U9ZXoOJib-"
      }
    },
    {
      "cell_type": "markdown",
      "source": [
        "Data Link: [healthcare-dataset-stroke-data.csv](https://github.com/Mhoover41/Stroke-Prediction/files/11501796/healthcare-dataset-stroke-data.csv)"
      ],
      "metadata": {
        "id": "9SqTpKK8JpoP"
      }
    },
    {
      "cell_type": "markdown",
      "source": [
        "##Data Dictionary"
      ],
      "metadata": {
        "id": "NgIKGaY_yvqJ"
      }
    },
    {
      "cell_type": "markdown",
      "source": [
        "1) id: unique identifier\n",
        "\n",
        "2) gender: \"Male\", \"Female\" or \"Other\"\n",
        "\n",
        "3) age: age of the patient\n",
        "\n",
        "4) hypertension: 0 if the patient doesn't have hypertension, 1 if the patient has hypertension\n",
        "\n",
        "5) heart_disease: 0 if the patient doesn't have any heart diseases, 1 if the patient has a heart disease\n",
        "\n",
        "6) ever_married: \"No\" or \"Yes\"\n",
        "\n",
        "7) work_type: \"children\", \"Govt_jov\", \"Never_worked\", \"Private\" or \"Self-employed\"\n",
        "\n",
        "8) Residence_type: \"Rural\" or \"Urban\"\n",
        "\n",
        "9) avg_glucose_level: average glucose level in blood\n",
        "\n",
        "10) bmi: body mass index\n",
        "\n",
        "11) smoking_status: \"formerly smoked\", \"never smoked\", \"smokes\" or \"Unknown\"*\n",
        "\n",
        "12) stroke: 1 if the patient had a stroke or 0 if not\n",
        "\n",
        "**Note:** \"Unknown\" in smoking_status means that the information is unavailable for this patient"
      ],
      "metadata": {
        "id": "gInhEakyIpoy"
      }
    },
    {
      "cell_type": "markdown",
      "source": [
        "#**Load and Inspect Data**"
      ],
      "metadata": {
        "id": "7yC_VJB6JsKz"
      }
    },
    {
      "cell_type": "code",
      "source": [
        "from google.colab import drive\n",
        "drive.mount('/content/drive')"
      ],
      "metadata": {
        "colab": {
          "base_uri": "https://localhost:8080/"
        },
        "id": "9hskT_KvpmWE",
        "outputId": "ff833e58-e4b7-4812-c554-6144f0735508"
      },
      "execution_count": 1,
      "outputs": [
        {
          "output_type": "stream",
          "name": "stdout",
          "text": [
            "Drive already mounted at /content/drive; to attempt to forcibly remount, call drive.mount(\"/content/drive\", force_remount=True).\n"
          ]
        }
      ]
    },
    {
      "cell_type": "markdown",
      "source": [
        "##### **Imports**"
      ],
      "metadata": {
        "id": "IO3brF-T4p3B"
      }
    },
    {
      "cell_type": "code",
      "source": [
        "# Pandas\n",
        "import pandas as pd\n",
        "# Numpy\n",
        "import numpy as np\n",
        "# MatplotLib\n",
        "import matplotlib.pyplot as plt\n",
        "#Seaborn\n",
        "import seaborn as sns\n",
        "\n",
        "# Preprocessing\n",
        "from sklearn.model_selection import train_test_split, GridSearchCV\n",
        "from sklearn.compose import make_column_selector\n",
        "from sklearn.preprocessing import StandardScaler, OrdinalEncoder, OneHotEncoder\n",
        "from sklearn.pipeline import make_pipeline\n",
        "from sklearn.compose import make_column_transformer\n",
        "from sklearn.impute import SimpleImputer\n",
        "\n",
        "# Models\n",
        "from sklearn.neighbors import KNeighborsClassifier\n",
        "from sklearn.ensemble import RandomForestClassifier\n",
        "from sklearn.tree import DecisionTreeClassifier\n",
        "from sklearn.linear_model import LogisticRegression\n",
        "\n",
        "# Classification Metrics\n",
        "\n",
        "from sklearn.metrics import (ConfusionMatrixDisplay, \n",
        "                             PrecisionRecallDisplay,  \n",
        "                             f1_score, accuracy_score, precision_score,\n",
        "                             recall_score, classification_report)\n",
        "\n",
        "# Set global scikit-learn configuration \n",
        "from sklearn import set_config\n",
        "# Display estimators as a diagram\n",
        "set_config(display='diagram') # 'text' or 'diagram'}"
      ],
      "metadata": {
        "id": "iKhZ6XxV2AV2"
      },
      "execution_count": 2,
      "outputs": []
    },
    {
      "cell_type": "markdown",
      "source": [
        "##### **Loading Data**"
      ],
      "metadata": {
        "id": "NLr9LIhY4w9x"
      }
    },
    {
      "cell_type": "code",
      "source": [
        "#Load the data file\n",
        "filename= '/content/drive/MyDrive/Project 2/healthcare-dataset-stroke-data.csv'\n",
        "df= pd.read_csv(filename)"
      ],
      "metadata": {
        "id": "_lt1dRdop7R4"
      },
      "execution_count": 3,
      "outputs": []
    },
    {
      "cell_type": "markdown",
      "source": [
        "**Inspecting Data**"
      ],
      "metadata": {
        "id": "6FBFX90RKs3G"
      }
    },
    {
      "cell_type": "code",
      "source": [
        "# Display the first 5 rows\n",
        "df.head()"
      ],
      "metadata": {
        "colab": {
          "base_uri": "https://localhost:8080/",
          "height": 206
        },
        "id": "b7F5v8j6KjSp",
        "outputId": "16ee7243-92cf-4cd4-f5be-61cf02e13a4b"
      },
      "execution_count": 4,
      "outputs": [
        {
          "output_type": "execute_result",
          "data": {
            "text/plain": [
              "      id  gender   age  hypertension  heart_disease ever_married  \\\n",
              "0   9046    Male  67.0             0              1          Yes   \n",
              "1  51676  Female  61.0             0              0          Yes   \n",
              "2  31112    Male  80.0             0              1          Yes   \n",
              "3  60182  Female  49.0             0              0          Yes   \n",
              "4   1665  Female  79.0             1              0          Yes   \n",
              "\n",
              "       work_type Residence_type  avg_glucose_level   bmi   smoking_status  \\\n",
              "0        Private          Urban             228.69  36.6  formerly smoked   \n",
              "1  Self-employed          Rural             202.21   NaN     never smoked   \n",
              "2        Private          Rural             105.92  32.5     never smoked   \n",
              "3        Private          Urban             171.23  34.4           smokes   \n",
              "4  Self-employed          Rural             174.12  24.0     never smoked   \n",
              "\n",
              "   stroke  \n",
              "0       1  \n",
              "1       1  \n",
              "2       1  \n",
              "3       1  \n",
              "4       1  "
            ],
            "text/html": [
              "\n",
              "  <div id=\"df-031a98e3-f486-4fc1-925c-140b7789a1bb\">\n",
              "    <div class=\"colab-df-container\">\n",
              "      <div>\n",
              "<style scoped>\n",
              "    .dataframe tbody tr th:only-of-type {\n",
              "        vertical-align: middle;\n",
              "    }\n",
              "\n",
              "    .dataframe tbody tr th {\n",
              "        vertical-align: top;\n",
              "    }\n",
              "\n",
              "    .dataframe thead th {\n",
              "        text-align: right;\n",
              "    }\n",
              "</style>\n",
              "<table border=\"1\" class=\"dataframe\">\n",
              "  <thead>\n",
              "    <tr style=\"text-align: right;\">\n",
              "      <th></th>\n",
              "      <th>id</th>\n",
              "      <th>gender</th>\n",
              "      <th>age</th>\n",
              "      <th>hypertension</th>\n",
              "      <th>heart_disease</th>\n",
              "      <th>ever_married</th>\n",
              "      <th>work_type</th>\n",
              "      <th>Residence_type</th>\n",
              "      <th>avg_glucose_level</th>\n",
              "      <th>bmi</th>\n",
              "      <th>smoking_status</th>\n",
              "      <th>stroke</th>\n",
              "    </tr>\n",
              "  </thead>\n",
              "  <tbody>\n",
              "    <tr>\n",
              "      <th>0</th>\n",
              "      <td>9046</td>\n",
              "      <td>Male</td>\n",
              "      <td>67.0</td>\n",
              "      <td>0</td>\n",
              "      <td>1</td>\n",
              "      <td>Yes</td>\n",
              "      <td>Private</td>\n",
              "      <td>Urban</td>\n",
              "      <td>228.69</td>\n",
              "      <td>36.6</td>\n",
              "      <td>formerly smoked</td>\n",
              "      <td>1</td>\n",
              "    </tr>\n",
              "    <tr>\n",
              "      <th>1</th>\n",
              "      <td>51676</td>\n",
              "      <td>Female</td>\n",
              "      <td>61.0</td>\n",
              "      <td>0</td>\n",
              "      <td>0</td>\n",
              "      <td>Yes</td>\n",
              "      <td>Self-employed</td>\n",
              "      <td>Rural</td>\n",
              "      <td>202.21</td>\n",
              "      <td>NaN</td>\n",
              "      <td>never smoked</td>\n",
              "      <td>1</td>\n",
              "    </tr>\n",
              "    <tr>\n",
              "      <th>2</th>\n",
              "      <td>31112</td>\n",
              "      <td>Male</td>\n",
              "      <td>80.0</td>\n",
              "      <td>0</td>\n",
              "      <td>1</td>\n",
              "      <td>Yes</td>\n",
              "      <td>Private</td>\n",
              "      <td>Rural</td>\n",
              "      <td>105.92</td>\n",
              "      <td>32.5</td>\n",
              "      <td>never smoked</td>\n",
              "      <td>1</td>\n",
              "    </tr>\n",
              "    <tr>\n",
              "      <th>3</th>\n",
              "      <td>60182</td>\n",
              "      <td>Female</td>\n",
              "      <td>49.0</td>\n",
              "      <td>0</td>\n",
              "      <td>0</td>\n",
              "      <td>Yes</td>\n",
              "      <td>Private</td>\n",
              "      <td>Urban</td>\n",
              "      <td>171.23</td>\n",
              "      <td>34.4</td>\n",
              "      <td>smokes</td>\n",
              "      <td>1</td>\n",
              "    </tr>\n",
              "    <tr>\n",
              "      <th>4</th>\n",
              "      <td>1665</td>\n",
              "      <td>Female</td>\n",
              "      <td>79.0</td>\n",
              "      <td>1</td>\n",
              "      <td>0</td>\n",
              "      <td>Yes</td>\n",
              "      <td>Self-employed</td>\n",
              "      <td>Rural</td>\n",
              "      <td>174.12</td>\n",
              "      <td>24.0</td>\n",
              "      <td>never smoked</td>\n",
              "      <td>1</td>\n",
              "    </tr>\n",
              "  </tbody>\n",
              "</table>\n",
              "</div>\n",
              "      <button class=\"colab-df-convert\" onclick=\"convertToInteractive('df-031a98e3-f486-4fc1-925c-140b7789a1bb')\"\n",
              "              title=\"Convert this dataframe to an interactive table.\"\n",
              "              style=\"display:none;\">\n",
              "        \n",
              "  <svg xmlns=\"http://www.w3.org/2000/svg\" height=\"24px\"viewBox=\"0 0 24 24\"\n",
              "       width=\"24px\">\n",
              "    <path d=\"M0 0h24v24H0V0z\" fill=\"none\"/>\n",
              "    <path d=\"M18.56 5.44l.94 2.06.94-2.06 2.06-.94-2.06-.94-.94-2.06-.94 2.06-2.06.94zm-11 1L8.5 8.5l.94-2.06 2.06-.94-2.06-.94L8.5 2.5l-.94 2.06-2.06.94zm10 10l.94 2.06.94-2.06 2.06-.94-2.06-.94-.94-2.06-.94 2.06-2.06.94z\"/><path d=\"M17.41 7.96l-1.37-1.37c-.4-.4-.92-.59-1.43-.59-.52 0-1.04.2-1.43.59L10.3 9.45l-7.72 7.72c-.78.78-.78 2.05 0 2.83L4 21.41c.39.39.9.59 1.41.59.51 0 1.02-.2 1.41-.59l7.78-7.78 2.81-2.81c.8-.78.8-2.07 0-2.86zM5.41 20L4 18.59l7.72-7.72 1.47 1.35L5.41 20z\"/>\n",
              "  </svg>\n",
              "      </button>\n",
              "      \n",
              "  <style>\n",
              "    .colab-df-container {\n",
              "      display:flex;\n",
              "      flex-wrap:wrap;\n",
              "      gap: 12px;\n",
              "    }\n",
              "\n",
              "    .colab-df-convert {\n",
              "      background-color: #E8F0FE;\n",
              "      border: none;\n",
              "      border-radius: 50%;\n",
              "      cursor: pointer;\n",
              "      display: none;\n",
              "      fill: #1967D2;\n",
              "      height: 32px;\n",
              "      padding: 0 0 0 0;\n",
              "      width: 32px;\n",
              "    }\n",
              "\n",
              "    .colab-df-convert:hover {\n",
              "      background-color: #E2EBFA;\n",
              "      box-shadow: 0px 1px 2px rgba(60, 64, 67, 0.3), 0px 1px 3px 1px rgba(60, 64, 67, 0.15);\n",
              "      fill: #174EA6;\n",
              "    }\n",
              "\n",
              "    [theme=dark] .colab-df-convert {\n",
              "      background-color: #3B4455;\n",
              "      fill: #D2E3FC;\n",
              "    }\n",
              "\n",
              "    [theme=dark] .colab-df-convert:hover {\n",
              "      background-color: #434B5C;\n",
              "      box-shadow: 0px 1px 3px 1px rgba(0, 0, 0, 0.15);\n",
              "      filter: drop-shadow(0px 1px 2px rgba(0, 0, 0, 0.3));\n",
              "      fill: #FFFFFF;\n",
              "    }\n",
              "  </style>\n",
              "\n",
              "      <script>\n",
              "        const buttonEl =\n",
              "          document.querySelector('#df-031a98e3-f486-4fc1-925c-140b7789a1bb button.colab-df-convert');\n",
              "        buttonEl.style.display =\n",
              "          google.colab.kernel.accessAllowed ? 'block' : 'none';\n",
              "\n",
              "        async function convertToInteractive(key) {\n",
              "          const element = document.querySelector('#df-031a98e3-f486-4fc1-925c-140b7789a1bb');\n",
              "          const dataTable =\n",
              "            await google.colab.kernel.invokeFunction('convertToInteractive',\n",
              "                                                     [key], {});\n",
              "          if (!dataTable) return;\n",
              "\n",
              "          const docLinkHtml = 'Like what you see? Visit the ' +\n",
              "            '<a target=\"_blank\" href=https://colab.research.google.com/notebooks/data_table.ipynb>data table notebook</a>'\n",
              "            + ' to learn more about interactive tables.';\n",
              "          element.innerHTML = '';\n",
              "          dataTable['output_type'] = 'display_data';\n",
              "          await google.colab.output.renderOutput(dataTable, element);\n",
              "          const docLink = document.createElement('div');\n",
              "          docLink.innerHTML = docLinkHtml;\n",
              "          element.appendChild(docLink);\n",
              "        }\n",
              "      </script>\n",
              "    </div>\n",
              "  </div>\n",
              "  "
            ]
          },
          "metadata": {},
          "execution_count": 4
        }
      ]
    },
    {
      "cell_type": "markdown",
      "source": [
        "  How many Rows/Columns:"
      ],
      "metadata": {
        "id": "dKpJVqquutMQ"
      }
    },
    {
      "cell_type": "code",
      "source": [
        "# Display the number of rows and columns\n",
        "df.shape\n",
        "print(f'There are {df.shape[0]} rows, and {df.shape[1]} columns')\n",
        "print(f'The rows represent {df.shape[0]} observations, and the columns represent {df.shape[1]-1} features and 1 target variable.')"
      ],
      "metadata": {
        "colab": {
          "base_uri": "https://localhost:8080/"
        },
        "id": "CD9rbZePqW_x",
        "outputId": "37a832f7-e59c-4c89-a72d-de2f15bb67de"
      },
      "execution_count": 5,
      "outputs": [
        {
          "output_type": "stream",
          "name": "stdout",
          "text": [
            "There are 5110 rows, and 12 columns\n",
            "The rows represent 5110 observations, and the columns represent 11 features and 1 target variable.\n"
          ]
        }
      ]
    },
    {
      "cell_type": "markdown",
      "source": [
        "##### **Display Column Names, Count of Non-Null Values, and Data Types**"
      ],
      "metadata": {
        "id": "dtbz0D0YPs_Z"
      }
    },
    {
      "cell_type": "code",
      "source": [
        "# Display index, columns, null count, and data types\n",
        "df.info()"
      ],
      "metadata": {
        "colab": {
          "base_uri": "https://localhost:8080/"
        },
        "id": "gAwLxKPTqPOz",
        "outputId": "42b8482b-0254-46d0-af42-427240daa948"
      },
      "execution_count": 6,
      "outputs": [
        {
          "output_type": "stream",
          "name": "stdout",
          "text": [
            "<class 'pandas.core.frame.DataFrame'>\n",
            "RangeIndex: 5110 entries, 0 to 5109\n",
            "Data columns (total 12 columns):\n",
            " #   Column             Non-Null Count  Dtype  \n",
            "---  ------             --------------  -----  \n",
            " 0   id                 5110 non-null   int64  \n",
            " 1   gender             5110 non-null   object \n",
            " 2   age                5110 non-null   float64\n",
            " 3   hypertension       5110 non-null   int64  \n",
            " 4   heart_disease      5110 non-null   int64  \n",
            " 5   ever_married       5110 non-null   object \n",
            " 6   work_type          5110 non-null   object \n",
            " 7   Residence_type     5110 non-null   object \n",
            " 8   avg_glucose_level  5110 non-null   float64\n",
            " 9   bmi                4909 non-null   float64\n",
            " 10  smoking_status     5110 non-null   object \n",
            " 11  stroke             5110 non-null   int64  \n",
            "dtypes: float64(3), int64(4), object(5)\n",
            "memory usage: 479.2+ KB\n"
          ]
        }
      ]
    },
    {
      "cell_type": "markdown",
      "source": [
        "#**Clean Data**\n",
        "\n",
        "   "
      ],
      "metadata": {
        "id": "a9YRP1YXJsUE"
      }
    },
    {
      "cell_type": "markdown",
      "source": [
        "Checking the data types:"
      ],
      "metadata": {
        "id": "NfTXzlZH2Lgx"
      }
    },
    {
      "cell_type": "code",
      "source": [
        "# Display data types\n",
        "df.dtypes"
      ],
      "metadata": {
        "colab": {
          "base_uri": "https://localhost:8080/"
        },
        "id": "_yHpk9VW1xfN",
        "outputId": "f1026e8f-ddbc-4580-c99d-f74ce5374964"
      },
      "execution_count": 7,
      "outputs": [
        {
          "output_type": "execute_result",
          "data": {
            "text/plain": [
              "id                     int64\n",
              "gender                object\n",
              "age                  float64\n",
              "hypertension           int64\n",
              "heart_disease          int64\n",
              "ever_married          object\n",
              "work_type             object\n",
              "Residence_type        object\n",
              "avg_glucose_level    float64\n",
              "bmi                  float64\n",
              "smoking_status        object\n",
              "stroke                 int64\n",
              "dtype: object"
            ]
          },
          "metadata": {},
          "execution_count": 7
        }
      ]
    },
    {
      "cell_type": "markdown",
      "source": [
        "- The dataset has a combination of categorical (object) and numeric (float and int) data types.\n",
        "- No mismatched data types were found."
      ],
      "metadata": {
        "id": "h-FBcNQqMQ50"
      }
    },
    {
      "cell_type": "markdown",
      "source": [
        "Identifying missing values:"
      ],
      "metadata": {
        "id": "lr8jc-y83XXU"
      }
    },
    {
      "cell_type": "code",
      "source": [
        "#Display total number of missing values\n",
        "missing_values= df.isna().sum().sum()\n",
        "print(f\"Total number of missing values is {missing_values}\")"
      ],
      "metadata": {
        "colab": {
          "base_uri": "https://localhost:8080/"
        },
        "id": "zwT22ExwMnDe",
        "outputId": "17e96cf3-ad5c-4997-afa9-b2781f2eee6a"
      },
      "execution_count": 8,
      "outputs": [
        {
          "output_type": "stream",
          "name": "stdout",
          "text": [
            "Total number of missing values is 201\n"
          ]
        }
      ]
    },
    {
      "cell_type": "code",
      "source": [
        "# Display the count of missing values for each column\n",
        "df.isna().sum()"
      ],
      "metadata": {
        "colab": {
          "base_uri": "https://localhost:8080/"
        },
        "id": "C_klf1oBrmMT",
        "outputId": "bba8238b-38ae-43ec-9852-e3056428a253"
      },
      "execution_count": 9,
      "outputs": [
        {
          "output_type": "execute_result",
          "data": {
            "text/plain": [
              "id                     0\n",
              "gender                 0\n",
              "age                    0\n",
              "hypertension           0\n",
              "heart_disease          0\n",
              "ever_married           0\n",
              "work_type              0\n",
              "Residence_type         0\n",
              "avg_glucose_level      0\n",
              "bmi                  201\n",
              "smoking_status         0\n",
              "stroke                 0\n",
              "dtype: int64"
            ]
          },
          "metadata": {},
          "execution_count": 9
        }
      ]
    },
    {
      "cell_type": "code",
      "source": [
        "# Display the percentage of missing values for each column\n",
        "df.isna().sum()/len(df) * 100"
      ],
      "metadata": {
        "colab": {
          "base_uri": "https://localhost:8080/"
        },
        "id": "L3ynxJbDM7hN",
        "outputId": "78cd14af-f1b9-40dd-af28-aaed1f42a620"
      },
      "execution_count": 10,
      "outputs": [
        {
          "output_type": "execute_result",
          "data": {
            "text/plain": [
              "id                   0.000000\n",
              "gender               0.000000\n",
              "age                  0.000000\n",
              "hypertension         0.000000\n",
              "heart_disease        0.000000\n",
              "ever_married         0.000000\n",
              "work_type            0.000000\n",
              "Residence_type       0.000000\n",
              "avg_glucose_level    0.000000\n",
              "bmi                  3.933464\n",
              "smoking_status       0.000000\n",
              "stroke               0.000000\n",
              "dtype: float64"
            ]
          },
          "metadata": {},
          "execution_count": 10
        }
      ]
    },
    {
      "cell_type": "markdown",
      "source": [
        "There are 3.9% missing values in bmi column.  This will be imputed with SimpleImputer in our preprocessing steps. "
      ],
      "metadata": {
        "id": "fFexgOiZWsy2"
      }
    },
    {
      "cell_type": "markdown",
      "source": [
        "Checking for Duplicates:"
      ],
      "metadata": {
        "id": "w9ZErfA8NlEJ"
      }
    },
    {
      "cell_type": "code",
      "source": [
        "# Display the number of duplicate rows in the dataset\n",
        "print(f'There are {df.duplicated().sum()} duplicate rows.')"
      ],
      "metadata": {
        "colab": {
          "base_uri": "https://localhost:8080/"
        },
        "id": "YaYhvlACNqve",
        "outputId": "4a3453d6-b16c-4529-86ee-0f3cb1f449e1"
      },
      "execution_count": 11,
      "outputs": [
        {
          "output_type": "stream",
          "name": "stdout",
          "text": [
            "There are 0 duplicate rows.\n"
          ]
        }
      ]
    },
    {
      "cell_type": "markdown",
      "source": [
        "Drop Unnecessary Columns:"
      ],
      "metadata": {
        "id": "lbbKIMYrO18F"
      }
    },
    {
      "cell_type": "code",
      "source": [
        "#Drop column\n",
        "df.drop(columns = ['id'], inplace=True)"
      ],
      "metadata": {
        "id": "1-p5F-bxOyi6"
      },
      "execution_count": 12,
      "outputs": []
    },
    {
      "cell_type": "code",
      "source": [
        "df.columns"
      ],
      "metadata": {
        "colab": {
          "base_uri": "https://localhost:8080/"
        },
        "id": "jQuRDFxhQ24U",
        "outputId": "95a34656-33c7-446b-959d-f74f302c20ac"
      },
      "execution_count": 13,
      "outputs": [
        {
          "output_type": "execute_result",
          "data": {
            "text/plain": [
              "Index(['gender', 'age', 'hypertension', 'heart_disease', 'ever_married',\n",
              "       'work_type', 'Residence_type', 'avg_glucose_level', 'bmi',\n",
              "       'smoking_status', 'stroke'],\n",
              "      dtype='object')"
            ]
          },
          "metadata": {},
          "execution_count": 13
        }
      ]
    },
    {
      "cell_type": "markdown",
      "source": [
        "- I have confirmed the 'id' column is now dropped."
      ],
      "metadata": {
        "id": "LqvbERFnQ5en"
      }
    },
    {
      "cell_type": "markdown",
      "source": [
        "##Numerical Columns\n",
        "- Check for inconsistencies in all columns that are Integer or Float data types\n",
        "- Check for unusual or impossible values.\n",
        "- Check for Outliers"
      ],
      "metadata": {
        "id": "TXjP2FBbqVcE"
      }
    },
    {
      "cell_type": "code",
      "source": [
        "#View summary statistics\n",
        "df.describe(include='number')"
      ],
      "metadata": {
        "colab": {
          "base_uri": "https://localhost:8080/",
          "height": 300
        },
        "id": "oP_YKe4eQZ-q",
        "outputId": "940e6108-9f98-4dec-e109-f9985711d121"
      },
      "execution_count": 14,
      "outputs": [
        {
          "output_type": "execute_result",
          "data": {
            "text/plain": [
              "               age  hypertension  heart_disease  avg_glucose_level  \\\n",
              "count  5110.000000   5110.000000    5110.000000        5110.000000   \n",
              "mean     43.226614      0.097456       0.054012         106.147677   \n",
              "std      22.612647      0.296607       0.226063          45.283560   \n",
              "min       0.080000      0.000000       0.000000          55.120000   \n",
              "25%      25.000000      0.000000       0.000000          77.245000   \n",
              "50%      45.000000      0.000000       0.000000          91.885000   \n",
              "75%      61.000000      0.000000       0.000000         114.090000   \n",
              "max      82.000000      1.000000       1.000000         271.740000   \n",
              "\n",
              "               bmi       stroke  \n",
              "count  4909.000000  5110.000000  \n",
              "mean     28.893237     0.048728  \n",
              "std       7.854067     0.215320  \n",
              "min      10.300000     0.000000  \n",
              "25%      23.500000     0.000000  \n",
              "50%      28.100000     0.000000  \n",
              "75%      33.100000     0.000000  \n",
              "max      97.600000     1.000000  "
            ],
            "text/html": [
              "\n",
              "  <div id=\"df-f0af91a0-1907-43e9-80e2-d562c79a6f32\">\n",
              "    <div class=\"colab-df-container\">\n",
              "      <div>\n",
              "<style scoped>\n",
              "    .dataframe tbody tr th:only-of-type {\n",
              "        vertical-align: middle;\n",
              "    }\n",
              "\n",
              "    .dataframe tbody tr th {\n",
              "        vertical-align: top;\n",
              "    }\n",
              "\n",
              "    .dataframe thead th {\n",
              "        text-align: right;\n",
              "    }\n",
              "</style>\n",
              "<table border=\"1\" class=\"dataframe\">\n",
              "  <thead>\n",
              "    <tr style=\"text-align: right;\">\n",
              "      <th></th>\n",
              "      <th>age</th>\n",
              "      <th>hypertension</th>\n",
              "      <th>heart_disease</th>\n",
              "      <th>avg_glucose_level</th>\n",
              "      <th>bmi</th>\n",
              "      <th>stroke</th>\n",
              "    </tr>\n",
              "  </thead>\n",
              "  <tbody>\n",
              "    <tr>\n",
              "      <th>count</th>\n",
              "      <td>5110.000000</td>\n",
              "      <td>5110.000000</td>\n",
              "      <td>5110.000000</td>\n",
              "      <td>5110.000000</td>\n",
              "      <td>4909.000000</td>\n",
              "      <td>5110.000000</td>\n",
              "    </tr>\n",
              "    <tr>\n",
              "      <th>mean</th>\n",
              "      <td>43.226614</td>\n",
              "      <td>0.097456</td>\n",
              "      <td>0.054012</td>\n",
              "      <td>106.147677</td>\n",
              "      <td>28.893237</td>\n",
              "      <td>0.048728</td>\n",
              "    </tr>\n",
              "    <tr>\n",
              "      <th>std</th>\n",
              "      <td>22.612647</td>\n",
              "      <td>0.296607</td>\n",
              "      <td>0.226063</td>\n",
              "      <td>45.283560</td>\n",
              "      <td>7.854067</td>\n",
              "      <td>0.215320</td>\n",
              "    </tr>\n",
              "    <tr>\n",
              "      <th>min</th>\n",
              "      <td>0.080000</td>\n",
              "      <td>0.000000</td>\n",
              "      <td>0.000000</td>\n",
              "      <td>55.120000</td>\n",
              "      <td>10.300000</td>\n",
              "      <td>0.000000</td>\n",
              "    </tr>\n",
              "    <tr>\n",
              "      <th>25%</th>\n",
              "      <td>25.000000</td>\n",
              "      <td>0.000000</td>\n",
              "      <td>0.000000</td>\n",
              "      <td>77.245000</td>\n",
              "      <td>23.500000</td>\n",
              "      <td>0.000000</td>\n",
              "    </tr>\n",
              "    <tr>\n",
              "      <th>50%</th>\n",
              "      <td>45.000000</td>\n",
              "      <td>0.000000</td>\n",
              "      <td>0.000000</td>\n",
              "      <td>91.885000</td>\n",
              "      <td>28.100000</td>\n",
              "      <td>0.000000</td>\n",
              "    </tr>\n",
              "    <tr>\n",
              "      <th>75%</th>\n",
              "      <td>61.000000</td>\n",
              "      <td>0.000000</td>\n",
              "      <td>0.000000</td>\n",
              "      <td>114.090000</td>\n",
              "      <td>33.100000</td>\n",
              "      <td>0.000000</td>\n",
              "    </tr>\n",
              "    <tr>\n",
              "      <th>max</th>\n",
              "      <td>82.000000</td>\n",
              "      <td>1.000000</td>\n",
              "      <td>1.000000</td>\n",
              "      <td>271.740000</td>\n",
              "      <td>97.600000</td>\n",
              "      <td>1.000000</td>\n",
              "    </tr>\n",
              "  </tbody>\n",
              "</table>\n",
              "</div>\n",
              "      <button class=\"colab-df-convert\" onclick=\"convertToInteractive('df-f0af91a0-1907-43e9-80e2-d562c79a6f32')\"\n",
              "              title=\"Convert this dataframe to an interactive table.\"\n",
              "              style=\"display:none;\">\n",
              "        \n",
              "  <svg xmlns=\"http://www.w3.org/2000/svg\" height=\"24px\"viewBox=\"0 0 24 24\"\n",
              "       width=\"24px\">\n",
              "    <path d=\"M0 0h24v24H0V0z\" fill=\"none\"/>\n",
              "    <path d=\"M18.56 5.44l.94 2.06.94-2.06 2.06-.94-2.06-.94-.94-2.06-.94 2.06-2.06.94zm-11 1L8.5 8.5l.94-2.06 2.06-.94-2.06-.94L8.5 2.5l-.94 2.06-2.06.94zm10 10l.94 2.06.94-2.06 2.06-.94-2.06-.94-.94-2.06-.94 2.06-2.06.94z\"/><path d=\"M17.41 7.96l-1.37-1.37c-.4-.4-.92-.59-1.43-.59-.52 0-1.04.2-1.43.59L10.3 9.45l-7.72 7.72c-.78.78-.78 2.05 0 2.83L4 21.41c.39.39.9.59 1.41.59.51 0 1.02-.2 1.41-.59l7.78-7.78 2.81-2.81c.8-.78.8-2.07 0-2.86zM5.41 20L4 18.59l7.72-7.72 1.47 1.35L5.41 20z\"/>\n",
              "  </svg>\n",
              "      </button>\n",
              "      \n",
              "  <style>\n",
              "    .colab-df-container {\n",
              "      display:flex;\n",
              "      flex-wrap:wrap;\n",
              "      gap: 12px;\n",
              "    }\n",
              "\n",
              "    .colab-df-convert {\n",
              "      background-color: #E8F0FE;\n",
              "      border: none;\n",
              "      border-radius: 50%;\n",
              "      cursor: pointer;\n",
              "      display: none;\n",
              "      fill: #1967D2;\n",
              "      height: 32px;\n",
              "      padding: 0 0 0 0;\n",
              "      width: 32px;\n",
              "    }\n",
              "\n",
              "    .colab-df-convert:hover {\n",
              "      background-color: #E2EBFA;\n",
              "      box-shadow: 0px 1px 2px rgba(60, 64, 67, 0.3), 0px 1px 3px 1px rgba(60, 64, 67, 0.15);\n",
              "      fill: #174EA6;\n",
              "    }\n",
              "\n",
              "    [theme=dark] .colab-df-convert {\n",
              "      background-color: #3B4455;\n",
              "      fill: #D2E3FC;\n",
              "    }\n",
              "\n",
              "    [theme=dark] .colab-df-convert:hover {\n",
              "      background-color: #434B5C;\n",
              "      box-shadow: 0px 1px 3px 1px rgba(0, 0, 0, 0.15);\n",
              "      filter: drop-shadow(0px 1px 2px rgba(0, 0, 0, 0.3));\n",
              "      fill: #FFFFFF;\n",
              "    }\n",
              "  </style>\n",
              "\n",
              "      <script>\n",
              "        const buttonEl =\n",
              "          document.querySelector('#df-f0af91a0-1907-43e9-80e2-d562c79a6f32 button.colab-df-convert');\n",
              "        buttonEl.style.display =\n",
              "          google.colab.kernel.accessAllowed ? 'block' : 'none';\n",
              "\n",
              "        async function convertToInteractive(key) {\n",
              "          const element = document.querySelector('#df-f0af91a0-1907-43e9-80e2-d562c79a6f32');\n",
              "          const dataTable =\n",
              "            await google.colab.kernel.invokeFunction('convertToInteractive',\n",
              "                                                     [key], {});\n",
              "          if (!dataTable) return;\n",
              "\n",
              "          const docLinkHtml = 'Like what you see? Visit the ' +\n",
              "            '<a target=\"_blank\" href=https://colab.research.google.com/notebooks/data_table.ipynb>data table notebook</a>'\n",
              "            + ' to learn more about interactive tables.';\n",
              "          element.innerHTML = '';\n",
              "          dataTable['output_type'] = 'display_data';\n",
              "          await google.colab.output.renderOutput(dataTable, element);\n",
              "          const docLink = document.createElement('div');\n",
              "          docLink.innerHTML = docLinkHtml;\n",
              "          element.appendChild(docLink);\n",
              "        }\n",
              "      </script>\n",
              "    </div>\n",
              "  </div>\n",
              "  "
            ]
          },
          "metadata": {},
          "execution_count": 14
        }
      ]
    },
    {
      "cell_type": "markdown",
      "source": [
        "- The only unusual values I see are for the age.  An age of .08 doesn't make sense.  Lets investigate further.   "
      ],
      "metadata": {
        "id": "_OD3j9weSDuO"
      }
    },
    {
      "cell_type": "markdown",
      "source": [
        "### Age Column"
      ],
      "metadata": {
        "id": "Mcui0l_tU6xC"
      }
    },
    {
      "cell_type": "code",
      "source": [
        "df['age'].value_counts()"
      ],
      "metadata": {
        "colab": {
          "base_uri": "https://localhost:8080/"
        },
        "id": "GVDaVfs_OjiN",
        "outputId": "f3e80185-1865-4936-c3af-6adb111c8add"
      },
      "execution_count": 15,
      "outputs": [
        {
          "output_type": "execute_result",
          "data": {
            "text/plain": [
              "78.00    102\n",
              "57.00     95\n",
              "52.00     90\n",
              "54.00     87\n",
              "51.00     86\n",
              "        ... \n",
              "1.40       3\n",
              "0.48       3\n",
              "0.16       3\n",
              "0.40       2\n",
              "0.08       2\n",
              "Name: age, Length: 104, dtype: int64"
            ]
          },
          "metadata": {},
          "execution_count": 15
        }
      ]
    },
    {
      "cell_type": "markdown",
      "source": [
        "- There are some floats we need to convert to whole numbers. "
      ],
      "metadata": {
        "id": "C5UnI6u7RNk7"
      }
    },
    {
      "cell_type": "code",
      "source": [
        "df['age'] = df['age'].round(0)"
      ],
      "metadata": {
        "id": "xV6amUJCTs2s"
      },
      "execution_count": 16,
      "outputs": []
    },
    {
      "cell_type": "code",
      "source": [
        "df['age'].value_counts()"
      ],
      "metadata": {
        "colab": {
          "base_uri": "https://localhost:8080/"
        },
        "id": "PG197LcGTvFt",
        "outputId": "8b480686-0a47-4a80-e7b0-c068276551e8"
      },
      "execution_count": 17,
      "outputs": [
        {
          "output_type": "execute_result",
          "data": {
            "text/plain": [
              "78.0    102\n",
              "57.0     95\n",
              "2.0      90\n",
              "52.0     90\n",
              "54.0     87\n",
              "       ... \n",
              "10.0     35\n",
              "4.0      34\n",
              "7.0      32\n",
              "6.0      24\n",
              "0.0      20\n",
              "Name: age, Length: 83, dtype: int64"
            ]
          },
          "metadata": {},
          "execution_count": 17
        }
      ]
    },
    {
      "cell_type": "markdown",
      "source": [
        "I can see we now have 20 ages that are 0, lets round those up to 1. "
      ],
      "metadata": {
        "id": "iH9zeWHuT9k1"
      }
    },
    {
      "cell_type": "code",
      "source": [
        "df['age'] = df['age'].replace(0, 1)"
      ],
      "metadata": {
        "id": "uQ9VUxRZUChN"
      },
      "execution_count": 18,
      "outputs": []
    },
    {
      "cell_type": "code",
      "source": [
        "df['age'].value_counts()"
      ],
      "metadata": {
        "colab": {
          "base_uri": "https://localhost:8080/"
        },
        "id": "sd5KvGgaUW45",
        "outputId": "0c310712-0732-41cb-9c9f-fbfa29b07375"
      },
      "execution_count": 19,
      "outputs": [
        {
          "output_type": "execute_result",
          "data": {
            "text/plain": [
              "78.0    102\n",
              "57.0     95\n",
              "2.0      90\n",
              "52.0     90\n",
              "54.0     87\n",
              "       ... \n",
              "11.0     36\n",
              "10.0     35\n",
              "4.0      34\n",
              "7.0      32\n",
              "6.0      24\n",
              "Name: age, Length: 82, dtype: int64"
            ]
          },
          "metadata": {},
          "execution_count": 19
        }
      ]
    },
    {
      "cell_type": "code",
      "source": [
        "df['age'].describe()"
      ],
      "metadata": {
        "colab": {
          "base_uri": "https://localhost:8080/"
        },
        "id": "URj9ogPgUZaR",
        "outputId": "5cd017b2-4e17-43b9-df19-e5de03bac50b"
      },
      "execution_count": 20,
      "outputs": [
        {
          "output_type": "execute_result",
          "data": {
            "text/plain": [
              "count    5110.000000\n",
              "mean       43.230528\n",
              "std        22.605333\n",
              "min         1.000000\n",
              "25%        25.000000\n",
              "50%        45.000000\n",
              "75%        61.000000\n",
              "max        82.000000\n",
              "Name: age, dtype: float64"
            ]
          },
          "metadata": {},
          "execution_count": 20
        }
      ]
    },
    {
      "cell_type": "markdown",
      "source": [
        "- We now have a minimum age of 1 and a maximum age of 82"
      ],
      "metadata": {
        "id": "ath0cYJIUe43"
      }
    },
    {
      "cell_type": "markdown",
      "source": [
        "### Hypertension Column"
      ],
      "metadata": {
        "id": "xrVICClzU_Vt"
      }
    },
    {
      "cell_type": "code",
      "source": [
        "df['hypertension'].unique()"
      ],
      "metadata": {
        "colab": {
          "base_uri": "https://localhost:8080/"
        },
        "id": "162xwALSVD3K",
        "outputId": "f039ebdf-38d7-42fe-aa1d-2de7b4a7ccc7"
      },
      "execution_count": 21,
      "outputs": [
        {
          "output_type": "execute_result",
          "data": {
            "text/plain": [
              "array([0, 1])"
            ]
          },
          "metadata": {},
          "execution_count": 21
        }
      ]
    },
    {
      "cell_type": "markdown",
      "source": [
        "### Heart Disease Column"
      ],
      "metadata": {
        "id": "SMCTJJnzVI5K"
      }
    },
    {
      "cell_type": "code",
      "source": [
        "df['heart_disease'].unique()"
      ],
      "metadata": {
        "colab": {
          "base_uri": "https://localhost:8080/"
        },
        "id": "wTRoZiJhVRGE",
        "outputId": "3299e8c4-7f68-4ed0-ca7c-0c320a6bd683"
      },
      "execution_count": 22,
      "outputs": [
        {
          "output_type": "execute_result",
          "data": {
            "text/plain": [
              "array([1, 0])"
            ]
          },
          "metadata": {},
          "execution_count": 22
        }
      ]
    },
    {
      "cell_type": "markdown",
      "source": [
        "### Average Glucose Level Column"
      ],
      "metadata": {
        "id": "Bn6xzO_dVd5C"
      }
    },
    {
      "cell_type": "code",
      "source": [
        "df['avg_glucose_level'].unique()"
      ],
      "metadata": {
        "colab": {
          "base_uri": "https://localhost:8080/"
        },
        "id": "wYlwuunIVVIu",
        "outputId": "080c1735-e883-45f3-d72e-b347588772cf"
      },
      "execution_count": 23,
      "outputs": [
        {
          "output_type": "execute_result",
          "data": {
            "text/plain": [
              "array([228.69, 202.21, 105.92, ...,  82.99, 166.29,  85.28])"
            ]
          },
          "metadata": {},
          "execution_count": 23
        }
      ]
    },
    {
      "cell_type": "markdown",
      "source": [
        "### BMI Column"
      ],
      "metadata": {
        "id": "vRB7Tj0rVkPc"
      }
    },
    {
      "cell_type": "code",
      "source": [
        "df['bmi'].unique()"
      ],
      "metadata": {
        "colab": {
          "base_uri": "https://localhost:8080/"
        },
        "id": "DR3yNGcFVma9",
        "outputId": "98c9bdb4-a24c-4f64-b474-902d6294ae94"
      },
      "execution_count": 24,
      "outputs": [
        {
          "output_type": "execute_result",
          "data": {
            "text/plain": [
              "array([36.6,  nan, 32.5, 34.4, 24. , 29. , 27.4, 22.8, 24.2, 29.7, 36.8,\n",
              "       27.3, 28.2, 30.9, 37.5, 25.8, 37.8, 22.4, 48.9, 26.6, 27.2, 23.5,\n",
              "       28.3, 44.2, 25.4, 22.2, 30.5, 26.5, 33.7, 23.1, 32. , 29.9, 23.9,\n",
              "       28.5, 26.4, 20.2, 33.6, 38.6, 39.2, 27.7, 31.4, 36.5, 33.2, 32.8,\n",
              "       40.4, 25.3, 30.2, 47.5, 20.3, 30. , 28.9, 28.1, 31.1, 21.7, 27. ,\n",
              "       24.1, 45.9, 44.1, 22.9, 29.1, 32.3, 41.1, 25.6, 29.8, 26.3, 26.2,\n",
              "       29.4, 24.4, 28. , 28.8, 34.6, 19.4, 30.3, 41.5, 22.6, 56.6, 27.1,\n",
              "       31.3, 31. , 31.7, 35.8, 28.4, 20.1, 26.7, 38.7, 34.9, 25. , 23.8,\n",
              "       21.8, 27.5, 24.6, 32.9, 26.1, 31.9, 34.1, 36.9, 37.3, 45.7, 34.2,\n",
              "       23.6, 22.3, 37.1, 45. , 25.5, 30.8, 37.4, 34.5, 27.9, 29.5, 46. ,\n",
              "       42.5, 35.5, 26.9, 45.5, 31.5, 33. , 23.4, 30.7, 20.5, 21.5, 40. ,\n",
              "       28.6, 42.2, 29.6, 35.4, 16.9, 26.8, 39.3, 32.6, 35.9, 21.2, 42.4,\n",
              "       40.5, 36.7, 29.3, 19.6, 18. , 17.6, 19.1, 50.1, 17.7, 54.6, 35. ,\n",
              "       22. , 39.4, 19.7, 22.5, 25.2, 41.8, 60.9, 23.7, 24.5, 31.2, 16. ,\n",
              "       31.6, 25.1, 24.8, 18.3, 20. , 19.5, 36. , 35.3, 40.1, 43.1, 21.4,\n",
              "       34.3, 27.6, 16.5, 24.3, 25.7, 21.9, 38.4, 25.9, 54.7, 18.6, 24.9,\n",
              "       48.2, 20.7, 39.5, 23.3, 64.8, 35.1, 43.6, 21. , 47.3, 16.6, 21.6,\n",
              "       15.5, 35.6, 16.7, 41.9, 16.4, 17.1, 29.2, 37.9, 44.6, 39.6, 40.3,\n",
              "       41.6, 39. , 23.2, 18.9, 36.1, 36.3, 46.5, 16.8, 46.6, 35.2, 20.9,\n",
              "       13.8, 31.8, 15.3, 38.2, 45.2, 17. , 49.8, 27.8, 60.2, 23. , 22.1,\n",
              "       26. , 44.3, 51. , 39.7, 34.7, 21.3, 41.2, 34.8, 19.2, 35.7, 40.8,\n",
              "       24.7, 19. , 32.4, 34. , 28.7, 32.1, 51.5, 20.4, 30.6, 71.9, 19.3,\n",
              "       40.9, 17.2, 16.1, 16.2, 40.6, 18.4, 21.1, 42.3, 32.2, 50.2, 17.5,\n",
              "       18.7, 42.1, 47.8, 20.8, 30.1, 17.3, 36.4, 12. , 36.2, 55.7, 14.4,\n",
              "       43. , 41.7, 33.8, 43.9, 22.7, 57.5, 37. , 38.5, 16.3, 44. , 32.7,\n",
              "       54.2, 40.2, 33.3, 17.4, 41.3, 52.3, 14.6, 17.8, 46.1, 33.1, 18.1,\n",
              "       43.8, 50.3, 38.9, 43.7, 39.9, 15.9, 19.8, 12.3, 78. , 38.3, 41. ,\n",
              "       42.6, 43.4, 15.1, 20.6, 33.5, 43.2, 30.4, 38. , 33.4, 44.9, 44.7,\n",
              "       37.6, 39.8, 53.4, 55.2, 42. , 37.2, 42.8, 18.8, 42.9, 14.3, 37.7,\n",
              "       48.4, 50.6, 46.2, 49.5, 43.3, 33.9, 18.5, 44.5, 45.4, 55. , 54.8,\n",
              "       19.9, 17.9, 15.6, 52.8, 15.2, 66.8, 55.1, 18.2, 48.5, 55.9, 57.3,\n",
              "       10.3, 14.1, 15.7, 56. , 44.8, 13.4, 51.8, 38.1, 57.7, 44.4, 38.8,\n",
              "       49.3, 39.1, 54. , 56.1, 97.6, 53.9, 13.7, 11.5, 41.4, 14.2, 49.4,\n",
              "       15.4, 45.1, 49.2, 48.7, 53.8, 42.7, 48.8, 52.7, 53.5, 50.5, 15.8,\n",
              "       45.3, 14.8, 51.9, 63.3, 40.7, 61.2, 48. , 46.8, 48.3, 58.1, 50.4,\n",
              "       11.3, 12.8, 13.5, 14.5, 15. , 59.7, 47.4, 52.5, 13.2, 52.9, 61.6,\n",
              "       49.9, 54.3, 47.9, 13. , 13.9, 50.9, 57.2, 64.4, 92. , 50.8, 57.9,\n",
              "       45.8, 47.6, 14. , 46.4, 46.9, 47.1, 13.3, 48.1, 51.7, 46.3, 54.1,\n",
              "       14.9])"
            ]
          },
          "metadata": {},
          "execution_count": 24
        }
      ]
    },
    {
      "cell_type": "markdown",
      "source": [
        "- There may be some outliers here lets look at a box plot to see where they are later on"
      ],
      "metadata": {
        "id": "TsRRBznC8yBe"
      }
    },
    {
      "cell_type": "markdown",
      "source": [
        "### Stroke Column"
      ],
      "metadata": {
        "id": "PiyA74I6VyIM"
      }
    },
    {
      "cell_type": "code",
      "source": [
        "df['stroke'].unique()"
      ],
      "metadata": {
        "colab": {
          "base_uri": "https://localhost:8080/"
        },
        "id": "ktF3iPwpVzuk",
        "outputId": "733a4fb5-9ad4-4986-e049-2164a4afb460"
      },
      "execution_count": 25,
      "outputs": [
        {
          "output_type": "execute_result",
          "data": {
            "text/plain": [
              "array([1, 0])"
            ]
          },
          "metadata": {},
          "execution_count": 25
        }
      ]
    },
    {
      "cell_type": "markdown",
      "source": [
        "## Categorical Columns\n",
        "- Check for inconsistencies in all columns that are object data types\n"
      ],
      "metadata": {
        "id": "re0HGR1OQLe-"
      }
    },
    {
      "cell_type": "code",
      "source": [
        "#View Summary Statistics for Object data types\n",
        "df.describe(include='object')"
      ],
      "metadata": {
        "colab": {
          "base_uri": "https://localhost:8080/",
          "height": 175
        },
        "id": "Gq_H24frODIY",
        "outputId": "1197b971-5b47-4b7c-f202-101c10e52a34"
      },
      "execution_count": 26,
      "outputs": [
        {
          "output_type": "execute_result",
          "data": {
            "text/plain": [
              "        gender ever_married work_type Residence_type smoking_status\n",
              "count     5110         5110      5110           5110           5110\n",
              "unique       3            2         5              2              4\n",
              "top     Female          Yes   Private          Urban   never smoked\n",
              "freq      2994         3353      2925           2596           1892"
            ],
            "text/html": [
              "\n",
              "  <div id=\"df-34e4a352-e94b-49a8-99b3-cd501fc4aa57\">\n",
              "    <div class=\"colab-df-container\">\n",
              "      <div>\n",
              "<style scoped>\n",
              "    .dataframe tbody tr th:only-of-type {\n",
              "        vertical-align: middle;\n",
              "    }\n",
              "\n",
              "    .dataframe tbody tr th {\n",
              "        vertical-align: top;\n",
              "    }\n",
              "\n",
              "    .dataframe thead th {\n",
              "        text-align: right;\n",
              "    }\n",
              "</style>\n",
              "<table border=\"1\" class=\"dataframe\">\n",
              "  <thead>\n",
              "    <tr style=\"text-align: right;\">\n",
              "      <th></th>\n",
              "      <th>gender</th>\n",
              "      <th>ever_married</th>\n",
              "      <th>work_type</th>\n",
              "      <th>Residence_type</th>\n",
              "      <th>smoking_status</th>\n",
              "    </tr>\n",
              "  </thead>\n",
              "  <tbody>\n",
              "    <tr>\n",
              "      <th>count</th>\n",
              "      <td>5110</td>\n",
              "      <td>5110</td>\n",
              "      <td>5110</td>\n",
              "      <td>5110</td>\n",
              "      <td>5110</td>\n",
              "    </tr>\n",
              "    <tr>\n",
              "      <th>unique</th>\n",
              "      <td>3</td>\n",
              "      <td>2</td>\n",
              "      <td>5</td>\n",
              "      <td>2</td>\n",
              "      <td>4</td>\n",
              "    </tr>\n",
              "    <tr>\n",
              "      <th>top</th>\n",
              "      <td>Female</td>\n",
              "      <td>Yes</td>\n",
              "      <td>Private</td>\n",
              "      <td>Urban</td>\n",
              "      <td>never smoked</td>\n",
              "    </tr>\n",
              "    <tr>\n",
              "      <th>freq</th>\n",
              "      <td>2994</td>\n",
              "      <td>3353</td>\n",
              "      <td>2925</td>\n",
              "      <td>2596</td>\n",
              "      <td>1892</td>\n",
              "    </tr>\n",
              "  </tbody>\n",
              "</table>\n",
              "</div>\n",
              "      <button class=\"colab-df-convert\" onclick=\"convertToInteractive('df-34e4a352-e94b-49a8-99b3-cd501fc4aa57')\"\n",
              "              title=\"Convert this dataframe to an interactive table.\"\n",
              "              style=\"display:none;\">\n",
              "        \n",
              "  <svg xmlns=\"http://www.w3.org/2000/svg\" height=\"24px\"viewBox=\"0 0 24 24\"\n",
              "       width=\"24px\">\n",
              "    <path d=\"M0 0h24v24H0V0z\" fill=\"none\"/>\n",
              "    <path d=\"M18.56 5.44l.94 2.06.94-2.06 2.06-.94-2.06-.94-.94-2.06-.94 2.06-2.06.94zm-11 1L8.5 8.5l.94-2.06 2.06-.94-2.06-.94L8.5 2.5l-.94 2.06-2.06.94zm10 10l.94 2.06.94-2.06 2.06-.94-2.06-.94-.94-2.06-.94 2.06-2.06.94z\"/><path d=\"M17.41 7.96l-1.37-1.37c-.4-.4-.92-.59-1.43-.59-.52 0-1.04.2-1.43.59L10.3 9.45l-7.72 7.72c-.78.78-.78 2.05 0 2.83L4 21.41c.39.39.9.59 1.41.59.51 0 1.02-.2 1.41-.59l7.78-7.78 2.81-2.81c.8-.78.8-2.07 0-2.86zM5.41 20L4 18.59l7.72-7.72 1.47 1.35L5.41 20z\"/>\n",
              "  </svg>\n",
              "      </button>\n",
              "      \n",
              "  <style>\n",
              "    .colab-df-container {\n",
              "      display:flex;\n",
              "      flex-wrap:wrap;\n",
              "      gap: 12px;\n",
              "    }\n",
              "\n",
              "    .colab-df-convert {\n",
              "      background-color: #E8F0FE;\n",
              "      border: none;\n",
              "      border-radius: 50%;\n",
              "      cursor: pointer;\n",
              "      display: none;\n",
              "      fill: #1967D2;\n",
              "      height: 32px;\n",
              "      padding: 0 0 0 0;\n",
              "      width: 32px;\n",
              "    }\n",
              "\n",
              "    .colab-df-convert:hover {\n",
              "      background-color: #E2EBFA;\n",
              "      box-shadow: 0px 1px 2px rgba(60, 64, 67, 0.3), 0px 1px 3px 1px rgba(60, 64, 67, 0.15);\n",
              "      fill: #174EA6;\n",
              "    }\n",
              "\n",
              "    [theme=dark] .colab-df-convert {\n",
              "      background-color: #3B4455;\n",
              "      fill: #D2E3FC;\n",
              "    }\n",
              "\n",
              "    [theme=dark] .colab-df-convert:hover {\n",
              "      background-color: #434B5C;\n",
              "      box-shadow: 0px 1px 3px 1px rgba(0, 0, 0, 0.15);\n",
              "      filter: drop-shadow(0px 1px 2px rgba(0, 0, 0, 0.3));\n",
              "      fill: #FFFFFF;\n",
              "    }\n",
              "  </style>\n",
              "\n",
              "      <script>\n",
              "        const buttonEl =\n",
              "          document.querySelector('#df-34e4a352-e94b-49a8-99b3-cd501fc4aa57 button.colab-df-convert');\n",
              "        buttonEl.style.display =\n",
              "          google.colab.kernel.accessAllowed ? 'block' : 'none';\n",
              "\n",
              "        async function convertToInteractive(key) {\n",
              "          const element = document.querySelector('#df-34e4a352-e94b-49a8-99b3-cd501fc4aa57');\n",
              "          const dataTable =\n",
              "            await google.colab.kernel.invokeFunction('convertToInteractive',\n",
              "                                                     [key], {});\n",
              "          if (!dataTable) return;\n",
              "\n",
              "          const docLinkHtml = 'Like what you see? Visit the ' +\n",
              "            '<a target=\"_blank\" href=https://colab.research.google.com/notebooks/data_table.ipynb>data table notebook</a>'\n",
              "            + ' to learn more about interactive tables.';\n",
              "          element.innerHTML = '';\n",
              "          dataTable['output_type'] = 'display_data';\n",
              "          await google.colab.output.renderOutput(dataTable, element);\n",
              "          const docLink = document.createElement('div');\n",
              "          docLink.innerHTML = docLinkHtml;\n",
              "          element.appendChild(docLink);\n",
              "        }\n",
              "      </script>\n",
              "    </div>\n",
              "  </div>\n",
              "  "
            ]
          },
          "metadata": {},
          "execution_count": 26
        }
      ]
    },
    {
      "cell_type": "code",
      "source": [
        "from scipy.sparse import data\n",
        "# Create a series of the datatypes\n",
        "data_types = df.dtypes\n",
        "# Create a filter to select only the object datatypes\n",
        "object_data_types = data_types[(data_types == 'object')]\n",
        "# Display the series of object datatypes\n",
        "object_data_types"
      ],
      "metadata": {
        "colab": {
          "base_uri": "https://localhost:8080/"
        },
        "id": "8szF98bBmbQB",
        "outputId": "5a8b6f82-51e3-4404-a75a-ed88f22f2a72"
      },
      "execution_count": 27,
      "outputs": [
        {
          "output_type": "execute_result",
          "data": {
            "text/plain": [
              "gender            object\n",
              "ever_married      object\n",
              "work_type         object\n",
              "Residence_type    object\n",
              "smoking_status    object\n",
              "dtype: object"
            ]
          },
          "metadata": {},
          "execution_count": 27
        }
      ]
    },
    {
      "cell_type": "code",
      "source": [
        "## Display the index of object datatypes\n",
        "object_data_types.index"
      ],
      "metadata": {
        "colab": {
          "base_uri": "https://localhost:8080/"
        },
        "id": "LUxECwONmiMG",
        "outputId": "375b494c-edd9-4b38-b44b-04bcfb850d2d"
      },
      "execution_count": 28,
      "outputs": [
        {
          "output_type": "execute_result",
          "data": {
            "text/plain": [
              "Index(['gender', 'ever_married', 'work_type', 'Residence_type',\n",
              "       'smoking_status'],\n",
              "      dtype='object')"
            ]
          },
          "metadata": {},
          "execution_count": 28
        }
      ]
    },
    {
      "cell_type": "code",
      "source": [
        "## Loop through the object datatype columns\n",
        "for column in object_data_types.index:\n",
        "    ## Print the column name\n",
        "    print(column)\n",
        "    ## Print the unique values from the column\n",
        "    print(df[column].unique())\n",
        "    ## Print a blank row\n",
        "    print('\\n')"
      ],
      "metadata": {
        "colab": {
          "base_uri": "https://localhost:8080/"
        },
        "id": "6TaP7b7wmoc5",
        "outputId": "b9042b48-5d18-443d-ca9a-d960ba2cebf2"
      },
      "execution_count": 29,
      "outputs": [
        {
          "output_type": "stream",
          "name": "stdout",
          "text": [
            "gender\n",
            "['Male' 'Female' 'Other']\n",
            "\n",
            "\n",
            "ever_married\n",
            "['Yes' 'No']\n",
            "\n",
            "\n",
            "work_type\n",
            "['Private' 'Self-employed' 'Govt_job' 'children' 'Never_worked']\n",
            "\n",
            "\n",
            "Residence_type\n",
            "['Urban' 'Rural']\n",
            "\n",
            "\n",
            "smoking_status\n",
            "['formerly smoked' 'never smoked' 'smokes' 'Unknown']\n",
            "\n",
            "\n"
          ]
        }
      ]
    },
    {
      "cell_type": "markdown",
      "source": [
        "- No inconsistencies noted"
      ],
      "metadata": {
        "id": "uJeYhZyWWpqz"
      }
    },
    {
      "cell_type": "markdown",
      "source": [
        "# **Exploratory Data Analysis**"
      ],
      "metadata": {
        "id": "jZNgrLlYJscb"
      }
    },
    {
      "cell_type": "markdown",
      "source": [
        "### Functions"
      ],
      "metadata": {
        "id": "smXs2mInstVW"
      }
    },
    {
      "cell_type": "markdown",
      "source": [
        "#### Function to Display Histogram"
      ],
      "metadata": {
        "id": "ICcV5b_Sr_EA"
      }
    },
    {
      "cell_type": "code",
      "source": [
        "# Create a function to create a Histogram\n",
        "def hist_plot(column_name, bin_count):\n",
        "    fig, ax = plt.subplots(nrows=1, figsize=(8,4), facecolor='w')\n",
        "    plt.title(column_name, fontsize = 22, weight='bold')\n",
        "    sns.histplot(data=df, x=column_name, color='#069AF3', \n",
        "                 linewidth=2, bins=bin_count); \n",
        "    plt.xlabel(column_name, fontsize = 16, weight='bold')\n",
        "    plt.xticks(weight='bold')\n",
        "    ax.set_ylabel('Instances',fontweight='bold',fontsize=14)\n",
        "    ax.set_facecolor('lightblue')\n",
        "    ax.tick_params(labelcolor='k', labelsize=10)\n",
        "    ax.yaxis.set_major_formatter(plt.FormatStrFormatter('%d'))\n",
        "\n",
        "    #ax.set_yticklabels(ax.get_yticks(), weight='bold')\n",
        "    for axis in ['top','bottom','left','right']:\n",
        "        ax.spines[axis].set_linewidth(3)"
      ],
      "metadata": {
        "id": "0VYdiBpHsCbE"
      },
      "execution_count": 30,
      "outputs": []
    },
    {
      "cell_type": "markdown",
      "source": [
        "#### Function to Display Histogram and Boxplot"
      ],
      "metadata": {
        "id": "vwxtbjxtrsbO"
      }
    },
    {
      "cell_type": "code",
      "source": [
        "# Create a function to create a Histogram and Boxplot in the same figure\n",
        "def hist_box_plot(column_name, bin_count):\n",
        "    fig, (ax1,ax2) = plt.subplots(nrows =2, sharex=True, figsize=(8, 6), \n",
        "                                  facecolor='w', \n",
        "                                  gridspec_kw={'height_ratios':[0.75, 0.25]})\n",
        "    plt.suptitle(f'{column_name}', y=1.02, va='center', \n",
        "                 fontsize = 22, weight='bold')\n",
        "    sns.histplot(data=df, x=column_name, color='#069AF3', linewidth=2, \n",
        "                 ax=ax1, bins=bin_count);\n",
        "    plt.xlabel(column_name, fontsize = 16, weight='bold')\n",
        "    plt.xticks(weight='bold')\n",
        "    ax1.set_ylabel('Instances',fontweight='bold',fontsize=18)\n",
        "    ax1.set_facecolor('lightblue')\n",
        "    ax1.tick_params(labelcolor='k', labelsize=10)\n",
        "    ax1.yaxis.set_major_formatter(plt.FormatStrFormatter('%d'))\n",
        "    #ax1.set_yticklabels(ax1.get_yticks(), weight='bold')\n",
        "    for axis in ['top','bottom','left','right']:\n",
        "        ax1.spines[axis].set_linewidth(3)\n",
        "    sns.boxplot(data=df, x=column_name, width=.5, color='#069AF3', ax=ax2,\n",
        "                medianprops={'color':'k', 'linewidth':2},\n",
        "                whiskerprops={'color':'k', 'linewidth':2},\n",
        "                boxprops={'facecolor':'#069AF3', \n",
        "                          'edgecolor':'k', 'linewidth':2},\n",
        "                capprops={'color':'k', 'linewidth':3}); \n",
        "    ax2.tick_params(labelcolor='k', labelsize=10)\n",
        "    ax2.yaxis.set_major_formatter(plt.FormatStrFormatter('%d'))\n",
        "    #ax2.set_xticklabels(ax2.get_xticks(), fontweight='bold')\n",
        "    ax2.spines['bottom'].set_linewidth(2)\n",
        "    ax2.spines['top'].set_color(None)\n",
        "    ax2.spines['left'].set_color(None)\n",
        "    ax2.spines['right'].set_color(None)\n",
        "    plt.tight_layout();\n",
        "    plt.show;"
      ],
      "metadata": {
        "id": "rOFiyOTBrrsB"
      },
      "execution_count": 31,
      "outputs": []
    },
    {
      "cell_type": "markdown",
      "source": [
        "#### Function to Display Countplot"
      ],
      "metadata": {
        "id": "BX73cD7wsSn9"
      }
    },
    {
      "cell_type": "code",
      "source": [
        "# Create a function to create a Count Plot\n",
        "def count_plot(column_name, label_order):\n",
        "    fig, ax = plt.subplots(nrows=1, figsize=(8,4), facecolor='w')\n",
        "    plt.title(column_name, fontsize = 22, weight='bold')\n",
        "    sns.countplot(data=df, x=column_name, lw=3, ec='k', \n",
        "                  color='#069AF3', order=label_order)\n",
        "    plt.xlabel('')\n",
        "    plt.xticks(weight='bold')\n",
        "    ax.set_ylabel('Instances', fontweight='bold', fontsize=18)\n",
        "    ax.set_facecolor('lightblue')\n",
        "    ax.tick_params(labelcolor='k', labelsize=12)\n",
        "    ax.yaxis.set_major_formatter(plt.FormatStrFormatter('%d'))\n",
        "    #ax.set_yticklabels(ax.get_yticks(), weight='bold')\n",
        "    for axis in ['top','bottom','left','right']:\n",
        "        ax.spines[axis].set_linewidth(3)\n",
        "    plt.tight_layout()\n",
        "    plt.show;"
      ],
      "metadata": {
        "id": "yej5HMovsRf8"
      },
      "execution_count": 32,
      "outputs": []
    },
    {
      "cell_type": "markdown",
      "source": [
        "####Function to Display Scatter Plot"
      ],
      "metadata": {
        "id": "aLvwy_5uBI5d"
      }
    },
    {
      "cell_type": "code",
      "source": [
        "# Create a function to create a Count Plot\n",
        "# Sex and Age correlation to Stroke\n",
        "def scatter_plot(x,y):\n",
        "    palette_dict = {0: 'indigo' , 1: 'magenta'}\n",
        "    fig, ax = plt.subplots(figsize=(8,4), facecolor='w')\n",
        "    sns.scatterplot(x=x, y=y, hue=\"stroke\", \n",
        "                    palette=palette_dict, data=df);\n",
        "    plt.title(f'{x} and {y} \\ncorrelation to Stroke', fontsize = 18, weight='bold')\n",
        "    plt.xlabel(f'{x}', fontsize = 14, weight='bold')\n",
        "    plt.ylabel(f'{y}', fontsize = 14, weight='bold');\n",
        "    plt.xticks(fontsize = 10, weight='bold')\n",
        "    plt.yticks(fontsize = 10, weight='bold');\n",
        "    ax.set_facecolor('lightblue')\n",
        "    for axis in ['top','bottom','left','right']:\n",
        "        ax.spines[axis].set_linewidth(3)\n",
        "    plt.legend(bbox_to_anchor=(1.23, 1))\n",
        "    plt.tight_layout()\n",
        "    plt.show;"
      ],
      "metadata": {
        "id": "vzNxGj_KBH_i"
      },
      "execution_count": 33,
      "outputs": []
    },
    {
      "cell_type": "markdown",
      "source": [
        "##Numerical Columns\n",
        "\n"
      ],
      "metadata": {
        "id": "Xg4x8reMjw5D"
      }
    },
    {
      "cell_type": "markdown",
      "source": [
        "- For each numeric column, we will visualize the distribution with a histogram and a boxplot."
      ],
      "metadata": {
        "id": "wOpGkN-Vxwsy"
      }
    },
    {
      "cell_type": "markdown",
      "source": [
        "### Summary Statistics"
      ],
      "metadata": {
        "id": "4ykoERo-tg_N"
      }
    },
    {
      "cell_type": "code",
      "source": [
        "df.describe()"
      ],
      "metadata": {
        "colab": {
          "base_uri": "https://localhost:8080/",
          "height": 300
        },
        "id": "GbQ8M4JNs9WR",
        "outputId": "0df182e6-440c-4f83-c3f2-0c2d32694457"
      },
      "execution_count": 34,
      "outputs": [
        {
          "output_type": "execute_result",
          "data": {
            "text/plain": [
              "               age  hypertension  heart_disease  avg_glucose_level  \\\n",
              "count  5110.000000   5110.000000    5110.000000        5110.000000   \n",
              "mean     43.230528      0.097456       0.054012         106.147677   \n",
              "std      22.605333      0.296607       0.226063          45.283560   \n",
              "min       1.000000      0.000000       0.000000          55.120000   \n",
              "25%      25.000000      0.000000       0.000000          77.245000   \n",
              "50%      45.000000      0.000000       0.000000          91.885000   \n",
              "75%      61.000000      0.000000       0.000000         114.090000   \n",
              "max      82.000000      1.000000       1.000000         271.740000   \n",
              "\n",
              "               bmi       stroke  \n",
              "count  4909.000000  5110.000000  \n",
              "mean     28.893237     0.048728  \n",
              "std       7.854067     0.215320  \n",
              "min      10.300000     0.000000  \n",
              "25%      23.500000     0.000000  \n",
              "50%      28.100000     0.000000  \n",
              "75%      33.100000     0.000000  \n",
              "max      97.600000     1.000000  "
            ],
            "text/html": [
              "\n",
              "  <div id=\"df-26593815-1cda-4381-a99a-202280dde206\">\n",
              "    <div class=\"colab-df-container\">\n",
              "      <div>\n",
              "<style scoped>\n",
              "    .dataframe tbody tr th:only-of-type {\n",
              "        vertical-align: middle;\n",
              "    }\n",
              "\n",
              "    .dataframe tbody tr th {\n",
              "        vertical-align: top;\n",
              "    }\n",
              "\n",
              "    .dataframe thead th {\n",
              "        text-align: right;\n",
              "    }\n",
              "</style>\n",
              "<table border=\"1\" class=\"dataframe\">\n",
              "  <thead>\n",
              "    <tr style=\"text-align: right;\">\n",
              "      <th></th>\n",
              "      <th>age</th>\n",
              "      <th>hypertension</th>\n",
              "      <th>heart_disease</th>\n",
              "      <th>avg_glucose_level</th>\n",
              "      <th>bmi</th>\n",
              "      <th>stroke</th>\n",
              "    </tr>\n",
              "  </thead>\n",
              "  <tbody>\n",
              "    <tr>\n",
              "      <th>count</th>\n",
              "      <td>5110.000000</td>\n",
              "      <td>5110.000000</td>\n",
              "      <td>5110.000000</td>\n",
              "      <td>5110.000000</td>\n",
              "      <td>4909.000000</td>\n",
              "      <td>5110.000000</td>\n",
              "    </tr>\n",
              "    <tr>\n",
              "      <th>mean</th>\n",
              "      <td>43.230528</td>\n",
              "      <td>0.097456</td>\n",
              "      <td>0.054012</td>\n",
              "      <td>106.147677</td>\n",
              "      <td>28.893237</td>\n",
              "      <td>0.048728</td>\n",
              "    </tr>\n",
              "    <tr>\n",
              "      <th>std</th>\n",
              "      <td>22.605333</td>\n",
              "      <td>0.296607</td>\n",
              "      <td>0.226063</td>\n",
              "      <td>45.283560</td>\n",
              "      <td>7.854067</td>\n",
              "      <td>0.215320</td>\n",
              "    </tr>\n",
              "    <tr>\n",
              "      <th>min</th>\n",
              "      <td>1.000000</td>\n",
              "      <td>0.000000</td>\n",
              "      <td>0.000000</td>\n",
              "      <td>55.120000</td>\n",
              "      <td>10.300000</td>\n",
              "      <td>0.000000</td>\n",
              "    </tr>\n",
              "    <tr>\n",
              "      <th>25%</th>\n",
              "      <td>25.000000</td>\n",
              "      <td>0.000000</td>\n",
              "      <td>0.000000</td>\n",
              "      <td>77.245000</td>\n",
              "      <td>23.500000</td>\n",
              "      <td>0.000000</td>\n",
              "    </tr>\n",
              "    <tr>\n",
              "      <th>50%</th>\n",
              "      <td>45.000000</td>\n",
              "      <td>0.000000</td>\n",
              "      <td>0.000000</td>\n",
              "      <td>91.885000</td>\n",
              "      <td>28.100000</td>\n",
              "      <td>0.000000</td>\n",
              "    </tr>\n",
              "    <tr>\n",
              "      <th>75%</th>\n",
              "      <td>61.000000</td>\n",
              "      <td>0.000000</td>\n",
              "      <td>0.000000</td>\n",
              "      <td>114.090000</td>\n",
              "      <td>33.100000</td>\n",
              "      <td>0.000000</td>\n",
              "    </tr>\n",
              "    <tr>\n",
              "      <th>max</th>\n",
              "      <td>82.000000</td>\n",
              "      <td>1.000000</td>\n",
              "      <td>1.000000</td>\n",
              "      <td>271.740000</td>\n",
              "      <td>97.600000</td>\n",
              "      <td>1.000000</td>\n",
              "    </tr>\n",
              "  </tbody>\n",
              "</table>\n",
              "</div>\n",
              "      <button class=\"colab-df-convert\" onclick=\"convertToInteractive('df-26593815-1cda-4381-a99a-202280dde206')\"\n",
              "              title=\"Convert this dataframe to an interactive table.\"\n",
              "              style=\"display:none;\">\n",
              "        \n",
              "  <svg xmlns=\"http://www.w3.org/2000/svg\" height=\"24px\"viewBox=\"0 0 24 24\"\n",
              "       width=\"24px\">\n",
              "    <path d=\"M0 0h24v24H0V0z\" fill=\"none\"/>\n",
              "    <path d=\"M18.56 5.44l.94 2.06.94-2.06 2.06-.94-2.06-.94-.94-2.06-.94 2.06-2.06.94zm-11 1L8.5 8.5l.94-2.06 2.06-.94-2.06-.94L8.5 2.5l-.94 2.06-2.06.94zm10 10l.94 2.06.94-2.06 2.06-.94-2.06-.94-.94-2.06-.94 2.06-2.06.94z\"/><path d=\"M17.41 7.96l-1.37-1.37c-.4-.4-.92-.59-1.43-.59-.52 0-1.04.2-1.43.59L10.3 9.45l-7.72 7.72c-.78.78-.78 2.05 0 2.83L4 21.41c.39.39.9.59 1.41.59.51 0 1.02-.2 1.41-.59l7.78-7.78 2.81-2.81c.8-.78.8-2.07 0-2.86zM5.41 20L4 18.59l7.72-7.72 1.47 1.35L5.41 20z\"/>\n",
              "  </svg>\n",
              "      </button>\n",
              "      \n",
              "  <style>\n",
              "    .colab-df-container {\n",
              "      display:flex;\n",
              "      flex-wrap:wrap;\n",
              "      gap: 12px;\n",
              "    }\n",
              "\n",
              "    .colab-df-convert {\n",
              "      background-color: #E8F0FE;\n",
              "      border: none;\n",
              "      border-radius: 50%;\n",
              "      cursor: pointer;\n",
              "      display: none;\n",
              "      fill: #1967D2;\n",
              "      height: 32px;\n",
              "      padding: 0 0 0 0;\n",
              "      width: 32px;\n",
              "    }\n",
              "\n",
              "    .colab-df-convert:hover {\n",
              "      background-color: #E2EBFA;\n",
              "      box-shadow: 0px 1px 2px rgba(60, 64, 67, 0.3), 0px 1px 3px 1px rgba(60, 64, 67, 0.15);\n",
              "      fill: #174EA6;\n",
              "    }\n",
              "\n",
              "    [theme=dark] .colab-df-convert {\n",
              "      background-color: #3B4455;\n",
              "      fill: #D2E3FC;\n",
              "    }\n",
              "\n",
              "    [theme=dark] .colab-df-convert:hover {\n",
              "      background-color: #434B5C;\n",
              "      box-shadow: 0px 1px 3px 1px rgba(0, 0, 0, 0.15);\n",
              "      filter: drop-shadow(0px 1px 2px rgba(0, 0, 0, 0.3));\n",
              "      fill: #FFFFFF;\n",
              "    }\n",
              "  </style>\n",
              "\n",
              "      <script>\n",
              "        const buttonEl =\n",
              "          document.querySelector('#df-26593815-1cda-4381-a99a-202280dde206 button.colab-df-convert');\n",
              "        buttonEl.style.display =\n",
              "          google.colab.kernel.accessAllowed ? 'block' : 'none';\n",
              "\n",
              "        async function convertToInteractive(key) {\n",
              "          const element = document.querySelector('#df-26593815-1cda-4381-a99a-202280dde206');\n",
              "          const dataTable =\n",
              "            await google.colab.kernel.invokeFunction('convertToInteractive',\n",
              "                                                     [key], {});\n",
              "          if (!dataTable) return;\n",
              "\n",
              "          const docLinkHtml = 'Like what you see? Visit the ' +\n",
              "            '<a target=\"_blank\" href=https://colab.research.google.com/notebooks/data_table.ipynb>data table notebook</a>'\n",
              "            + ' to learn more about interactive tables.';\n",
              "          element.innerHTML = '';\n",
              "          dataTable['output_type'] = 'display_data';\n",
              "          await google.colab.output.renderOutput(dataTable, element);\n",
              "          const docLink = document.createElement('div');\n",
              "          docLink.innerHTML = docLinkHtml;\n",
              "          element.appendChild(docLink);\n",
              "        }\n",
              "      </script>\n",
              "    </div>\n",
              "  </div>\n",
              "  "
            ]
          },
          "metadata": {},
          "execution_count": 34
        }
      ]
    },
    {
      "cell_type": "markdown",
      "source": [
        "### Age Column"
      ],
      "metadata": {
        "id": "1-dvcg8nuBO6"
      }
    },
    {
      "cell_type": "code",
      "source": [
        "#Display the descriptive statistics for the column\n",
        "df['age'].describe()"
      ],
      "metadata": {
        "colab": {
          "base_uri": "https://localhost:8080/"
        },
        "id": "rky3KG2ZkK0-",
        "outputId": "ff660a31-2a95-4ce4-930d-b569766a3997"
      },
      "execution_count": 35,
      "outputs": [
        {
          "output_type": "execute_result",
          "data": {
            "text/plain": [
              "count    5110.000000\n",
              "mean       43.230528\n",
              "std        22.605333\n",
              "min         1.000000\n",
              "25%        25.000000\n",
              "50%        45.000000\n",
              "75%        61.000000\n",
              "max        82.000000\n",
              "Name: age, dtype: float64"
            ]
          },
          "metadata": {},
          "execution_count": 35
        }
      ]
    },
    {
      "cell_type": "code",
      "source": [
        "# Utilize function to display histogram plot\n",
        "hist_plot('age', 20);"
      ],
      "metadata": {
        "colab": {
          "base_uri": "https://localhost:8080/",
          "height": 425
        },
        "id": "3rsqaZzGt-l6",
        "outputId": "5ae30670-696d-4aad-ba00-8d404f664940"
      },
      "execution_count": 36,
      "outputs": [
        {
          "output_type": "display_data",
          "data": {
            "text/plain": [
              "<Figure size 800x400 with 1 Axes>"
            ],
            "image/png": "[encoded data removed]"
          },
          "metadata": {}
        }
      ]
    },
    {
      "cell_type": "code",
      "source": [
        "# Utilize function to display histogram and boxplot\n",
        "hist_box_plot('age',20)"
      ],
      "metadata": {
        "colab": {
          "base_uri": "https://localhost:8080/",
          "height": 648
        },
        "id": "YVBjDoRWu-r0",
        "outputId": "614be163-e623-4dda-bc9d-3135ab94451a"
      },
      "execution_count": 37,
      "outputs": [
        {
          "output_type": "display_data",
          "data": {
            "text/plain": [
              "<Figure size 800x600 with 2 Axes>"
            ],
            "image/png": "[encoded data removed]"
          },
          "metadata": {}
        }
      ]
    },
    {
      "cell_type": "markdown",
      "source": [
        "- There are no outliers and the median Age is 45."
      ],
      "metadata": {
        "id": "91VpyOwXvF8U"
      }
    },
    {
      "cell_type": "markdown",
      "source": [
        "### Average Glucose Level"
      ],
      "metadata": {
        "id": "6SMimeSAd8gd"
      }
    },
    {
      "cell_type": "code",
      "source": [
        "#Display the descriptive statistics for the column\n",
        "df['avg_glucose_level'].describe()"
      ],
      "metadata": {
        "colab": {
          "base_uri": "https://localhost:8080/"
        },
        "id": "7HUQXXwC1kFZ",
        "outputId": "4fa8ffa0-680b-4d49-b31c-65b6a84f7c7f"
      },
      "execution_count": 38,
      "outputs": [
        {
          "output_type": "execute_result",
          "data": {
            "text/plain": [
              "count    5110.000000\n",
              "mean      106.147677\n",
              "std        45.283560\n",
              "min        55.120000\n",
              "25%        77.245000\n",
              "50%        91.885000\n",
              "75%       114.090000\n",
              "max       271.740000\n",
              "Name: avg_glucose_level, dtype: float64"
            ]
          },
          "metadata": {},
          "execution_count": 38
        }
      ]
    },
    {
      "cell_type": "code",
      "source": [
        "# Utilize function to display histogram plot\n",
        "hist_plot('avg_glucose_level', 50);"
      ],
      "metadata": {
        "colab": {
          "base_uri": "https://localhost:8080/",
          "height": 426
        },
        "id": "Lrdc0s5qxgiN",
        "outputId": "2fb95f1a-d28c-49f8-9101-05a8ab5c6432"
      },
      "execution_count": 39,
      "outputs": [
        {
          "output_type": "display_data",
          "data": {
            "text/plain": [
              "<Figure size 800x400 with 1 Axes>"
            ],
            "image/png": "[encoded data removed]"
          },
          "metadata": {}
        }
      ]
    },
    {
      "cell_type": "code",
      "source": [
        "# Use Function to display Histogram and Boxplot\n",
        "hist_box_plot('avg_glucose_level', 50);"
      ],
      "metadata": {
        "colab": {
          "base_uri": "https://localhost:8080/",
          "height": 649
        },
        "id": "H_URmAiizw4D",
        "outputId": "b7fe259f-c0df-4d62-880c-8b35123d20c9"
      },
      "execution_count": 40,
      "outputs": [
        {
          "output_type": "display_data",
          "data": {
            "text/plain": [
              "<Figure size 800x600 with 2 Axes>"
            ],
            "image/png": "[encoded data removed]"
          },
          "metadata": {}
        }
      ]
    },
    {
      "cell_type": "markdown",
      "source": [
        "- This is right skewed.  The maximum average glucose level is 271.  The mean is 106 and median is 92.  There are several outliers on the high side.  "
      ],
      "metadata": {
        "id": "HNSAY0qzetFq"
      }
    },
    {
      "cell_type": "markdown",
      "source": [
        "- Lets filter out the outliers."
      ],
      "metadata": {
        "id": "xaZlMHDyA2Gs"
      }
    },
    {
      "cell_type": "code",
      "source": [
        "#mean = np.mean(df[\"avg_glucose_level\"]) # calculate the mean\n",
        "#std = np.std(df[\"avg_glucose_level\"]) # calculate the standard deviation\n",
        "#std"
      ],
      "metadata": {
        "id": "VLKWd0LjA4ex"
      },
      "execution_count": 41,
      "outputs": []
    },
    {
      "cell_type": "code",
      "source": [
        "#threshold =0.8 # set the threshold\n",
        "#z_score = (df['avg_glucose_level'] - mean) / std # calculate the z-score\n",
        "#condition = np.abs(z_score) < threshold # create a boolean condition\n",
        "#df.loc[condition, 'avg_glucose_level'] = np.nan # update the column with NaN values for outliers\n",
        "#df.dropna(inplace=True) # drop rows with NaN values in place"
      ],
      "metadata": {
        "id": "yB8yf6G6BJrD"
      },
      "execution_count": 42,
      "outputs": []
    },
    {
      "cell_type": "code",
      "source": [
        "# Use Function to display Histogram and Boxplot\n",
        "hist_box_plot('avg_glucose_level', 50);"
      ],
      "metadata": {
        "colab": {
          "base_uri": "https://localhost:8080/",
          "height": 649
        },
        "id": "wbG06RcL2-CK",
        "outputId": "47f88a64-fb3f-40c3-f165-c9bfb2d73259"
      },
      "execution_count": 43,
      "outputs": [
        {
          "output_type": "display_data",
          "data": {
            "text/plain": [
              "<Figure size 800x600 with 2 Axes>"
            ],
            "image/png": "[encoded data removed]"
          },
          "metadata": {}
        }
      ]
    },
    {
      "cell_type": "code",
      "source": [
        "df['avg_glucose_level'].describe()"
      ],
      "metadata": {
        "colab": {
          "base_uri": "https://localhost:8080/"
        },
        "id": "Z0NlR-jOFH1u",
        "outputId": "c7351c6e-dab6-4954-be95-f2784b38d2b8"
      },
      "execution_count": 44,
      "outputs": [
        {
          "output_type": "execute_result",
          "data": {
            "text/plain": [
              "count    5110.000000\n",
              "mean      106.147677\n",
              "std        45.283560\n",
              "min        55.120000\n",
              "25%        77.245000\n",
              "50%        91.885000\n",
              "75%       114.090000\n",
              "max       271.740000\n",
              "Name: avg_glucose_level, dtype: float64"
            ]
          },
          "metadata": {},
          "execution_count": 44
        }
      ]
    },
    {
      "cell_type": "markdown",
      "source": [
        "- Outliers are now removed, median is 69 and mean is 130."
      ],
      "metadata": {
        "id": "G2IFUUR9FQJ9"
      }
    },
    {
      "cell_type": "markdown",
      "source": [
        "### BMI Column"
      ],
      "metadata": {
        "id": "8CbmibK0fSq6"
      }
    },
    {
      "cell_type": "code",
      "source": [
        "#Displaty Summary Statistics for the column\n",
        "df['bmi'].describe()"
      ],
      "metadata": {
        "colab": {
          "base_uri": "https://localhost:8080/"
        },
        "id": "AA0DWhcm3MP6",
        "outputId": "8711af90-5cc7-4633-dea2-58ddd48c504f"
      },
      "execution_count": 45,
      "outputs": [
        {
          "output_type": "execute_result",
          "data": {
            "text/plain": [
              "count    4909.000000\n",
              "mean       28.893237\n",
              "std         7.854067\n",
              "min        10.300000\n",
              "25%        23.500000\n",
              "50%        28.100000\n",
              "75%        33.100000\n",
              "max        97.600000\n",
              "Name: bmi, dtype: float64"
            ]
          },
          "metadata": {},
          "execution_count": 45
        }
      ]
    },
    {
      "cell_type": "code",
      "source": [
        "# Utilize function to display histogram plot\n",
        "hist_plot('bmi','auto');"
      ],
      "metadata": {
        "colab": {
          "base_uri": "https://localhost:8080/",
          "height": 425
        },
        "id": "Sfrh2od-3sjD",
        "outputId": "8a4be60e-6e1d-4802-82b2-231ed6c1311f"
      },
      "execution_count": 46,
      "outputs": [
        {
          "output_type": "display_data",
          "data": {
            "text/plain": [
              "<Figure size 800x400 with 1 Axes>"
            ],
            "image/png": "[encoded data removed]"
          },
          "metadata": {}
        }
      ]
    },
    {
      "cell_type": "code",
      "source": [
        "# Use Function to display Histogram and Boxplot\n",
        "hist_box_plot('bmi','auto');"
      ],
      "metadata": {
        "colab": {
          "base_uri": "https://localhost:8080/",
          "height": 648
        },
        "id": "0xqKKt734V8d",
        "outputId": "9746aca0-bf6c-47b0-9339-9297f5d1cab9"
      },
      "execution_count": 47,
      "outputs": [
        {
          "output_type": "display_data",
          "data": {
            "text/plain": [
              "<Figure size 800x600 with 2 Axes>"
            ],
            "image/png": "[encoded data removed]"
          },
          "metadata": {}
        }
      ]
    },
    {
      "cell_type": "markdown",
      "source": [
        "- This has a normal distribution however there are several outliers on the high side above 50.  Lets filter out the outliers."
      ],
      "metadata": {
        "id": "l3W5EZbd9CFn"
      }
    },
    {
      "cell_type": "code",
      "source": [
        "#mean = np.mean(df[\"bmi\"]) # calculate the mean\n",
        "#td = np.std(df[\"bmi\"]) # calculate the standard deviation\n",
        "#std"
      ],
      "metadata": {
        "id": "AlhR0-mA9GsL"
      },
      "execution_count": 48,
      "outputs": []
    },
    {
      "cell_type": "code",
      "source": [
        "#threshold = 1.6 # set the threshold\n",
        "#z_score = (df[\"bmi\"] - mean) / std # calculate the z-score\n",
        "#condition = np.abs(z_score) < threshold # create a boolean condition\n",
        "#df.loc[condition, \"bmi\"] = np.nan # update the column with NaN values for outliers\n",
        "#df.dropna(inplace=True) # drop rows with NaN values in place"
      ],
      "metadata": {
        "id": "HJTd3wA19Y5h"
      },
      "execution_count": 49,
      "outputs": []
    },
    {
      "cell_type": "code",
      "source": [
        "# Use Function to display Histogram and Boxplot\n",
        "hist_box_plot('bmi', 60);"
      ],
      "metadata": {
        "colab": {
          "base_uri": "https://localhost:8080/",
          "height": 648
        },
        "id": "JM_fHXF949r0",
        "outputId": "a8336918-d09a-492b-be2c-0fd621c4401e"
      },
      "execution_count": 50,
      "outputs": [
        {
          "output_type": "display_data",
          "data": {
            "text/plain": [
              "<Figure size 800x600 with 2 Axes>"
            ],
            "image/png": "[encoded data removed]"
          },
          "metadata": {}
        }
      ]
    },
    {
      "cell_type": "code",
      "source": [
        "df['bmi'].describe()"
      ],
      "metadata": {
        "colab": {
          "base_uri": "https://localhost:8080/"
        },
        "id": "xlK8Fh4gFev3",
        "outputId": "ef70bc8f-7933-4b3d-dd9c-b83150f5e6b7"
      },
      "execution_count": 51,
      "outputs": [
        {
          "output_type": "execute_result",
          "data": {
            "text/plain": [
              "count    4909.000000\n",
              "mean       28.893237\n",
              "std         7.854067\n",
              "min        10.300000\n",
              "25%        23.500000\n",
              "50%        28.100000\n",
              "75%        33.100000\n",
              "max        97.600000\n",
              "Name: bmi, dtype: float64"
            ]
          },
          "metadata": {},
          "execution_count": 51
        }
      ]
    },
    {
      "cell_type": "markdown",
      "source": [
        "- BMI Outliers are all removed now.  The mean is 39 and the median is 45."
      ],
      "metadata": {
        "id": "-jNYflQY-m3f"
      }
    },
    {
      "cell_type": "markdown",
      "source": [
        "##Categorical Columns"
      ],
      "metadata": {
        "id": "-UY5QBis2R1V"
      }
    },
    {
      "cell_type": "markdown",
      "source": [
        "- For each categorical column we will display the value counts, descriptive statistics, and a count plot to visualize the data."
      ],
      "metadata": {
        "id": "GDoaoxrLgGCB"
      }
    },
    {
      "cell_type": "markdown",
      "source": [
        "### Summary Statistics"
      ],
      "metadata": {
        "id": "QEPYUC-dteJx"
      }
    },
    {
      "cell_type": "code",
      "source": [
        "df.describe(exclude=('number'))"
      ],
      "metadata": {
        "colab": {
          "base_uri": "https://localhost:8080/",
          "height": 175
        },
        "id": "I1UahmBmtRul",
        "outputId": "b7fcba78-4a86-4014-cac0-556ba3e8f9ad"
      },
      "execution_count": 52,
      "outputs": [
        {
          "output_type": "execute_result",
          "data": {
            "text/plain": [
              "        gender ever_married work_type Residence_type smoking_status\n",
              "count     5110         5110      5110           5110           5110\n",
              "unique       3            2         5              2              4\n",
              "top     Female          Yes   Private          Urban   never smoked\n",
              "freq      2994         3353      2925           2596           1892"
            ],
            "text/html": [
              "\n",
              "  <div id=\"df-e5bacc45-9019-4cd8-aa54-dab0dba179cf\">\n",
              "    <div class=\"colab-df-container\">\n",
              "      <div>\n",
              "<style scoped>\n",
              "    .dataframe tbody tr th:only-of-type {\n",
              "        vertical-align: middle;\n",
              "    }\n",
              "\n",
              "    .dataframe tbody tr th {\n",
              "        vertical-align: top;\n",
              "    }\n",
              "\n",
              "    .dataframe thead th {\n",
              "        text-align: right;\n",
              "    }\n",
              "</style>\n",
              "<table border=\"1\" class=\"dataframe\">\n",
              "  <thead>\n",
              "    <tr style=\"text-align: right;\">\n",
              "      <th></th>\n",
              "      <th>gender</th>\n",
              "      <th>ever_married</th>\n",
              "      <th>work_type</th>\n",
              "      <th>Residence_type</th>\n",
              "      <th>smoking_status</th>\n",
              "    </tr>\n",
              "  </thead>\n",
              "  <tbody>\n",
              "    <tr>\n",
              "      <th>count</th>\n",
              "      <td>5110</td>\n",
              "      <td>5110</td>\n",
              "      <td>5110</td>\n",
              "      <td>5110</td>\n",
              "      <td>5110</td>\n",
              "    </tr>\n",
              "    <tr>\n",
              "      <th>unique</th>\n",
              "      <td>3</td>\n",
              "      <td>2</td>\n",
              "      <td>5</td>\n",
              "      <td>2</td>\n",
              "      <td>4</td>\n",
              "    </tr>\n",
              "    <tr>\n",
              "      <th>top</th>\n",
              "      <td>Female</td>\n",
              "      <td>Yes</td>\n",
              "      <td>Private</td>\n",
              "      <td>Urban</td>\n",
              "      <td>never smoked</td>\n",
              "    </tr>\n",
              "    <tr>\n",
              "      <th>freq</th>\n",
              "      <td>2994</td>\n",
              "      <td>3353</td>\n",
              "      <td>2925</td>\n",
              "      <td>2596</td>\n",
              "      <td>1892</td>\n",
              "    </tr>\n",
              "  </tbody>\n",
              "</table>\n",
              "</div>\n",
              "      <button class=\"colab-df-convert\" onclick=\"convertToInteractive('df-e5bacc45-9019-4cd8-aa54-dab0dba179cf')\"\n",
              "              title=\"Convert this dataframe to an interactive table.\"\n",
              "              style=\"display:none;\">\n",
              "        \n",
              "  <svg xmlns=\"http://www.w3.org/2000/svg\" height=\"24px\"viewBox=\"0 0 24 24\"\n",
              "       width=\"24px\">\n",
              "    <path d=\"M0 0h24v24H0V0z\" fill=\"none\"/>\n",
              "    <path d=\"M18.56 5.44l.94 2.06.94-2.06 2.06-.94-2.06-.94-.94-2.06-.94 2.06-2.06.94zm-11 1L8.5 8.5l.94-2.06 2.06-.94-2.06-.94L8.5 2.5l-.94 2.06-2.06.94zm10 10l.94 2.06.94-2.06 2.06-.94-2.06-.94-.94-2.06-.94 2.06-2.06.94z\"/><path d=\"M17.41 7.96l-1.37-1.37c-.4-.4-.92-.59-1.43-.59-.52 0-1.04.2-1.43.59L10.3 9.45l-7.72 7.72c-.78.78-.78 2.05 0 2.83L4 21.41c.39.39.9.59 1.41.59.51 0 1.02-.2 1.41-.59l7.78-7.78 2.81-2.81c.8-.78.8-2.07 0-2.86zM5.41 20L4 18.59l7.72-7.72 1.47 1.35L5.41 20z\"/>\n",
              "  </svg>\n",
              "      </button>\n",
              "      \n",
              "  <style>\n",
              "    .colab-df-container {\n",
              "      display:flex;\n",
              "      flex-wrap:wrap;\n",
              "      gap: 12px;\n",
              "    }\n",
              "\n",
              "    .colab-df-convert {\n",
              "      background-color: #E8F0FE;\n",
              "      border: none;\n",
              "      border-radius: 50%;\n",
              "      cursor: pointer;\n",
              "      display: none;\n",
              "      fill: #1967D2;\n",
              "      height: 32px;\n",
              "      padding: 0 0 0 0;\n",
              "      width: 32px;\n",
              "    }\n",
              "\n",
              "    .colab-df-convert:hover {\n",
              "      background-color: #E2EBFA;\n",
              "      box-shadow: 0px 1px 2px rgba(60, 64, 67, 0.3), 0px 1px 3px 1px rgba(60, 64, 67, 0.15);\n",
              "      fill: #174EA6;\n",
              "    }\n",
              "\n",
              "    [theme=dark] .colab-df-convert {\n",
              "      background-color: #3B4455;\n",
              "      fill: #D2E3FC;\n",
              "    }\n",
              "\n",
              "    [theme=dark] .colab-df-convert:hover {\n",
              "      background-color: #434B5C;\n",
              "      box-shadow: 0px 1px 3px 1px rgba(0, 0, 0, 0.15);\n",
              "      filter: drop-shadow(0px 1px 2px rgba(0, 0, 0, 0.3));\n",
              "      fill: #FFFFFF;\n",
              "    }\n",
              "  </style>\n",
              "\n",
              "      <script>\n",
              "        const buttonEl =\n",
              "          document.querySelector('#df-e5bacc45-9019-4cd8-aa54-dab0dba179cf button.colab-df-convert');\n",
              "        buttonEl.style.display =\n",
              "          google.colab.kernel.accessAllowed ? 'block' : 'none';\n",
              "\n",
              "        async function convertToInteractive(key) {\n",
              "          const element = document.querySelector('#df-e5bacc45-9019-4cd8-aa54-dab0dba179cf');\n",
              "          const dataTable =\n",
              "            await google.colab.kernel.invokeFunction('convertToInteractive',\n",
              "                                                     [key], {});\n",
              "          if (!dataTable) return;\n",
              "\n",
              "          const docLinkHtml = 'Like what you see? Visit the ' +\n",
              "            '<a target=\"_blank\" href=https://colab.research.google.com/notebooks/data_table.ipynb>data table notebook</a>'\n",
              "            + ' to learn more about interactive tables.';\n",
              "          element.innerHTML = '';\n",
              "          dataTable['output_type'] = 'display_data';\n",
              "          await google.colab.output.renderOutput(dataTable, element);\n",
              "          const docLink = document.createElement('div');\n",
              "          docLink.innerHTML = docLinkHtml;\n",
              "          element.appendChild(docLink);\n",
              "        }\n",
              "      </script>\n",
              "    </div>\n",
              "  </div>\n",
              "  "
            ]
          },
          "metadata": {},
          "execution_count": 52
        }
      ]
    },
    {
      "cell_type": "markdown",
      "source": [
        "###Hypertension Column"
      ],
      "metadata": {
        "id": "U_syKFRrLAvl"
      }
    },
    {
      "cell_type": "code",
      "source": [
        "# Replace names so it's easier to understand and understand graphs\n",
        "df['hypertension'].replace({0: 'No', 1: 'Yes'}, inplace=True)"
      ],
      "metadata": {
        "id": "ZKMR1YGc9qfK"
      },
      "execution_count": 53,
      "outputs": []
    },
    {
      "cell_type": "code",
      "source": [
        "#Display the value counts for the column\n",
        "df['hypertension'].value_counts()"
      ],
      "metadata": {
        "colab": {
          "base_uri": "https://localhost:8080/"
        },
        "id": "XFnNHTjsKrq4",
        "outputId": "45ed6bfd-1fe7-4916-9bde-91a5b0817370"
      },
      "execution_count": 54,
      "outputs": [
        {
          "output_type": "execute_result",
          "data": {
            "text/plain": [
              "No     4612\n",
              "Yes     498\n",
              "Name: hypertension, dtype: int64"
            ]
          },
          "metadata": {},
          "execution_count": 54
        }
      ]
    },
    {
      "cell_type": "code",
      "source": [
        "#Display the normalized value counts for the column\n",
        "df['hypertension'].value_counts(normalize = True)"
      ],
      "metadata": {
        "colab": {
          "base_uri": "https://localhost:8080/"
        },
        "id": "It6npMVqKwLu",
        "outputId": "079775e1-0139-4535-ecff-da3168b99871"
      },
      "execution_count": 55,
      "outputs": [
        {
          "output_type": "execute_result",
          "data": {
            "text/plain": [
              "No     0.902544\n",
              "Yes    0.097456\n",
              "Name: hypertension, dtype: float64"
            ]
          },
          "metadata": {},
          "execution_count": 55
        }
      ]
    },
    {
      "cell_type": "code",
      "source": [
        "#Display the normalized value counts for the column\n",
        "df['hypertension'].describe()"
      ],
      "metadata": {
        "colab": {
          "base_uri": "https://localhost:8080/"
        },
        "id": "wrb58d4HKzlH",
        "outputId": "6162445f-4a71-4ade-92dc-1c2e11d14924"
      },
      "execution_count": 56,
      "outputs": [
        {
          "output_type": "execute_result",
          "data": {
            "text/plain": [
              "count     5110\n",
              "unique       2\n",
              "top         No\n",
              "freq      4612\n",
              "Name: hypertension, dtype: object"
            ]
          },
          "metadata": {},
          "execution_count": 56
        }
      ]
    },
    {
      "cell_type": "code",
      "source": [
        "# Utilize function to display count plot\n",
        "count_plot('hypertension', ['No', 'Yes'])"
      ],
      "metadata": {
        "colab": {
          "base_uri": "https://localhost:8080/",
          "height": 407
        },
        "id": "82eRp7vT67is",
        "outputId": "4c0d0d29-7458-41e4-f4a7-88206c890fee"
      },
      "execution_count": 57,
      "outputs": [
        {
          "output_type": "display_data",
          "data": {
            "text/plain": [
              "<Figure size 800x400 with 1 Axes>"
            ],
            "image/png": "[encoded data removed]"
          },
          "metadata": {}
        }
      ]
    },
    {
      "cell_type": "markdown",
      "source": [
        " - The majority do not have hypertension. "
      ],
      "metadata": {
        "id": "PSRl2_l5YGi2"
      }
    },
    {
      "cell_type": "markdown",
      "source": [
        "### Heart Disease Column"
      ],
      "metadata": {
        "id": "4IOVUXDHdaku"
      }
    },
    {
      "cell_type": "code",
      "source": [
        "# Replace names so it's easier to understand and understand graphs\n",
        "df['heart_disease'].replace({0: 'No', 1: 'Yes'}, inplace=True)"
      ],
      "metadata": {
        "id": "B5kL_Yhk_AAo"
      },
      "execution_count": 58,
      "outputs": []
    },
    {
      "cell_type": "code",
      "source": [
        "#Display the value counts for the column\n",
        "df['heart_disease'].value_counts()"
      ],
      "metadata": {
        "colab": {
          "base_uri": "https://localhost:8080/"
        },
        "id": "KV7EzuoMK_vY",
        "outputId": "280ade31-0b46-402f-cc39-48ccf958e3cd"
      },
      "execution_count": 59,
      "outputs": [
        {
          "output_type": "execute_result",
          "data": {
            "text/plain": [
              "No     4834\n",
              "Yes     276\n",
              "Name: heart_disease, dtype: int64"
            ]
          },
          "metadata": {},
          "execution_count": 59
        }
      ]
    },
    {
      "cell_type": "code",
      "source": [
        "#Display the normalized value counts for the column\n",
        "df['heart_disease'].value_counts(normalize = True)"
      ],
      "metadata": {
        "colab": {
          "base_uri": "https://localhost:8080/"
        },
        "id": "iAMpmKbvLAqq",
        "outputId": "db75297c-b5d1-4e56-f435-61c59bb879db"
      },
      "execution_count": 60,
      "outputs": [
        {
          "output_type": "execute_result",
          "data": {
            "text/plain": [
              "No     0.945988\n",
              "Yes    0.054012\n",
              "Name: heart_disease, dtype: float64"
            ]
          },
          "metadata": {},
          "execution_count": 60
        }
      ]
    },
    {
      "cell_type": "markdown",
      "source": [
        " - With this being only 5%, I would remove the Yes and then it would be a single column of No values.  This column would not be a good indicator of stroke with all values being No.  I will remove the column. "
      ],
      "metadata": {
        "id": "kHYe4BAE4aik"
      }
    },
    {
      "cell_type": "code",
      "source": [
        "#Drop column\n",
        "df.drop(columns = ['heart_disease'], inplace=True)"
      ],
      "metadata": {
        "id": "CajA1LMP4oNx"
      },
      "execution_count": 61,
      "outputs": []
    },
    {
      "cell_type": "code",
      "source": [
        "df.columns"
      ],
      "metadata": {
        "colab": {
          "base_uri": "https://localhost:8080/"
        },
        "id": "opBgOemr6CUC",
        "outputId": "ce3a3487-978f-4e7d-d8c6-49965e9c9c6f"
      },
      "execution_count": 62,
      "outputs": [
        {
          "output_type": "execute_result",
          "data": {
            "text/plain": [
              "Index(['gender', 'age', 'hypertension', 'ever_married', 'work_type',\n",
              "       'Residence_type', 'avg_glucose_level', 'bmi', 'smoking_status',\n",
              "       'stroke'],\n",
              "      dtype='object')"
            ]
          },
          "metadata": {},
          "execution_count": 62
        }
      ]
    },
    {
      "cell_type": "markdown",
      "source": [
        "- Confirmed Heart Disease column is now dropped. "
      ],
      "metadata": {
        "id": "guTnayhk6GPo"
      }
    },
    {
      "cell_type": "markdown",
      "source": [
        "###Gender Column"
      ],
      "metadata": {
        "id": "ABntGOsDgUun"
      }
    },
    {
      "cell_type": "code",
      "source": [
        "#Display the value counts for the column\n",
        "df['gender'].value_counts()"
      ],
      "metadata": {
        "colab": {
          "base_uri": "https://localhost:8080/"
        },
        "id": "OKxHsw3tgT5u",
        "outputId": "3227143a-0333-4179-b1ef-00ce19b80660"
      },
      "execution_count": 63,
      "outputs": [
        {
          "output_type": "execute_result",
          "data": {
            "text/plain": [
              "Female    2994\n",
              "Male      2115\n",
              "Other        1\n",
              "Name: gender, dtype: int64"
            ]
          },
          "metadata": {},
          "execution_count": 63
        }
      ]
    },
    {
      "cell_type": "code",
      "source": [
        "#Display the normalized value counts for the column\n",
        "df['gender'].value_counts(normalize = True)"
      ],
      "metadata": {
        "colab": {
          "base_uri": "https://localhost:8080/"
        },
        "id": "wnjy4z-Igb5I",
        "outputId": "bb4639c0-34b4-41a6-f037-11e4d1532580"
      },
      "execution_count": 64,
      "outputs": [
        {
          "output_type": "execute_result",
          "data": {
            "text/plain": [
              "Female    0.585910\n",
              "Male      0.413894\n",
              "Other     0.000196\n",
              "Name: gender, dtype: float64"
            ]
          },
          "metadata": {},
          "execution_count": 64
        }
      ]
    },
    {
      "cell_type": "code",
      "source": [
        "#Display the descriptive statistics for the column\n",
        "df['gender'].describe()"
      ],
      "metadata": {
        "colab": {
          "base_uri": "https://localhost:8080/"
        },
        "id": "ACG5cyCqgiEE",
        "outputId": "3a32cfae-30f9-4522-db59-7f16fe615ada"
      },
      "execution_count": 65,
      "outputs": [
        {
          "output_type": "execute_result",
          "data": {
            "text/plain": [
              "count       5110\n",
              "unique         3\n",
              "top       Female\n",
              "freq        2994\n",
              "Name: gender, dtype: object"
            ]
          },
          "metadata": {},
          "execution_count": 65
        }
      ]
    },
    {
      "cell_type": "markdown",
      "source": [
        "- With \"Other\" being only 1 value, I will remove that row."
      ],
      "metadata": {
        "id": "o5Ip4P6e-lYv"
      }
    },
    {
      "cell_type": "code",
      "source": [
        "#Removing all rows with Never_worked\n",
        "df.drop(df[df['gender'] == 'Other'].index, inplace=True)"
      ],
      "metadata": {
        "id": "ngkVt_Hy-qAo"
      },
      "execution_count": 66,
      "outputs": []
    },
    {
      "cell_type": "code",
      "source": [
        "# Utilize function to display count plot\n",
        "count_plot('gender', ['Female', 'Male'])"
      ],
      "metadata": {
        "colab": {
          "base_uri": "https://localhost:8080/",
          "height": 407
        },
        "id": "z76pRO9W6GxJ",
        "outputId": "3166f70f-635c-42db-9461-00b0ef2e0aae"
      },
      "execution_count": 67,
      "outputs": [
        {
          "output_type": "display_data",
          "data": {
            "text/plain": [
              "<Figure size 800x400 with 1 Axes>"
            ],
            "image/png": "[encoded data removed]"
          },
          "metadata": {}
        }
      ]
    },
    {
      "cell_type": "markdown",
      "source": [
        "- The distribution is 63% female and 37% male."
      ],
      "metadata": {
        "id": "wU6njMfig0GJ"
      }
    },
    {
      "cell_type": "markdown",
      "source": [
        "### Ever Married Column"
      ],
      "metadata": {
        "id": "hNg0oTOlg77r"
      }
    },
    {
      "cell_type": "code",
      "source": [
        "#Display the value counts for the column\n",
        "df['ever_married'].value_counts()"
      ],
      "metadata": {
        "colab": {
          "base_uri": "https://localhost:8080/"
        },
        "id": "W-7dsBm7g-Ux",
        "outputId": "8c6dafd7-bb34-4a98-8379-bbc6d9a6b92a"
      },
      "execution_count": 68,
      "outputs": [
        {
          "output_type": "execute_result",
          "data": {
            "text/plain": [
              "Yes    3353\n",
              "No     1756\n",
              "Name: ever_married, dtype: int64"
            ]
          },
          "metadata": {},
          "execution_count": 68
        }
      ]
    },
    {
      "cell_type": "code",
      "source": [
        "#Display the normalized value counts for the column\n",
        "df['ever_married'].value_counts(normalize = True)"
      ],
      "metadata": {
        "colab": {
          "base_uri": "https://localhost:8080/"
        },
        "id": "8sCIq7Ixg-m9",
        "outputId": "cff4a0b0-b0dd-4741-b04b-984474cd82c1"
      },
      "execution_count": 69,
      "outputs": [
        {
          "output_type": "execute_result",
          "data": {
            "text/plain": [
              "Yes    0.656293\n",
              "No     0.343707\n",
              "Name: ever_married, dtype: float64"
            ]
          },
          "metadata": {},
          "execution_count": 69
        }
      ]
    },
    {
      "cell_type": "code",
      "source": [
        "#Display the descriptive statistics for the column\n",
        "df['ever_married'].describe()"
      ],
      "metadata": {
        "colab": {
          "base_uri": "https://localhost:8080/"
        },
        "id": "oiHXcKHcg-05",
        "outputId": "79421a25-cabe-401f-c6ca-8b9f4d845823"
      },
      "execution_count": 70,
      "outputs": [
        {
          "output_type": "execute_result",
          "data": {
            "text/plain": [
              "count     5109\n",
              "unique       2\n",
              "top        Yes\n",
              "freq      3353\n",
              "Name: ever_married, dtype: object"
            ]
          },
          "metadata": {},
          "execution_count": 70
        }
      ]
    },
    {
      "cell_type": "code",
      "source": [
        "# Utilize function to display count plot\n",
        "count_plot('ever_married', ['Yes', 'No'])"
      ],
      "metadata": {
        "colab": {
          "base_uri": "https://localhost:8080/",
          "height": 407
        },
        "id": "LqbOoHi77kQm",
        "outputId": "978f7974-ba10-4b11-f49c-c8c587d84012"
      },
      "execution_count": 71,
      "outputs": [
        {
          "output_type": "display_data",
          "data": {
            "text/plain": [
              "<Figure size 800x400 with 1 Axes>"
            ],
            "image/png": "[encoded data removed]"
          },
          "metadata": {}
        }
      ]
    },
    {
      "cell_type": "markdown",
      "source": [
        "### Work Type Column"
      ],
      "metadata": {
        "id": "y6Mzncmhh3SG"
      }
    },
    {
      "cell_type": "code",
      "source": [
        "#Display the value counts for the column\n",
        "df['work_type'].value_counts()"
      ],
      "metadata": {
        "colab": {
          "base_uri": "https://localhost:8080/"
        },
        "id": "kCUgNUreh7Fc",
        "outputId": "0461154c-2433-486f-926c-b95860f405a9"
      },
      "execution_count": 72,
      "outputs": [
        {
          "output_type": "execute_result",
          "data": {
            "text/plain": [
              "Private          2924\n",
              "Self-employed     819\n",
              "children          687\n",
              "Govt_job          657\n",
              "Never_worked       22\n",
              "Name: work_type, dtype: int64"
            ]
          },
          "metadata": {},
          "execution_count": 72
        }
      ]
    },
    {
      "cell_type": "code",
      "source": [
        "#Display the normalized value counts for the column\n",
        "df['work_type'].value_counts(normalize = True)"
      ],
      "metadata": {
        "colab": {
          "base_uri": "https://localhost:8080/"
        },
        "id": "PuiM_EjAh640",
        "outputId": "c3e205f3-d0e7-47c7-b103-fe77f1f1f032"
      },
      "execution_count": 73,
      "outputs": [
        {
          "output_type": "execute_result",
          "data": {
            "text/plain": [
              "Private          0.572323\n",
              "Self-employed    0.160305\n",
              "children         0.134469\n",
              "Govt_job         0.128597\n",
              "Never_worked     0.004306\n",
              "Name: work_type, dtype: float64"
            ]
          },
          "metadata": {},
          "execution_count": 73
        }
      ]
    },
    {
      "cell_type": "markdown",
      "source": [
        "- With Never Worked being under 1%, we will remove that type as it will not be useful in our modeling."
      ],
      "metadata": {
        "id": "TIcAQutp8N7H"
      }
    },
    {
      "cell_type": "code",
      "source": [
        "#Removing all rows with Never_worked\n",
        "df.drop(df[df['work_type'] == 'Never_worked'].index, inplace=True)"
      ],
      "metadata": {
        "id": "zCvTsFfn8XfH"
      },
      "execution_count": 74,
      "outputs": []
    },
    {
      "cell_type": "code",
      "source": [
        "#Display the descriptive statistics for the column\n",
        "df['work_type'].describe()"
      ],
      "metadata": {
        "colab": {
          "base_uri": "https://localhost:8080/"
        },
        "id": "D1QXK7WBh6s0",
        "outputId": "c24f62be-a344-48b2-a8a9-fecd0c9d31bb"
      },
      "execution_count": 75,
      "outputs": [
        {
          "output_type": "execute_result",
          "data": {
            "text/plain": [
              "count        5087\n",
              "unique          4\n",
              "top       Private\n",
              "freq         2924\n",
              "Name: work_type, dtype: object"
            ]
          },
          "metadata": {},
          "execution_count": 75
        }
      ]
    },
    {
      "cell_type": "code",
      "source": [
        "# Utilize function to display count plot\n",
        "count_plot('work_type', ['Private', 'children', 'Self-employed', 'Govt_job'])"
      ],
      "metadata": {
        "colab": {
          "base_uri": "https://localhost:8080/",
          "height": 407
        },
        "id": "D5TAuQ6-71HW",
        "outputId": "bf833877-57f3-43c4-d72c-df1687f17709"
      },
      "execution_count": 76,
      "outputs": [
        {
          "output_type": "display_data",
          "data": {
            "text/plain": [
              "<Figure size 800x400 with 1 Axes>"
            ],
            "image/png": "[encoded data removed]"
          },
          "metadata": {}
        }
      ]
    },
    {
      "cell_type": "markdown",
      "source": [
        " - The majority of people have a Private work type followed by self-employed."
      ],
      "metadata": {
        "id": "IW9JMMFTi4Bz"
      }
    },
    {
      "cell_type": "markdown",
      "source": [
        "### Residence Type Column"
      ],
      "metadata": {
        "id": "HKbxLrLbh7t7"
      }
    },
    {
      "cell_type": "code",
      "source": [
        "#Display the value counts for the column\n",
        "df['Residence_type'].value_counts()"
      ],
      "metadata": {
        "colab": {
          "base_uri": "https://localhost:8080/"
        },
        "id": "giZT4gwwh-PZ",
        "outputId": "e9bf548a-f236-4f4d-940f-730e7223cdc8"
      },
      "execution_count": 77,
      "outputs": [
        {
          "output_type": "execute_result",
          "data": {
            "text/plain": [
              "Urban    2581\n",
              "Rural    2506\n",
              "Name: Residence_type, dtype: int64"
            ]
          },
          "metadata": {},
          "execution_count": 77
        }
      ]
    },
    {
      "cell_type": "code",
      "source": [
        "#Display the normalized value counts for the column\n",
        "df['Residence_type'].value_counts(normalize = True)"
      ],
      "metadata": {
        "colab": {
          "base_uri": "https://localhost:8080/"
        },
        "id": "-gEaKfuWh-cA",
        "outputId": "63ee4d30-c260-49ca-c1fe-f91fad8c72c3"
      },
      "execution_count": 78,
      "outputs": [
        {
          "output_type": "execute_result",
          "data": {
            "text/plain": [
              "Urban    0.507372\n",
              "Rural    0.492628\n",
              "Name: Residence_type, dtype: float64"
            ]
          },
          "metadata": {},
          "execution_count": 78
        }
      ]
    },
    {
      "cell_type": "code",
      "source": [
        "#Display the descriptive statistics for the column\n",
        "df['Residence_type'].describe()"
      ],
      "metadata": {
        "colab": {
          "base_uri": "https://localhost:8080/"
        },
        "id": "xLKD6UWFiAnc",
        "outputId": "23a935a5-24e5-46e2-ee35-b88a6c4eb8fa"
      },
      "execution_count": 79,
      "outputs": [
        {
          "output_type": "execute_result",
          "data": {
            "text/plain": [
              "count      5087\n",
              "unique        2\n",
              "top       Urban\n",
              "freq       2581\n",
              "Name: Residence_type, dtype: object"
            ]
          },
          "metadata": {},
          "execution_count": 79
        }
      ]
    },
    {
      "cell_type": "code",
      "source": [
        "# Utilize function to display count plot\n",
        "count_plot('Residence_type', ['Urban', 'Rural'])"
      ],
      "metadata": {
        "colab": {
          "base_uri": "https://localhost:8080/",
          "height": 407
        },
        "id": "Lmh6lz5O8Uiz",
        "outputId": "918b73b0-ab32-4496-fabb-9047311c6487"
      },
      "execution_count": 80,
      "outputs": [
        {
          "output_type": "display_data",
          "data": {
            "text/plain": [
              "<Figure size 800x400 with 1 Axes>"
            ],
            "image/png": "[encoded data removed]"
          },
          "metadata": {}
        }
      ]
    },
    {
      "cell_type": "markdown",
      "source": [
        "- These are distributed fairly evenly with Urban being slightly higher."
      ],
      "metadata": {
        "id": "ix2nJIpYjZ3R"
      }
    },
    {
      "cell_type": "markdown",
      "source": [
        "### Smoking Status Column"
      ],
      "metadata": {
        "id": "RXNCVWlniBKu"
      }
    },
    {
      "cell_type": "code",
      "source": [
        "#Display the value counts for the column\n",
        "df['smoking_status'].value_counts()"
      ],
      "metadata": {
        "colab": {
          "base_uri": "https://localhost:8080/"
        },
        "id": "ZRTIJ63eiGGr",
        "outputId": "7d4ee1aa-135b-4dcd-dea9-84b2e242e501"
      },
      "execution_count": 81,
      "outputs": [
        {
          "output_type": "execute_result",
          "data": {
            "text/plain": [
              "never smoked       1878\n",
              "Unknown            1536\n",
              "formerly smoked     884\n",
              "smokes              789\n",
              "Name: smoking_status, dtype: int64"
            ]
          },
          "metadata": {},
          "execution_count": 81
        }
      ]
    },
    {
      "cell_type": "code",
      "source": [
        "#Display the normalized value counts for the column\n",
        "df['smoking_status'].value_counts(normalize = True)"
      ],
      "metadata": {
        "colab": {
          "base_uri": "https://localhost:8080/"
        },
        "id": "N2F0gQJViF5q",
        "outputId": "09599b7c-f324-40a4-b054-ce70f8897a07"
      },
      "execution_count": 82,
      "outputs": [
        {
          "output_type": "execute_result",
          "data": {
            "text/plain": [
              "never smoked       0.369176\n",
              "Unknown            0.301946\n",
              "formerly smoked    0.173776\n",
              "smokes             0.155101\n",
              "Name: smoking_status, dtype: float64"
            ]
          },
          "metadata": {},
          "execution_count": 82
        }
      ]
    },
    {
      "cell_type": "code",
      "source": [
        "#Display the descriptive statistics for the column\n",
        "df['smoking_status'].describe()"
      ],
      "metadata": {
        "colab": {
          "base_uri": "https://localhost:8080/"
        },
        "id": "O9wcqoeIiFtH",
        "outputId": "dec44462-1c15-473f-e0d2-9187975e00c7"
      },
      "execution_count": 83,
      "outputs": [
        {
          "output_type": "execute_result",
          "data": {
            "text/plain": [
              "count             5087\n",
              "unique               4\n",
              "top       never smoked\n",
              "freq              1878\n",
              "Name: smoking_status, dtype: object"
            ]
          },
          "metadata": {},
          "execution_count": 83
        }
      ]
    },
    {
      "cell_type": "code",
      "source": [
        "# Utilize f'unction to display count plot\n",
        "count_plot('smoking_status', ['never smoked', 'Unknown', 'formerly smoked','smokes'])"
      ],
      "metadata": {
        "colab": {
          "base_uri": "https://localhost:8080/",
          "height": 407
        },
        "id": "vgTK_KDi8hxW",
        "outputId": "d7feeae1-87a5-47e4-e39d-76ff6b2cf5e9"
      },
      "execution_count": 84,
      "outputs": [
        {
          "output_type": "display_data",
          "data": {
            "text/plain": [
              "<Figure size 800x400 with 1 Axes>"
            ],
            "image/png": "[encoded data removed]"
          },
          "metadata": {}
        }
      ]
    },
    {
      "cell_type": "markdown",
      "source": [
        "- Never smoked and unknown are about the same followed by formerly smoked. "
      ],
      "metadata": {
        "id": "XpObGC8fjJas"
      }
    },
    {
      "cell_type": "markdown",
      "source": [
        "### Stroke Column"
      ],
      "metadata": {
        "id": "eOGtQOhacnuC"
      }
    },
    {
      "cell_type": "code",
      "source": [
        "# Replace names so it's easier to understand and understand graphs\n",
        "df['stroke'].replace({0: 'No', 1: 'Yes'}, inplace=True)"
      ],
      "metadata": {
        "id": "3jziQ3Z6_d_9"
      },
      "execution_count": 85,
      "outputs": []
    },
    {
      "cell_type": "code",
      "source": [
        "#Display the value counts for the column\n",
        "df['stroke'].value_counts()"
      ],
      "metadata": {
        "colab": {
          "base_uri": "https://localhost:8080/"
        },
        "id": "G13bDoqwNpr2",
        "outputId": "d9eb2262-8b16-4805-e4a8-ae2dc2ab91c7"
      },
      "execution_count": 86,
      "outputs": [
        {
          "output_type": "execute_result",
          "data": {
            "text/plain": [
              "No     4838\n",
              "Yes     249\n",
              "Name: stroke, dtype: int64"
            ]
          },
          "metadata": {},
          "execution_count": 86
        }
      ]
    },
    {
      "cell_type": "code",
      "source": [
        "#Display the normalized value counts for the column\n",
        "df['stroke'].value_counts(normalize = True)"
      ],
      "metadata": {
        "colab": {
          "base_uri": "https://localhost:8080/"
        },
        "id": "J2DDjIAcNpi8",
        "outputId": "46fe14f5-c707-40e0-c7fe-c8eb42297436"
      },
      "execution_count": 87,
      "outputs": [
        {
          "output_type": "execute_result",
          "data": {
            "text/plain": [
              "No     0.951052\n",
              "Yes    0.048948\n",
              "Name: stroke, dtype: float64"
            ]
          },
          "metadata": {},
          "execution_count": 87
        }
      ]
    },
    {
      "cell_type": "code",
      "source": [
        "#Display the descriptive statistics for the column\n",
        "df['stroke'].describe()"
      ],
      "metadata": {
        "colab": {
          "base_uri": "https://localhost:8080/"
        },
        "id": "NufqpHhYNpaY",
        "outputId": "6233408c-dd4c-46b0-93c0-71f96cdd3e71"
      },
      "execution_count": 88,
      "outputs": [
        {
          "output_type": "execute_result",
          "data": {
            "text/plain": [
              "count     5087\n",
              "unique       2\n",
              "top         No\n",
              "freq      4838\n",
              "Name: stroke, dtype: object"
            ]
          },
          "metadata": {},
          "execution_count": 88
        }
      ]
    },
    {
      "cell_type": "code",
      "source": [
        "# Utilize function to display count plot\n",
        "count_plot('stroke', ['No', 'Yes'])"
      ],
      "metadata": {
        "colab": {
          "base_uri": "https://localhost:8080/",
          "height": 407
        },
        "id": "NssA6usZ_rtu",
        "outputId": "3f1e6195-e9c0-43cd-a2a7-55f367ab5d5b"
      },
      "execution_count": 89,
      "outputs": [
        {
          "output_type": "display_data",
          "data": {
            "text/plain": [
              "<Figure size 800x400 with 1 Axes>"
            ],
            "image/png": "[encoded data removed]"
          },
          "metadata": {}
        }
      ]
    },
    {
      "cell_type": "markdown",
      "source": [
        "- We can see this is a very unbalanced dataset with less than 1% having a stroke. "
      ],
      "metadata": {
        "id": "CQdPcb4ycqkR"
      }
    },
    {
      "cell_type": "markdown",
      "source": [
        "# Explanatory Data Analysis"
      ],
      "metadata": {
        "id": "N-gh2tuvoxUh"
      }
    },
    {
      "cell_type": "markdown",
      "source": [
        "## Correlation Heatmap "
      ],
      "metadata": {
        "id": "ysNaFtU-wTj6"
      }
    },
    {
      "cell_type": "code",
      "source": [
        "# Define a dictionary with key/value pairs and use it to replace values\n",
        "dict = {\"No\": 0, \"Yes\": 1}\n",
        "df.replace({'stroke': dict}, inplace = True)\n",
        "df.replace({'hypertension': dict}, inplace=True)\n",
        "df.replace({'ever_married': dict}, inplace=True)"
      ],
      "metadata": {
        "id": "7SFruKTtJt2J"
      },
      "execution_count": 90,
      "outputs": []
    },
    {
      "cell_type": "code",
      "source": [
        "df.dtypes"
      ],
      "metadata": {
        "colab": {
          "base_uri": "https://localhost:8080/"
        },
        "id": "knXh4njr7upR",
        "outputId": "75297504-4b2a-412e-f544-01113fbc4079"
      },
      "execution_count": 91,
      "outputs": [
        {
          "output_type": "execute_result",
          "data": {
            "text/plain": [
              "gender                object\n",
              "age                  float64\n",
              "hypertension           int64\n",
              "ever_married           int64\n",
              "work_type             object\n",
              "Residence_type        object\n",
              "avg_glucose_level    float64\n",
              "bmi                  float64\n",
              "smoking_status        object\n",
              "stroke                 int64\n",
              "dtype: object"
            ]
          },
          "metadata": {},
          "execution_count": 91
        }
      ]
    },
    {
      "cell_type": "code",
      "source": [
        "corr = df.corr()\n",
        "sns.heatmap(corr, cmap = 'Blues', annot = True) ;"
      ],
      "metadata": {
        "colab": {
          "base_uri": "https://localhost:8080/",
          "height": 604
        },
        "id": "oNXhlXfEI-9Q",
        "outputId": "6d081a8c-8950-4393-b5f6-753c928b3600"
      },
      "execution_count": 92,
      "outputs": [
        {
          "output_type": "stream",
          "name": "stderr",
          "text": [
            "<ipython-input-92-c915e2bb1d48>:1: FutureWarning: The default value of numeric_only in DataFrame.corr is deprecated. In a future version, it will default to False. Select only valid columns or specify the value of numeric_only to silence this warning.\n",
            "  corr = df.corr()\n"
          ]
        },
        {
          "output_type": "display_data",
          "data": {
            "text/plain": [
              "<Figure size 640x480 with 2 Axes>"
            ],
            "image/png": "[encoded data removed]"
          },
          "metadata": {}
        }
      ]
    },
    {
      "cell_type": "markdown",
      "source": [
        "- Age has the highest correlation to Stroke."
      ],
      "metadata": {
        "id": "r8dsO537IMOv"
      }
    },
    {
      "cell_type": "markdown",
      "source": [
        "## Bar Plots for Numerical Columns"
      ],
      "metadata": {
        "id": "BrPmtytCMbvQ"
      }
    },
    {
      "cell_type": "code",
      "source": [
        "fig, axes = plt.subplots(ncols=3, figsize=(20, 8))\n",
        "for i, c in enumerate(['age', 'avg_glucose_level', 'bmi']):\n",
        "    df.groupby('stroke')[c].mean().plot(kind='bar', ax=axes[i], color=('blue', 'green'))\n",
        "    axes[i].set_ylabel(f'Mean_{c}', fontsize=20, fontweight='bold')\n",
        "    axes[i].set_xlabel('stroke', fontsize=20, fontweight='bold')\n",
        "    axes[i].tick_params(axis='both', which='major', labelsize=15)\n",
        "plt.tight_layout()"
      ],
      "metadata": {
        "colab": {
          "base_uri": "https://localhost:8080/",
          "height": 512
        },
        "id": "s1bUbDdP_OFG",
        "outputId": "86986464-4a07-4dd2-b843-676da0659c68"
      },
      "execution_count": 93,
      "outputs": [
        {
          "output_type": "display_data",
          "data": {
            "text/plain": [
              "<Figure size 2000x800 with 3 Axes>"
            ],
            "image/png": "[encoded data removed]"
          },
          "metadata": {}
        }
      ]
    },
    {
      "cell_type": "markdown",
      "source": [
        "- Higher age does correlate with having a stroke.  It does not appear that Average Gluclose Level or BMI are correlated with stroke. "
      ],
      "metadata": {
        "id": "KHeJfz9qBRyJ"
      }
    },
    {
      "cell_type": "markdown",
      "source": [
        "## Scatter Plot"
      ],
      "metadata": {
        "id": "xVW4JQIZNv33"
      }
    },
    {
      "cell_type": "code",
      "source": [
        "scatter_plot('gender', 'bmi')"
      ],
      "metadata": {
        "colab": {
          "base_uri": "https://localhost:8080/",
          "height": 407
        },
        "id": "dNKyAnuIMWaT",
        "outputId": "87e75e75-f4fd-47cb-f40e-a5452c668348"
      },
      "execution_count": 94,
      "outputs": [
        {
          "output_type": "display_data",
          "data": {
            "text/plain": [
              "<Figure size 800x400 with 1 Axes>"
            ],
            "image/png": "[encoded data removed]"
          },
          "metadata": {}
        }
      ]
    },
    {
      "cell_type": "markdown",
      "source": [
        "## Histogram"
      ],
      "metadata": {
        "id": "5R0fhWYvSgA9"
      }
    },
    {
      "cell_type": "code",
      "source": [
        "sns.histplot(data=df, x=\"work_type\", hue=\"stroke\", multiple=\"stack\")\n",
        "plt.show()"
      ],
      "metadata": {
        "colab": {
          "base_uri": "https://localhost:8080/",
          "height": 450
        },
        "id": "LwSUbeolQf2B",
        "outputId": "4be84483-c376-4164-fbce-2594d96f2f33"
      },
      "execution_count": 95,
      "outputs": [
        {
          "output_type": "display_data",
          "data": {
            "text/plain": [
              "<Figure size 640x480 with 1 Axes>"
            ],
            "image/png": "[encoded data removed]"
          },
          "metadata": {}
        }
      ]
    },
    {
      "cell_type": "markdown",
      "source": [
        "- The individuals who have Private work type have the most incidence of stroke."
      ],
      "metadata": {
        "id": "wZemoJSWQuh4"
      }
    }
  ]
}