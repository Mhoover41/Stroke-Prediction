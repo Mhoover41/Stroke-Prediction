{
  "nbformat": 4,
  "nbformat_minor": 0,
  "metadata": {
    "colab": {
      "provenance": [],
      "toc_visible": true,
      "authorship_tag": "ABX9TyNLr4xC/lBSBybKncQZMMLQ",
      "include_colab_link": true
    },
    "kernelspec": {
      "name": "python3",
      "display_name": "Python 3"
    },
    "language_info": {
      "name": "python"
    }
  },
  "cells": [
    {
      "cell_type": "markdown",
      "metadata": {
        "id": "view-in-github",
        "colab_type": "text"
      },
      "source": [
        "<a href=\"https://colab.research.google.com/github/Mhoover41/Stroke-Prediction/blob/main/Stroke_Prediction_Project_2_Melissa_Hoover.ipynb\" target=\"_parent\"><img src=\"https://colab.research.google.com/assets/colab-badge.svg\" alt=\"Open In Colab\"/></a>"
      ]
    },
    {
      "cell_type": "markdown",
      "source": [
        "#**Stroke Prediction**\n"
      ],
      "metadata": {
        "id": "AMTgsztIJqxb"
      }
    },
    {
      "cell_type": "markdown",
      "source": [
        "- **Author:** Melissa Hoover"
      ],
      "metadata": {
        "id": "9oaUACqGJrwp"
      }
    },
    {
      "cell_type": "markdown",
      "source": [
        "#**Project Overview**"
      ],
      "metadata": {
        "id": "2RxGxdamJr9g"
      }
    },
    {
      "cell_type": "markdown",
      "source": [
        "This dataset is used to predict whether a patient is likely to get stroke based on the input parameters like gender, age, various diseases, and smoking status. Each row in the data provides relavant information about the patient."
      ],
      "metadata": {
        "id": "kkVkSVxfIbwW"
      }
    },
    {
      "cell_type": "markdown",
      "source": [
        "Data Source:  https://www.kaggle.com/datasets/fedesoriano/stroke-prediction-dataset"
      ],
      "metadata": {
        "id": "Q6U9ZXoOJib-"
      }
    },
    {
      "cell_type": "markdown",
      "source": [
        "Data Link: [healthcare-dataset-stroke-data.csv](https://github.com/Mhoover41/Stroke-Prediction/files/11501796/healthcare-dataset-stroke-data.csv)"
      ],
      "metadata": {
        "id": "9SqTpKK8JpoP"
      }
    },
    {
      "cell_type": "markdown",
      "source": [
        "##Data Dictionary"
      ],
      "metadata": {
        "id": "NgIKGaY_yvqJ"
      }
    },
    {
      "cell_type": "markdown",
      "source": [
        "1) id: unique identifier\n",
        "\n",
        "2) gender: \"Male\", \"Female\" or \"Other\"\n",
        "\n",
        "3) age: age of the patient\n",
        "\n",
        "4) hypertension: 0 if the patient doesn't have hypertension, 1 if the patient has hypertension\n",
        "\n",
        "5) heart_disease: 0 if the patient doesn't have any heart diseases, 1 if the patient has a heart disease\n",
        "\n",
        "6) ever_married: \"No\" or \"Yes\"\n",
        "\n",
        "7) work_type: \"children\", \"Govt_jov\", \"Never_worked\", \"Private\" or \"Self-employed\"\n",
        "\n",
        "8) Residence_type: \"Rural\" or \"Urban\"\n",
        "\n",
        "9) avg_glucose_level: average glucose level in blood\n",
        "\n",
        "10) bmi: body mass index\n",
        "\n",
        "11) smoking_status: \"formerly smoked\", \"never smoked\", \"smokes\" or \"Unknown\"*\n",
        "\n",
        "12) stroke: 1 if the patient had a stroke or 0 if not\n",
        "\n",
        "**Note:** \"Unknown\" in smoking_status means that the information is unavailable for this patient"
      ],
      "metadata": {
        "id": "gInhEakyIpoy"
      }
    },
    {
      "cell_type": "markdown",
      "source": [
        "#**Load and Inspect Data**"
      ],
      "metadata": {
        "id": "7yC_VJB6JsKz"
      }
    },
    {
      "cell_type": "code",
      "source": [
        "from google.colab import drive\n",
        "drive.mount('/content/drive')"
      ],
      "metadata": {
        "colab": {
          "base_uri": "https://localhost:8080/"
        },
        "id": "9hskT_KvpmWE",
        "outputId": "c7c77ab9-0fee-405a-c9a0-e66f952c1c82"
      },
      "execution_count": 1,
      "outputs": [
        {
          "output_type": "stream",
          "name": "stdout",
          "text": [
            "Drive already mounted at /content/drive; to attempt to forcibly remount, call drive.mount(\"/content/drive\", force_remount=True).\n"
          ]
        }
      ]
    },
    {
      "cell_type": "markdown",
      "source": [
        "##### **Imports**"
      ],
      "metadata": {
        "id": "IO3brF-T4p3B"
      }
    },
    {
      "cell_type": "code",
      "source": [
        "# Pandas\n",
        "import pandas as pd\n",
        "# Numpy\n",
        "import numpy as np\n",
        "# MatplotLib\n",
        "import matplotlib.pyplot as plt\n",
        "#Seaborn\n",
        "import seaborn as sns\n",
        "\n",
        "# Preprocessing\n",
        "from sklearn.model_selection import train_test_split, GridSearchCV\n",
        "from sklearn.compose import make_column_selector\n",
        "from sklearn.preprocessing import StandardScaler, OrdinalEncoder, OneHotEncoder\n",
        "from sklearn.pipeline import make_pipeline\n",
        "from sklearn.compose import make_column_transformer\n",
        "from sklearn.impute import SimpleImputer\n",
        "\n",
        "# Models\n",
        "from sklearn.neighbors import KNeighborsClassifier\n",
        "from sklearn.ensemble import RandomForestClassifier\n",
        "from sklearn.tree import DecisionTreeClassifier\n",
        "from sklearn.linear_model import LogisticRegression\n",
        "\n",
        "# Classification Metrics\n",
        "\n",
        "from sklearn.metrics import (ConfusionMatrixDisplay, \n",
        "                             PrecisionRecallDisplay,  \n",
        "                             f1_score, accuracy_score, precision_score,\n",
        "                             recall_score, classification_report)\n",
        "\n",
        "# Set global scikit-learn configuration \n",
        "from sklearn import set_config\n",
        "# Display estimators as a diagram\n",
        "set_config(display='diagram') # 'text' or 'diagram'}"
      ],
      "metadata": {
        "id": "iKhZ6XxV2AV2"
      },
      "execution_count": 38,
      "outputs": []
    },
    {
      "cell_type": "markdown",
      "source": [
        "##### **Loading Data**"
      ],
      "metadata": {
        "id": "NLr9LIhY4w9x"
      }
    },
    {
      "cell_type": "code",
      "source": [
        "#Load the data file\n",
        "filename= '/content/drive/MyDrive/Project 2/healthcare-dataset-stroke-data.csv'\n",
        "df= pd.read_csv(filename)"
      ],
      "metadata": {
        "id": "_lt1dRdop7R4"
      },
      "execution_count": 3,
      "outputs": []
    },
    {
      "cell_type": "markdown",
      "source": [
        "**Inspecting Data**"
      ],
      "metadata": {
        "id": "6FBFX90RKs3G"
      }
    },
    {
      "cell_type": "code",
      "source": [
        "# Display the first 5 rows\n",
        "df.head()"
      ],
      "metadata": {
        "colab": {
          "base_uri": "https://localhost:8080/",
          "height": 305
        },
        "id": "b7F5v8j6KjSp",
        "outputId": "80c3d541-1a12-4068-e644-22be64174293"
      },
      "execution_count": 4,
      "outputs": [
        {
          "output_type": "execute_result",
          "data": {
            "text/plain": [
              "      id  gender   age  hypertension  heart_disease ever_married  \\\n",
              "0   9046    Male  67.0             0              1          Yes   \n",
              "1  51676  Female  61.0             0              0          Yes   \n",
              "2  31112    Male  80.0             0              1          Yes   \n",
              "3  60182  Female  49.0             0              0          Yes   \n",
              "4   1665  Female  79.0             1              0          Yes   \n",
              "\n",
              "       work_type Residence_type  avg_glucose_level   bmi   smoking_status  \\\n",
              "0        Private          Urban             228.69  36.6  formerly smoked   \n",
              "1  Self-employed          Rural             202.21   NaN     never smoked   \n",
              "2        Private          Rural             105.92  32.5     never smoked   \n",
              "3        Private          Urban             171.23  34.4           smokes   \n",
              "4  Self-employed          Rural             174.12  24.0     never smoked   \n",
              "\n",
              "   stroke  \n",
              "0       1  \n",
              "1       1  \n",
              "2       1  \n",
              "3       1  \n",
              "4       1  "
            ],
            "text/html": [
              "\n",
              "  <div id=\"df-815e6edd-e615-4f30-b339-2bcd008e4b43\">\n",
              "    <div class=\"colab-df-container\">\n",
              "      <div>\n",
              "<style scoped>\n",
              "    .dataframe tbody tr th:only-of-type {\n",
              "        vertical-align: middle;\n",
              "    }\n",
              "\n",
              "    .dataframe tbody tr th {\n",
              "        vertical-align: top;\n",
              "    }\n",
              "\n",
              "    .dataframe thead th {\n",
              "        text-align: right;\n",
              "    }\n",
              "</style>\n",
              "<table border=\"1\" class=\"dataframe\">\n",
              "  <thead>\n",
              "    <tr style=\"text-align: right;\">\n",
              "      <th></th>\n",
              "      <th>id</th>\n",
              "      <th>gender</th>\n",
              "      <th>age</th>\n",
              "      <th>hypertension</th>\n",
              "      <th>heart_disease</th>\n",
              "      <th>ever_married</th>\n",
              "      <th>work_type</th>\n",
              "      <th>Residence_type</th>\n",
              "      <th>avg_glucose_level</th>\n",
              "      <th>bmi</th>\n",
              "      <th>smoking_status</th>\n",
              "      <th>stroke</th>\n",
              "    </tr>\n",
              "  </thead>\n",
              "  <tbody>\n",
              "    <tr>\n",
              "      <th>0</th>\n",
              "      <td>9046</td>\n",
              "      <td>Male</td>\n",
              "      <td>67.0</td>\n",
              "      <td>0</td>\n",
              "      <td>1</td>\n",
              "      <td>Yes</td>\n",
              "      <td>Private</td>\n",
              "      <td>Urban</td>\n",
              "      <td>228.69</td>\n",
              "      <td>36.6</td>\n",
              "      <td>formerly smoked</td>\n",
              "      <td>1</td>\n",
              "    </tr>\n",
              "    <tr>\n",
              "      <th>1</th>\n",
              "      <td>51676</td>\n",
              "      <td>Female</td>\n",
              "      <td>61.0</td>\n",
              "      <td>0</td>\n",
              "      <td>0</td>\n",
              "      <td>Yes</td>\n",
              "      <td>Self-employed</td>\n",
              "      <td>Rural</td>\n",
              "      <td>202.21</td>\n",
              "      <td>NaN</td>\n",
              "      <td>never smoked</td>\n",
              "      <td>1</td>\n",
              "    </tr>\n",
              "    <tr>\n",
              "      <th>2</th>\n",
              "      <td>31112</td>\n",
              "      <td>Male</td>\n",
              "      <td>80.0</td>\n",
              "      <td>0</td>\n",
              "      <td>1</td>\n",
              "      <td>Yes</td>\n",
              "      <td>Private</td>\n",
              "      <td>Rural</td>\n",
              "      <td>105.92</td>\n",
              "      <td>32.5</td>\n",
              "      <td>never smoked</td>\n",
              "      <td>1</td>\n",
              "    </tr>\n",
              "    <tr>\n",
              "      <th>3</th>\n",
              "      <td>60182</td>\n",
              "      <td>Female</td>\n",
              "      <td>49.0</td>\n",
              "      <td>0</td>\n",
              "      <td>0</td>\n",
              "      <td>Yes</td>\n",
              "      <td>Private</td>\n",
              "      <td>Urban</td>\n",
              "      <td>171.23</td>\n",
              "      <td>34.4</td>\n",
              "      <td>smokes</td>\n",
              "      <td>1</td>\n",
              "    </tr>\n",
              "    <tr>\n",
              "      <th>4</th>\n",
              "      <td>1665</td>\n",
              "      <td>Female</td>\n",
              "      <td>79.0</td>\n",
              "      <td>1</td>\n",
              "      <td>0</td>\n",
              "      <td>Yes</td>\n",
              "      <td>Self-employed</td>\n",
              "      <td>Rural</td>\n",
              "      <td>174.12</td>\n",
              "      <td>24.0</td>\n",
              "      <td>never smoked</td>\n",
              "      <td>1</td>\n",
              "    </tr>\n",
              "  </tbody>\n",
              "</table>\n",
              "</div>\n",
              "      <button class=\"colab-df-convert\" onclick=\"convertToInteractive('df-815e6edd-e615-4f30-b339-2bcd008e4b43')\"\n",
              "              title=\"Convert this dataframe to an interactive table.\"\n",
              "              style=\"display:none;\">\n",
              "        \n",
              "  <svg xmlns=\"http://www.w3.org/2000/svg\" height=\"24px\"viewBox=\"0 0 24 24\"\n",
              "       width=\"24px\">\n",
              "    <path d=\"M0 0h24v24H0V0z\" fill=\"none\"/>\n",
              "    <path d=\"M18.56 5.44l.94 2.06.94-2.06 2.06-.94-2.06-.94-.94-2.06-.94 2.06-2.06.94zm-11 1L8.5 8.5l.94-2.06 2.06-.94-2.06-.94L8.5 2.5l-.94 2.06-2.06.94zm10 10l.94 2.06.94-2.06 2.06-.94-2.06-.94-.94-2.06-.94 2.06-2.06.94z\"/><path d=\"M17.41 7.96l-1.37-1.37c-.4-.4-.92-.59-1.43-.59-.52 0-1.04.2-1.43.59L10.3 9.45l-7.72 7.72c-.78.78-.78 2.05 0 2.83L4 21.41c.39.39.9.59 1.41.59.51 0 1.02-.2 1.41-.59l7.78-7.78 2.81-2.81c.8-.78.8-2.07 0-2.86zM5.41 20L4 18.59l7.72-7.72 1.47 1.35L5.41 20z\"/>\n",
              "  </svg>\n",
              "      </button>\n",
              "      \n",
              "  <style>\n",
              "    .colab-df-container {\n",
              "      display:flex;\n",
              "      flex-wrap:wrap;\n",
              "      gap: 12px;\n",
              "    }\n",
              "\n",
              "    .colab-df-convert {\n",
              "      background-color: #E8F0FE;\n",
              "      border: none;\n",
              "      border-radius: 50%;\n",
              "      cursor: pointer;\n",
              "      display: none;\n",
              "      fill: #1967D2;\n",
              "      height: 32px;\n",
              "      padding: 0 0 0 0;\n",
              "      width: 32px;\n",
              "    }\n",
              "\n",
              "    .colab-df-convert:hover {\n",
              "      background-color: #E2EBFA;\n",
              "      box-shadow: 0px 1px 2px rgba(60, 64, 67, 0.3), 0px 1px 3px 1px rgba(60, 64, 67, 0.15);\n",
              "      fill: #174EA6;\n",
              "    }\n",
              "\n",
              "    [theme=dark] .colab-df-convert {\n",
              "      background-color: #3B4455;\n",
              "      fill: #D2E3FC;\n",
              "    }\n",
              "\n",
              "    [theme=dark] .colab-df-convert:hover {\n",
              "      background-color: #434B5C;\n",
              "      box-shadow: 0px 1px 3px 1px rgba(0, 0, 0, 0.15);\n",
              "      filter: drop-shadow(0px 1px 2px rgba(0, 0, 0, 0.3));\n",
              "      fill: #FFFFFF;\n",
              "    }\n",
              "  </style>\n",
              "\n",
              "      <script>\n",
              "        const buttonEl =\n",
              "          document.querySelector('#df-815e6edd-e615-4f30-b339-2bcd008e4b43 button.colab-df-convert');\n",
              "        buttonEl.style.display =\n",
              "          google.colab.kernel.accessAllowed ? 'block' : 'none';\n",
              "\n",
              "        async function convertToInteractive(key) {\n",
              "          const element = document.querySelector('#df-815e6edd-e615-4f30-b339-2bcd008e4b43');\n",
              "          const dataTable =\n",
              "            await google.colab.kernel.invokeFunction('convertToInteractive',\n",
              "                                                     [key], {});\n",
              "          if (!dataTable) return;\n",
              "\n",
              "          const docLinkHtml = 'Like what you see? Visit the ' +\n",
              "            '<a target=\"_blank\" href=https://colab.research.google.com/notebooks/data_table.ipynb>data table notebook</a>'\n",
              "            + ' to learn more about interactive tables.';\n",
              "          element.innerHTML = '';\n",
              "          dataTable['output_type'] = 'display_data';\n",
              "          await google.colab.output.renderOutput(dataTable, element);\n",
              "          const docLink = document.createElement('div');\n",
              "          docLink.innerHTML = docLinkHtml;\n",
              "          element.appendChild(docLink);\n",
              "        }\n",
              "      </script>\n",
              "    </div>\n",
              "  </div>\n",
              "  "
            ]
          },
          "metadata": {},
          "execution_count": 4
        }
      ]
    },
    {
      "cell_type": "markdown",
      "source": [
        "  How many Rows/Columns:"
      ],
      "metadata": {
        "id": "dKpJVqquutMQ"
      }
    },
    {
      "cell_type": "code",
      "source": [
        "# Display the number of rows and columns\n",
        "df.shape\n",
        "print(f'There are {df.shape[0]} rows, and {df.shape[1]} columns')\n",
        "print(f'The rows represent {df.shape[0]} observations, and the columns represent {df.shape[1]-1} features and 1 target variable.')"
      ],
      "metadata": {
        "colab": {
          "base_uri": "https://localhost:8080/"
        },
        "id": "CD9rbZePqW_x",
        "outputId": "8c911960-cce1-497e-ed90-9945c0d9c21d"
      },
      "execution_count": 5,
      "outputs": [
        {
          "output_type": "stream",
          "name": "stdout",
          "text": [
            "There are 5110 rows, and 12 columns\n",
            "The rows represent 5110 observations, and the columns represent 11 features and 1 target variable.\n"
          ]
        }
      ]
    },
    {
      "cell_type": "markdown",
      "source": [
        "##### **Display Column Names, Count of Non-Null Values, and Data Types**"
      ],
      "metadata": {
        "id": "dtbz0D0YPs_Z"
      }
    },
    {
      "cell_type": "code",
      "source": [
        "# Display index, columns, null count, and data types\n",
        "df.info()"
      ],
      "metadata": {
        "colab": {
          "base_uri": "https://localhost:8080/"
        },
        "id": "gAwLxKPTqPOz",
        "outputId": "9ab34c04-930c-4df1-ea0c-579f5bae05b7"
      },
      "execution_count": 6,
      "outputs": [
        {
          "output_type": "stream",
          "name": "stdout",
          "text": [
            "<class 'pandas.core.frame.DataFrame'>\n",
            "RangeIndex: 5110 entries, 0 to 5109\n",
            "Data columns (total 12 columns):\n",
            " #   Column             Non-Null Count  Dtype  \n",
            "---  ------             --------------  -----  \n",
            " 0   id                 5110 non-null   int64  \n",
            " 1   gender             5110 non-null   object \n",
            " 2   age                5110 non-null   float64\n",
            " 3   hypertension       5110 non-null   int64  \n",
            " 4   heart_disease      5110 non-null   int64  \n",
            " 5   ever_married       5110 non-null   object \n",
            " 6   work_type          5110 non-null   object \n",
            " 7   Residence_type     5110 non-null   object \n",
            " 8   avg_glucose_level  5110 non-null   float64\n",
            " 9   bmi                4909 non-null   float64\n",
            " 10  smoking_status     5110 non-null   object \n",
            " 11  stroke             5110 non-null   int64  \n",
            "dtypes: float64(3), int64(4), object(5)\n",
            "memory usage: 479.2+ KB\n"
          ]
        }
      ]
    },
    {
      "cell_type": "markdown",
      "source": [
        "- An age of .08 doesn't make sense we will explore this later."
      ],
      "metadata": {
        "id": "ahYmgb7OOPXm"
      }
    },
    {
      "cell_type": "markdown",
      "source": [
        "#**Clean Data**\n",
        "\n",
        "   "
      ],
      "metadata": {
        "id": "a9YRP1YXJsUE"
      }
    },
    {
      "cell_type": "markdown",
      "source": [
        "Checking the data types:"
      ],
      "metadata": {
        "id": "NfTXzlZH2Lgx"
      }
    },
    {
      "cell_type": "code",
      "source": [
        "# Display data types\n",
        "df.dtypes"
      ],
      "metadata": {
        "colab": {
          "base_uri": "https://localhost:8080/"
        },
        "id": "_yHpk9VW1xfN",
        "outputId": "4b65e2bf-31dd-4808-b8ee-49cf447cc6d5"
      },
      "execution_count": 9,
      "outputs": [
        {
          "output_type": "execute_result",
          "data": {
            "text/plain": [
              "id                     int64\n",
              "gender                object\n",
              "age                  float64\n",
              "hypertension           int64\n",
              "heart_disease          int64\n",
              "ever_married          object\n",
              "work_type             object\n",
              "Residence_type        object\n",
              "avg_glucose_level    float64\n",
              "bmi                  float64\n",
              "smoking_status        object\n",
              "stroke                 int64\n",
              "dtype: object"
            ]
          },
          "metadata": {},
          "execution_count": 9
        }
      ]
    },
    {
      "cell_type": "markdown",
      "source": [
        "- The dataset has a combination of categorical (object) and numeric (float and int) data types.\n",
        "- No mismatched data types were found."
      ],
      "metadata": {
        "id": "h-FBcNQqMQ50"
      }
    },
    {
      "cell_type": "markdown",
      "source": [
        "Identifying missing values:"
      ],
      "metadata": {
        "id": "lr8jc-y83XXU"
      }
    },
    {
      "cell_type": "code",
      "source": [
        "#Display total number of missing values\n",
        "missing_values= df.isna().sum().sum()\n",
        "print(f\"Total number of missing values is {missing_values}\")"
      ],
      "metadata": {
        "colab": {
          "base_uri": "https://localhost:8080/"
        },
        "id": "zwT22ExwMnDe",
        "outputId": "7d110179-bd66-417d-966f-f57ebaf2ac17"
      },
      "execution_count": 10,
      "outputs": [
        {
          "output_type": "stream",
          "name": "stdout",
          "text": [
            "Total number of missing values is 201\n"
          ]
        }
      ]
    },
    {
      "cell_type": "code",
      "source": [
        "# Display the count of missing values for each column\n",
        "df.isna().sum()"
      ],
      "metadata": {
        "colab": {
          "base_uri": "https://localhost:8080/"
        },
        "id": "C_klf1oBrmMT",
        "outputId": "a0f0ed1d-47b1-4d8d-ae35-67fac0c61318"
      },
      "execution_count": 11,
      "outputs": [
        {
          "output_type": "execute_result",
          "data": {
            "text/plain": [
              "id                     0\n",
              "gender                 0\n",
              "age                    0\n",
              "hypertension           0\n",
              "heart_disease          0\n",
              "ever_married           0\n",
              "work_type              0\n",
              "Residence_type         0\n",
              "avg_glucose_level      0\n",
              "bmi                  201\n",
              "smoking_status         0\n",
              "stroke                 0\n",
              "dtype: int64"
            ]
          },
          "metadata": {},
          "execution_count": 11
        }
      ]
    },
    {
      "cell_type": "code",
      "source": [
        "# Display the percentage of missing values for each column\n",
        "df.isna().sum()/len(df) * 100"
      ],
      "metadata": {
        "colab": {
          "base_uri": "https://localhost:8080/"
        },
        "id": "L3ynxJbDM7hN",
        "outputId": "077de916-c197-4185-8263-377f725729f8"
      },
      "execution_count": 12,
      "outputs": [
        {
          "output_type": "execute_result",
          "data": {
            "text/plain": [
              "id                   0.000000\n",
              "gender               0.000000\n",
              "age                  0.000000\n",
              "hypertension         0.000000\n",
              "heart_disease        0.000000\n",
              "ever_married         0.000000\n",
              "work_type            0.000000\n",
              "Residence_type       0.000000\n",
              "avg_glucose_level    0.000000\n",
              "bmi                  3.933464\n",
              "smoking_status       0.000000\n",
              "stroke               0.000000\n",
              "dtype: float64"
            ]
          },
          "metadata": {},
          "execution_count": 12
        }
      ]
    },
    {
      "cell_type": "markdown",
      "source": [
        "There are 3.9% missing values in bmi column.  This will be imputed with SimpleImputer in our preprocessing steps. "
      ],
      "metadata": {
        "id": "fFexgOiZWsy2"
      }
    },
    {
      "cell_type": "markdown",
      "source": [
        "Checking for Duplicates:"
      ],
      "metadata": {
        "id": "w9ZErfA8NlEJ"
      }
    },
    {
      "cell_type": "code",
      "source": [
        "# Display the number of duplicate rows in the dataset\n",
        "print(f'There are {df.duplicated().sum()} duplicate rows.')"
      ],
      "metadata": {
        "colab": {
          "base_uri": "https://localhost:8080/"
        },
        "id": "YaYhvlACNqve",
        "outputId": "c1e60a70-0638-4fb4-e50d-109f651e9b59"
      },
      "execution_count": 13,
      "outputs": [
        {
          "output_type": "stream",
          "name": "stdout",
          "text": [
            "There are 0 duplicate rows.\n"
          ]
        }
      ]
    },
    {
      "cell_type": "markdown",
      "source": [
        "Drop Unnecessary Columns:"
      ],
      "metadata": {
        "id": "lbbKIMYrO18F"
      }
    },
    {
      "cell_type": "code",
      "source": [
        "#Drop column\n",
        "df.drop(columns = ['id'], inplace=True)"
      ],
      "metadata": {
        "id": "1-p5F-bxOyi6"
      },
      "execution_count": 17,
      "outputs": []
    },
    {
      "cell_type": "code",
      "source": [
        "df.columns"
      ],
      "metadata": {
        "colab": {
          "base_uri": "https://localhost:8080/"
        },
        "id": "jQuRDFxhQ24U",
        "outputId": "a373c43f-9c8e-479b-e4e8-73f033c1a2c5"
      },
      "execution_count": 18,
      "outputs": [
        {
          "output_type": "execute_result",
          "data": {
            "text/plain": [
              "Index(['gender', 'age', 'hypertension', 'heart_disease', 'ever_married',\n",
              "       'work_type', 'Residence_type', 'avg_glucose_level', 'bmi',\n",
              "       'smoking_status', 'stroke'],\n",
              "      dtype='object')"
            ]
          },
          "metadata": {},
          "execution_count": 18
        }
      ]
    },
    {
      "cell_type": "markdown",
      "source": [
        "- I have confirmed the 'id' column is now dropped."
      ],
      "metadata": {
        "id": "LqvbERFnQ5en"
      }
    },
    {
      "cell_type": "markdown",
      "source": [
        "##Numerical Columns\n",
        "- Check for inconsistencies in all columns that are Integer or Float data types\n",
        "- Check for unusual or impossible values.\n",
        "- Check for Outliers"
      ],
      "metadata": {
        "id": "TXjP2FBbqVcE"
      }
    },
    {
      "cell_type": "code",
      "source": [
        "#View summary statistics\n",
        "df.describe(include='number')"
      ],
      "metadata": {
        "colab": {
          "base_uri": "https://localhost:8080/",
          "height": 300
        },
        "id": "oP_YKe4eQZ-q",
        "outputId": "caa3f765-4b40-432c-8fdd-84b11081aab2"
      },
      "execution_count": 20,
      "outputs": [
        {
          "output_type": "execute_result",
          "data": {
            "text/plain": [
              "               age  hypertension  heart_disease  avg_glucose_level  \\\n",
              "count  5110.000000   5110.000000    5110.000000        5110.000000   \n",
              "mean     43.226614      0.097456       0.054012         106.147677   \n",
              "std      22.612647      0.296607       0.226063          45.283560   \n",
              "min       0.080000      0.000000       0.000000          55.120000   \n",
              "25%      25.000000      0.000000       0.000000          77.245000   \n",
              "50%      45.000000      0.000000       0.000000          91.885000   \n",
              "75%      61.000000      0.000000       0.000000         114.090000   \n",
              "max      82.000000      1.000000       1.000000         271.740000   \n",
              "\n",
              "               bmi       stroke  \n",
              "count  4909.000000  5110.000000  \n",
              "mean     28.893237     0.048728  \n",
              "std       7.854067     0.215320  \n",
              "min      10.300000     0.000000  \n",
              "25%      23.500000     0.000000  \n",
              "50%      28.100000     0.000000  \n",
              "75%      33.100000     0.000000  \n",
              "max      97.600000     1.000000  "
            ],
            "text/html": [
              "\n",
              "  <div id=\"df-89e22683-c056-4903-9925-f9ac2de4388b\">\n",
              "    <div class=\"colab-df-container\">\n",
              "      <div>\n",
              "<style scoped>\n",
              "    .dataframe tbody tr th:only-of-type {\n",
              "        vertical-align: middle;\n",
              "    }\n",
              "\n",
              "    .dataframe tbody tr th {\n",
              "        vertical-align: top;\n",
              "    }\n",
              "\n",
              "    .dataframe thead th {\n",
              "        text-align: right;\n",
              "    }\n",
              "</style>\n",
              "<table border=\"1\" class=\"dataframe\">\n",
              "  <thead>\n",
              "    <tr style=\"text-align: right;\">\n",
              "      <th></th>\n",
              "      <th>age</th>\n",
              "      <th>hypertension</th>\n",
              "      <th>heart_disease</th>\n",
              "      <th>avg_glucose_level</th>\n",
              "      <th>bmi</th>\n",
              "      <th>stroke</th>\n",
              "    </tr>\n",
              "  </thead>\n",
              "  <tbody>\n",
              "    <tr>\n",
              "      <th>count</th>\n",
              "      <td>5110.000000</td>\n",
              "      <td>5110.000000</td>\n",
              "      <td>5110.000000</td>\n",
              "      <td>5110.000000</td>\n",
              "      <td>4909.000000</td>\n",
              "      <td>5110.000000</td>\n",
              "    </tr>\n",
              "    <tr>\n",
              "      <th>mean</th>\n",
              "      <td>43.226614</td>\n",
              "      <td>0.097456</td>\n",
              "      <td>0.054012</td>\n",
              "      <td>106.147677</td>\n",
              "      <td>28.893237</td>\n",
              "      <td>0.048728</td>\n",
              "    </tr>\n",
              "    <tr>\n",
              "      <th>std</th>\n",
              "      <td>22.612647</td>\n",
              "      <td>0.296607</td>\n",
              "      <td>0.226063</td>\n",
              "      <td>45.283560</td>\n",
              "      <td>7.854067</td>\n",
              "      <td>0.215320</td>\n",
              "    </tr>\n",
              "    <tr>\n",
              "      <th>min</th>\n",
              "      <td>0.080000</td>\n",
              "      <td>0.000000</td>\n",
              "      <td>0.000000</td>\n",
              "      <td>55.120000</td>\n",
              "      <td>10.300000</td>\n",
              "      <td>0.000000</td>\n",
              "    </tr>\n",
              "    <tr>\n",
              "      <th>25%</th>\n",
              "      <td>25.000000</td>\n",
              "      <td>0.000000</td>\n",
              "      <td>0.000000</td>\n",
              "      <td>77.245000</td>\n",
              "      <td>23.500000</td>\n",
              "      <td>0.000000</td>\n",
              "    </tr>\n",
              "    <tr>\n",
              "      <th>50%</th>\n",
              "      <td>45.000000</td>\n",
              "      <td>0.000000</td>\n",
              "      <td>0.000000</td>\n",
              "      <td>91.885000</td>\n",
              "      <td>28.100000</td>\n",
              "      <td>0.000000</td>\n",
              "    </tr>\n",
              "    <tr>\n",
              "      <th>75%</th>\n",
              "      <td>61.000000</td>\n",
              "      <td>0.000000</td>\n",
              "      <td>0.000000</td>\n",
              "      <td>114.090000</td>\n",
              "      <td>33.100000</td>\n",
              "      <td>0.000000</td>\n",
              "    </tr>\n",
              "    <tr>\n",
              "      <th>max</th>\n",
              "      <td>82.000000</td>\n",
              "      <td>1.000000</td>\n",
              "      <td>1.000000</td>\n",
              "      <td>271.740000</td>\n",
              "      <td>97.600000</td>\n",
              "      <td>1.000000</td>\n",
              "    </tr>\n",
              "  </tbody>\n",
              "</table>\n",
              "</div>\n",
              "      <button class=\"colab-df-convert\" onclick=\"convertToInteractive('df-89e22683-c056-4903-9925-f9ac2de4388b')\"\n",
              "              title=\"Convert this dataframe to an interactive table.\"\n",
              "              style=\"display:none;\">\n",
              "        \n",
              "  <svg xmlns=\"http://www.w3.org/2000/svg\" height=\"24px\"viewBox=\"0 0 24 24\"\n",
              "       width=\"24px\">\n",
              "    <path d=\"M0 0h24v24H0V0z\" fill=\"none\"/>\n",
              "    <path d=\"M18.56 5.44l.94 2.06.94-2.06 2.06-.94-2.06-.94-.94-2.06-.94 2.06-2.06.94zm-11 1L8.5 8.5l.94-2.06 2.06-.94-2.06-.94L8.5 2.5l-.94 2.06-2.06.94zm10 10l.94 2.06.94-2.06 2.06-.94-2.06-.94-.94-2.06-.94 2.06-2.06.94z\"/><path d=\"M17.41 7.96l-1.37-1.37c-.4-.4-.92-.59-1.43-.59-.52 0-1.04.2-1.43.59L10.3 9.45l-7.72 7.72c-.78.78-.78 2.05 0 2.83L4 21.41c.39.39.9.59 1.41.59.51 0 1.02-.2 1.41-.59l7.78-7.78 2.81-2.81c.8-.78.8-2.07 0-2.86zM5.41 20L4 18.59l7.72-7.72 1.47 1.35L5.41 20z\"/>\n",
              "  </svg>\n",
              "      </button>\n",
              "      \n",
              "  <style>\n",
              "    .colab-df-container {\n",
              "      display:flex;\n",
              "      flex-wrap:wrap;\n",
              "      gap: 12px;\n",
              "    }\n",
              "\n",
              "    .colab-df-convert {\n",
              "      background-color: #E8F0FE;\n",
              "      border: none;\n",
              "      border-radius: 50%;\n",
              "      cursor: pointer;\n",
              "      display: none;\n",
              "      fill: #1967D2;\n",
              "      height: 32px;\n",
              "      padding: 0 0 0 0;\n",
              "      width: 32px;\n",
              "    }\n",
              "\n",
              "    .colab-df-convert:hover {\n",
              "      background-color: #E2EBFA;\n",
              "      box-shadow: 0px 1px 2px rgba(60, 64, 67, 0.3), 0px 1px 3px 1px rgba(60, 64, 67, 0.15);\n",
              "      fill: #174EA6;\n",
              "    }\n",
              "\n",
              "    [theme=dark] .colab-df-convert {\n",
              "      background-color: #3B4455;\n",
              "      fill: #D2E3FC;\n",
              "    }\n",
              "\n",
              "    [theme=dark] .colab-df-convert:hover {\n",
              "      background-color: #434B5C;\n",
              "      box-shadow: 0px 1px 3px 1px rgba(0, 0, 0, 0.15);\n",
              "      filter: drop-shadow(0px 1px 2px rgba(0, 0, 0, 0.3));\n",
              "      fill: #FFFFFF;\n",
              "    }\n",
              "  </style>\n",
              "\n",
              "      <script>\n",
              "        const buttonEl =\n",
              "          document.querySelector('#df-89e22683-c056-4903-9925-f9ac2de4388b button.colab-df-convert');\n",
              "        buttonEl.style.display =\n",
              "          google.colab.kernel.accessAllowed ? 'block' : 'none';\n",
              "\n",
              "        async function convertToInteractive(key) {\n",
              "          const element = document.querySelector('#df-89e22683-c056-4903-9925-f9ac2de4388b');\n",
              "          const dataTable =\n",
              "            await google.colab.kernel.invokeFunction('convertToInteractive',\n",
              "                                                     [key], {});\n",
              "          if (!dataTable) return;\n",
              "\n",
              "          const docLinkHtml = 'Like what you see? Visit the ' +\n",
              "            '<a target=\"_blank\" href=https://colab.research.google.com/notebooks/data_table.ipynb>data table notebook</a>'\n",
              "            + ' to learn more about interactive tables.';\n",
              "          element.innerHTML = '';\n",
              "          dataTable['output_type'] = 'display_data';\n",
              "          await google.colab.output.renderOutput(dataTable, element);\n",
              "          const docLink = document.createElement('div');\n",
              "          docLink.innerHTML = docLinkHtml;\n",
              "          element.appendChild(docLink);\n",
              "        }\n",
              "      </script>\n",
              "    </div>\n",
              "  </div>\n",
              "  "
            ]
          },
          "metadata": {},
          "execution_count": 20
        }
      ]
    },
    {
      "cell_type": "markdown",
      "source": [
        "- The only unusual values I see are for the age, lets investigate further.   "
      ],
      "metadata": {
        "id": "_OD3j9weSDuO"
      }
    },
    {
      "cell_type": "markdown",
      "source": [
        "### Age Column"
      ],
      "metadata": {
        "id": "Mcui0l_tU6xC"
      }
    },
    {
      "cell_type": "code",
      "source": [
        "df['age'].value_counts()"
      ],
      "metadata": {
        "colab": {
          "base_uri": "https://localhost:8080/"
        },
        "id": "GVDaVfs_OjiN",
        "outputId": "4c139c46-c031-4773-b068-b38e82a0db67"
      },
      "execution_count": 18,
      "outputs": [
        {
          "output_type": "execute_result",
          "data": {
            "text/plain": [
              "78.00    102\n",
              "57.00     95\n",
              "52.00     90\n",
              "54.00     87\n",
              "51.00     86\n",
              "        ... \n",
              "1.40       3\n",
              "0.48       3\n",
              "0.16       3\n",
              "0.40       2\n",
              "0.08       2\n",
              "Name: age, Length: 104, dtype: int64"
            ]
          },
          "metadata": {},
          "execution_count": 18
        }
      ]
    },
    {
      "cell_type": "markdown",
      "source": [
        "- There are some floats we need to convert to whole numbers. "
      ],
      "metadata": {
        "id": "C5UnI6u7RNk7"
      }
    },
    {
      "cell_type": "code",
      "source": [
        "df['age'] = df['age'].round(0)"
      ],
      "metadata": {
        "id": "xV6amUJCTs2s"
      },
      "execution_count": 21,
      "outputs": []
    },
    {
      "cell_type": "code",
      "source": [
        "df['age'].value_counts()"
      ],
      "metadata": {
        "colab": {
          "base_uri": "https://localhost:8080/"
        },
        "id": "PG197LcGTvFt",
        "outputId": "32c38bda-c4bb-4058-c55a-059807717f86"
      },
      "execution_count": 22,
      "outputs": [
        {
          "output_type": "execute_result",
          "data": {
            "text/plain": [
              "78.0    102\n",
              "57.0     95\n",
              "2.0      90\n",
              "52.0     90\n",
              "54.0     87\n",
              "       ... \n",
              "10.0     35\n",
              "4.0      34\n",
              "7.0      32\n",
              "6.0      24\n",
              "0.0      20\n",
              "Name: age, Length: 83, dtype: int64"
            ]
          },
          "metadata": {},
          "execution_count": 22
        }
      ]
    },
    {
      "cell_type": "markdown",
      "source": [
        "I can see we now have 20 ages that are 0, lets round those up to 1. "
      ],
      "metadata": {
        "id": "iH9zeWHuT9k1"
      }
    },
    {
      "cell_type": "code",
      "source": [
        "df['age'] = df['age'].replace(0, 1)"
      ],
      "metadata": {
        "id": "uQ9VUxRZUChN"
      },
      "execution_count": 23,
      "outputs": []
    },
    {
      "cell_type": "code",
      "source": [
        "df['age'].value_counts()"
      ],
      "metadata": {
        "colab": {
          "base_uri": "https://localhost:8080/"
        },
        "id": "sd5KvGgaUW45",
        "outputId": "159a4884-1b5f-409a-c590-1b053d725adc"
      },
      "execution_count": 24,
      "outputs": [
        {
          "output_type": "execute_result",
          "data": {
            "text/plain": [
              "78.0    102\n",
              "57.0     95\n",
              "2.0      90\n",
              "52.0     90\n",
              "54.0     87\n",
              "       ... \n",
              "11.0     36\n",
              "10.0     35\n",
              "4.0      34\n",
              "7.0      32\n",
              "6.0      24\n",
              "Name: age, Length: 82, dtype: int64"
            ]
          },
          "metadata": {},
          "execution_count": 24
        }
      ]
    },
    {
      "cell_type": "code",
      "source": [
        "df['age'].describe()"
      ],
      "metadata": {
        "colab": {
          "base_uri": "https://localhost:8080/"
        },
        "id": "URj9ogPgUZaR",
        "outputId": "a3552b3f-dd01-4521-9233-4308b08a9ea2"
      },
      "execution_count": 25,
      "outputs": [
        {
          "output_type": "execute_result",
          "data": {
            "text/plain": [
              "count    5110.000000\n",
              "mean       43.230528\n",
              "std        22.605333\n",
              "min         1.000000\n",
              "25%        25.000000\n",
              "50%        45.000000\n",
              "75%        61.000000\n",
              "max        82.000000\n",
              "Name: age, dtype: float64"
            ]
          },
          "metadata": {},
          "execution_count": 25
        }
      ]
    },
    {
      "cell_type": "markdown",
      "source": [
        "- We now have a minimum age of 1 and a maximum age of 82"
      ],
      "metadata": {
        "id": "ath0cYJIUe43"
      }
    },
    {
      "cell_type": "markdown",
      "source": [
        "### Hypertension Column"
      ],
      "metadata": {
        "id": "xrVICClzU_Vt"
      }
    },
    {
      "cell_type": "code",
      "source": [
        "df['hypertension'].unique()"
      ],
      "metadata": {
        "colab": {
          "base_uri": "https://localhost:8080/"
        },
        "id": "162xwALSVD3K",
        "outputId": "b78f7103-0d8f-474c-875e-e875910488e6"
      },
      "execution_count": 29,
      "outputs": [
        {
          "output_type": "execute_result",
          "data": {
            "text/plain": [
              "array([0, 1])"
            ]
          },
          "metadata": {},
          "execution_count": 29
        }
      ]
    },
    {
      "cell_type": "markdown",
      "source": [
        "### Heart Disease Column"
      ],
      "metadata": {
        "id": "SMCTJJnzVI5K"
      }
    },
    {
      "cell_type": "code",
      "source": [
        "df['heart_disease'].unique()"
      ],
      "metadata": {
        "colab": {
          "base_uri": "https://localhost:8080/"
        },
        "id": "wTRoZiJhVRGE",
        "outputId": "0b9bb63a-1d5d-49bc-9f03-aef1b5f89110"
      },
      "execution_count": 30,
      "outputs": [
        {
          "output_type": "execute_result",
          "data": {
            "text/plain": [
              "array([1, 0])"
            ]
          },
          "metadata": {},
          "execution_count": 30
        }
      ]
    },
    {
      "cell_type": "markdown",
      "source": [
        "### Average Glucose Level Column"
      ],
      "metadata": {
        "id": "Bn6xzO_dVd5C"
      }
    },
    {
      "cell_type": "code",
      "source": [
        "df['avg_glucose_level'].unique()"
      ],
      "metadata": {
        "colab": {
          "base_uri": "https://localhost:8080/"
        },
        "id": "wYlwuunIVVIu",
        "outputId": "c53c3690-0f6a-4e2f-b64a-baed40f97f7b"
      },
      "execution_count": 32,
      "outputs": [
        {
          "output_type": "execute_result",
          "data": {
            "text/plain": [
              "array([228.69, 202.21, 105.92, ...,  82.99, 166.29,  85.28])"
            ]
          },
          "metadata": {},
          "execution_count": 32
        }
      ]
    },
    {
      "cell_type": "markdown",
      "source": [
        "### BMI Column"
      ],
      "metadata": {
        "id": "vRB7Tj0rVkPc"
      }
    },
    {
      "cell_type": "code",
      "source": [
        "df['bmi'].unique()"
      ],
      "metadata": {
        "colab": {
          "base_uri": "https://localhost:8080/"
        },
        "id": "DR3yNGcFVma9",
        "outputId": "62a8fe1e-299d-401b-dc05-720c5b8966a7"
      },
      "execution_count": 33,
      "outputs": [
        {
          "output_type": "execute_result",
          "data": {
            "text/plain": [
              "array([36.6,  nan, 32.5, 34.4, 24. , 29. , 27.4, 22.8, 24.2, 29.7, 36.8,\n",
              "       27.3, 28.2, 30.9, 37.5, 25.8, 37.8, 22.4, 48.9, 26.6, 27.2, 23.5,\n",
              "       28.3, 44.2, 25.4, 22.2, 30.5, 26.5, 33.7, 23.1, 32. , 29.9, 23.9,\n",
              "       28.5, 26.4, 20.2, 33.6, 38.6, 39.2, 27.7, 31.4, 36.5, 33.2, 32.8,\n",
              "       40.4, 25.3, 30.2, 47.5, 20.3, 30. , 28.9, 28.1, 31.1, 21.7, 27. ,\n",
              "       24.1, 45.9, 44.1, 22.9, 29.1, 32.3, 41.1, 25.6, 29.8, 26.3, 26.2,\n",
              "       29.4, 24.4, 28. , 28.8, 34.6, 19.4, 30.3, 41.5, 22.6, 56.6, 27.1,\n",
              "       31.3, 31. , 31.7, 35.8, 28.4, 20.1, 26.7, 38.7, 34.9, 25. , 23.8,\n",
              "       21.8, 27.5, 24.6, 32.9, 26.1, 31.9, 34.1, 36.9, 37.3, 45.7, 34.2,\n",
              "       23.6, 22.3, 37.1, 45. , 25.5, 30.8, 37.4, 34.5, 27.9, 29.5, 46. ,\n",
              "       42.5, 35.5, 26.9, 45.5, 31.5, 33. , 23.4, 30.7, 20.5, 21.5, 40. ,\n",
              "       28.6, 42.2, 29.6, 35.4, 16.9, 26.8, 39.3, 32.6, 35.9, 21.2, 42.4,\n",
              "       40.5, 36.7, 29.3, 19.6, 18. , 17.6, 19.1, 50.1, 17.7, 54.6, 35. ,\n",
              "       22. , 39.4, 19.7, 22.5, 25.2, 41.8, 60.9, 23.7, 24.5, 31.2, 16. ,\n",
              "       31.6, 25.1, 24.8, 18.3, 20. , 19.5, 36. , 35.3, 40.1, 43.1, 21.4,\n",
              "       34.3, 27.6, 16.5, 24.3, 25.7, 21.9, 38.4, 25.9, 54.7, 18.6, 24.9,\n",
              "       48.2, 20.7, 39.5, 23.3, 64.8, 35.1, 43.6, 21. , 47.3, 16.6, 21.6,\n",
              "       15.5, 35.6, 16.7, 41.9, 16.4, 17.1, 29.2, 37.9, 44.6, 39.6, 40.3,\n",
              "       41.6, 39. , 23.2, 18.9, 36.1, 36.3, 46.5, 16.8, 46.6, 35.2, 20.9,\n",
              "       13.8, 31.8, 15.3, 38.2, 45.2, 17. , 49.8, 27.8, 60.2, 23. , 22.1,\n",
              "       26. , 44.3, 51. , 39.7, 34.7, 21.3, 41.2, 34.8, 19.2, 35.7, 40.8,\n",
              "       24.7, 19. , 32.4, 34. , 28.7, 32.1, 51.5, 20.4, 30.6, 71.9, 19.3,\n",
              "       40.9, 17.2, 16.1, 16.2, 40.6, 18.4, 21.1, 42.3, 32.2, 50.2, 17.5,\n",
              "       18.7, 42.1, 47.8, 20.8, 30.1, 17.3, 36.4, 12. , 36.2, 55.7, 14.4,\n",
              "       43. , 41.7, 33.8, 43.9, 22.7, 57.5, 37. , 38.5, 16.3, 44. , 32.7,\n",
              "       54.2, 40.2, 33.3, 17.4, 41.3, 52.3, 14.6, 17.8, 46.1, 33.1, 18.1,\n",
              "       43.8, 50.3, 38.9, 43.7, 39.9, 15.9, 19.8, 12.3, 78. , 38.3, 41. ,\n",
              "       42.6, 43.4, 15.1, 20.6, 33.5, 43.2, 30.4, 38. , 33.4, 44.9, 44.7,\n",
              "       37.6, 39.8, 53.4, 55.2, 42. , 37.2, 42.8, 18.8, 42.9, 14.3, 37.7,\n",
              "       48.4, 50.6, 46.2, 49.5, 43.3, 33.9, 18.5, 44.5, 45.4, 55. , 54.8,\n",
              "       19.9, 17.9, 15.6, 52.8, 15.2, 66.8, 55.1, 18.2, 48.5, 55.9, 57.3,\n",
              "       10.3, 14.1, 15.7, 56. , 44.8, 13.4, 51.8, 38.1, 57.7, 44.4, 38.8,\n",
              "       49.3, 39.1, 54. , 56.1, 97.6, 53.9, 13.7, 11.5, 41.4, 14.2, 49.4,\n",
              "       15.4, 45.1, 49.2, 48.7, 53.8, 42.7, 48.8, 52.7, 53.5, 50.5, 15.8,\n",
              "       45.3, 14.8, 51.9, 63.3, 40.7, 61.2, 48. , 46.8, 48.3, 58.1, 50.4,\n",
              "       11.3, 12.8, 13.5, 14.5, 15. , 59.7, 47.4, 52.5, 13.2, 52.9, 61.6,\n",
              "       49.9, 54.3, 47.9, 13. , 13.9, 50.9, 57.2, 64.4, 92. , 50.8, 57.9,\n",
              "       45.8, 47.6, 14. , 46.4, 46.9, 47.1, 13.3, 48.1, 51.7, 46.3, 54.1,\n",
              "       14.9])"
            ]
          },
          "metadata": {},
          "execution_count": 33
        }
      ]
    },
    {
      "cell_type": "markdown",
      "source": [
        "### Stroke Column"
      ],
      "metadata": {
        "id": "PiyA74I6VyIM"
      }
    },
    {
      "cell_type": "code",
      "source": [
        "df['stroke'].unique()"
      ],
      "metadata": {
        "colab": {
          "base_uri": "https://localhost:8080/"
        },
        "id": "ktF3iPwpVzuk",
        "outputId": "e8af655f-9047-4992-8bdd-126f3052180f"
      },
      "execution_count": 34,
      "outputs": [
        {
          "output_type": "execute_result",
          "data": {
            "text/plain": [
              "array([1, 0])"
            ]
          },
          "metadata": {},
          "execution_count": 34
        }
      ]
    },
    {
      "cell_type": "markdown",
      "source": [
        "## Categorical Columns\n",
        "- Check for inconsistencies in all columns that are object data types\n"
      ],
      "metadata": {
        "id": "re0HGR1OQLe-"
      }
    },
    {
      "cell_type": "code",
      "source": [
        "#View Summary Statistics for Object data types\n",
        "df.describe(include='object')"
      ],
      "metadata": {
        "colab": {
          "base_uri": "https://localhost:8080/",
          "height": 175
        },
        "id": "Gq_H24frODIY",
        "outputId": "c04d78c9-10e7-41c7-aa95-367b1dc0fd8c"
      },
      "execution_count": 35,
      "outputs": [
        {
          "output_type": "execute_result",
          "data": {
            "text/plain": [
              "        gender ever_married work_type Residence_type smoking_status\n",
              "count     5110         5110      5110           5110           5110\n",
              "unique       3            2         5              2              4\n",
              "top     Female          Yes   Private          Urban   never smoked\n",
              "freq      2994         3353      2925           2596           1892"
            ],
            "text/html": [
              "\n",
              "  <div id=\"df-2165b9f5-8568-4844-bfb4-eb4f058377ca\">\n",
              "    <div class=\"colab-df-container\">\n",
              "      <div>\n",
              "<style scoped>\n",
              "    .dataframe tbody tr th:only-of-type {\n",
              "        vertical-align: middle;\n",
              "    }\n",
              "\n",
              "    .dataframe tbody tr th {\n",
              "        vertical-align: top;\n",
              "    }\n",
              "\n",
              "    .dataframe thead th {\n",
              "        text-align: right;\n",
              "    }\n",
              "</style>\n",
              "<table border=\"1\" class=\"dataframe\">\n",
              "  <thead>\n",
              "    <tr style=\"text-align: right;\">\n",
              "      <th></th>\n",
              "      <th>gender</th>\n",
              "      <th>ever_married</th>\n",
              "      <th>work_type</th>\n",
              "      <th>Residence_type</th>\n",
              "      <th>smoking_status</th>\n",
              "    </tr>\n",
              "  </thead>\n",
              "  <tbody>\n",
              "    <tr>\n",
              "      <th>count</th>\n",
              "      <td>5110</td>\n",
              "      <td>5110</td>\n",
              "      <td>5110</td>\n",
              "      <td>5110</td>\n",
              "      <td>5110</td>\n",
              "    </tr>\n",
              "    <tr>\n",
              "      <th>unique</th>\n",
              "      <td>3</td>\n",
              "      <td>2</td>\n",
              "      <td>5</td>\n",
              "      <td>2</td>\n",
              "      <td>4</td>\n",
              "    </tr>\n",
              "    <tr>\n",
              "      <th>top</th>\n",
              "      <td>Female</td>\n",
              "      <td>Yes</td>\n",
              "      <td>Private</td>\n",
              "      <td>Urban</td>\n",
              "      <td>never smoked</td>\n",
              "    </tr>\n",
              "    <tr>\n",
              "      <th>freq</th>\n",
              "      <td>2994</td>\n",
              "      <td>3353</td>\n",
              "      <td>2925</td>\n",
              "      <td>2596</td>\n",
              "      <td>1892</td>\n",
              "    </tr>\n",
              "  </tbody>\n",
              "</table>\n",
              "</div>\n",
              "      <button class=\"colab-df-convert\" onclick=\"convertToInteractive('df-2165b9f5-8568-4844-bfb4-eb4f058377ca')\"\n",
              "              title=\"Convert this dataframe to an interactive table.\"\n",
              "              style=\"display:none;\">\n",
              "        \n",
              "  <svg xmlns=\"http://www.w3.org/2000/svg\" height=\"24px\"viewBox=\"0 0 24 24\"\n",
              "       width=\"24px\">\n",
              "    <path d=\"M0 0h24v24H0V0z\" fill=\"none\"/>\n",
              "    <path d=\"M18.56 5.44l.94 2.06.94-2.06 2.06-.94-2.06-.94-.94-2.06-.94 2.06-2.06.94zm-11 1L8.5 8.5l.94-2.06 2.06-.94-2.06-.94L8.5 2.5l-.94 2.06-2.06.94zm10 10l.94 2.06.94-2.06 2.06-.94-2.06-.94-.94-2.06-.94 2.06-2.06.94z\"/><path d=\"M17.41 7.96l-1.37-1.37c-.4-.4-.92-.59-1.43-.59-.52 0-1.04.2-1.43.59L10.3 9.45l-7.72 7.72c-.78.78-.78 2.05 0 2.83L4 21.41c.39.39.9.59 1.41.59.51 0 1.02-.2 1.41-.59l7.78-7.78 2.81-2.81c.8-.78.8-2.07 0-2.86zM5.41 20L4 18.59l7.72-7.72 1.47 1.35L5.41 20z\"/>\n",
              "  </svg>\n",
              "      </button>\n",
              "      \n",
              "  <style>\n",
              "    .colab-df-container {\n",
              "      display:flex;\n",
              "      flex-wrap:wrap;\n",
              "      gap: 12px;\n",
              "    }\n",
              "\n",
              "    .colab-df-convert {\n",
              "      background-color: #E8F0FE;\n",
              "      border: none;\n",
              "      border-radius: 50%;\n",
              "      cursor: pointer;\n",
              "      display: none;\n",
              "      fill: #1967D2;\n",
              "      height: 32px;\n",
              "      padding: 0 0 0 0;\n",
              "      width: 32px;\n",
              "    }\n",
              "\n",
              "    .colab-df-convert:hover {\n",
              "      background-color: #E2EBFA;\n",
              "      box-shadow: 0px 1px 2px rgba(60, 64, 67, 0.3), 0px 1px 3px 1px rgba(60, 64, 67, 0.15);\n",
              "      fill: #174EA6;\n",
              "    }\n",
              "\n",
              "    [theme=dark] .colab-df-convert {\n",
              "      background-color: #3B4455;\n",
              "      fill: #D2E3FC;\n",
              "    }\n",
              "\n",
              "    [theme=dark] .colab-df-convert:hover {\n",
              "      background-color: #434B5C;\n",
              "      box-shadow: 0px 1px 3px 1px rgba(0, 0, 0, 0.15);\n",
              "      filter: drop-shadow(0px 1px 2px rgba(0, 0, 0, 0.3));\n",
              "      fill: #FFFFFF;\n",
              "    }\n",
              "  </style>\n",
              "\n",
              "      <script>\n",
              "        const buttonEl =\n",
              "          document.querySelector('#df-2165b9f5-8568-4844-bfb4-eb4f058377ca button.colab-df-convert');\n",
              "        buttonEl.style.display =\n",
              "          google.colab.kernel.accessAllowed ? 'block' : 'none';\n",
              "\n",
              "        async function convertToInteractive(key) {\n",
              "          const element = document.querySelector('#df-2165b9f5-8568-4844-bfb4-eb4f058377ca');\n",
              "          const dataTable =\n",
              "            await google.colab.kernel.invokeFunction('convertToInteractive',\n",
              "                                                     [key], {});\n",
              "          if (!dataTable) return;\n",
              "\n",
              "          const docLinkHtml = 'Like what you see? Visit the ' +\n",
              "            '<a target=\"_blank\" href=https://colab.research.google.com/notebooks/data_table.ipynb>data table notebook</a>'\n",
              "            + ' to learn more about interactive tables.';\n",
              "          element.innerHTML = '';\n",
              "          dataTable['output_type'] = 'display_data';\n",
              "          await google.colab.output.renderOutput(dataTable, element);\n",
              "          const docLink = document.createElement('div');\n",
              "          docLink.innerHTML = docLinkHtml;\n",
              "          element.appendChild(docLink);\n",
              "        }\n",
              "      </script>\n",
              "    </div>\n",
              "  </div>\n",
              "  "
            ]
          },
          "metadata": {},
          "execution_count": 35
        }
      ]
    },
    {
      "cell_type": "code",
      "source": [
        "from scipy.sparse import data\n",
        "# Create a series of the datatypes\n",
        "data_types = df.dtypes\n",
        "# Create a filter to select only the object datatypes\n",
        "object_data_types = data_types[(data_types == 'object')]\n",
        "# Display the series of object datatypes\n",
        "object_data_types"
      ],
      "metadata": {
        "colab": {
          "base_uri": "https://localhost:8080/"
        },
        "id": "8szF98bBmbQB",
        "outputId": "708f775a-1aa6-4831-e068-43f4cea32980"
      },
      "execution_count": 26,
      "outputs": [
        {
          "output_type": "execute_result",
          "data": {
            "text/plain": [
              "gender            object\n",
              "ever_married      object\n",
              "work_type         object\n",
              "Residence_type    object\n",
              "smoking_status    object\n",
              "dtype: object"
            ]
          },
          "metadata": {},
          "execution_count": 26
        }
      ]
    },
    {
      "cell_type": "code",
      "source": [
        "## Display the index of object datatypes\n",
        "object_data_types.index"
      ],
      "metadata": {
        "colab": {
          "base_uri": "https://localhost:8080/"
        },
        "id": "LUxECwONmiMG",
        "outputId": "0df8cb84-5481-419e-81c2-ef6e41205da9"
      },
      "execution_count": 27,
      "outputs": [
        {
          "output_type": "execute_result",
          "data": {
            "text/plain": [
              "Index(['gender', 'ever_married', 'work_type', 'Residence_type',\n",
              "       'smoking_status'],\n",
              "      dtype='object')"
            ]
          },
          "metadata": {},
          "execution_count": 27
        }
      ]
    },
    {
      "cell_type": "code",
      "source": [
        "## Loop through the object datatype columns\n",
        "for column in object_data_types.index:\n",
        "    ## Print the column name\n",
        "    print(column)\n",
        "    ## Print the unique values from the column\n",
        "    print(df[column].unique())\n",
        "    ## Print a blank row\n",
        "    print('\\n')"
      ],
      "metadata": {
        "colab": {
          "base_uri": "https://localhost:8080/"
        },
        "id": "6TaP7b7wmoc5",
        "outputId": "b55a7741-0cc2-4dbd-8d6f-65e66694d3ef"
      },
      "execution_count": 28,
      "outputs": [
        {
          "output_type": "stream",
          "name": "stdout",
          "text": [
            "gender\n",
            "['Male' 'Female' 'Other']\n",
            "\n",
            "\n",
            "ever_married\n",
            "['Yes' 'No']\n",
            "\n",
            "\n",
            "work_type\n",
            "['Private' 'Self-employed' 'Govt_job' 'children' 'Never_worked']\n",
            "\n",
            "\n",
            "Residence_type\n",
            "['Urban' 'Rural']\n",
            "\n",
            "\n",
            "smoking_status\n",
            "['formerly smoked' 'never smoked' 'smokes' 'Unknown']\n",
            "\n",
            "\n"
          ]
        }
      ]
    },
    {
      "cell_type": "markdown",
      "source": [
        "- No inconsistencies noted"
      ],
      "metadata": {
        "id": "uJeYhZyWWpqz"
      }
    },
    {
      "cell_type": "markdown",
      "source": [
        "# **Exploratory Data Analysis**"
      ],
      "metadata": {
        "id": "jZNgrLlYJscb"
      }
    },
    {
      "cell_type": "markdown",
      "source": [
        "##Numerical Columns\n",
        "\n"
      ],
      "metadata": {
        "id": "Xg4x8reMjw5D"
      }
    },
    {
      "cell_type": "markdown",
      "source": [
        "- For each numeric column, we will visualize the distribution with a histogram"
      ],
      "metadata": {
        "id": "wOpGkN-Vxwsy"
      }
    },
    {
      "cell_type": "markdown",
      "source": [
        "### Age Column"
      ],
      "metadata": {
        "id": "1-dvcg8nuBO6"
      }
    },
    {
      "cell_type": "code",
      "source": [
        "#Display the descriptive statistics for the column\n",
        "df['age'].describe()"
      ],
      "metadata": {
        "colab": {
          "base_uri": "https://localhost:8080/"
        },
        "id": "rky3KG2ZkK0-",
        "outputId": "81a57ddd-41b4-4017-d084-f8d9e731b705"
      },
      "execution_count": 36,
      "outputs": [
        {
          "output_type": "execute_result",
          "data": {
            "text/plain": [
              "count    5110.000000\n",
              "mean       43.230528\n",
              "std        22.605333\n",
              "min         1.000000\n",
              "25%        25.000000\n",
              "50%        45.000000\n",
              "75%        61.000000\n",
              "max        82.000000\n",
              "Name: age, dtype: float64"
            ]
          },
          "metadata": {},
          "execution_count": 36
        }
      ]
    },
    {
      "cell_type": "code",
      "source": [
        "## Define a MatplotLib ax object using seaborn.histplot()\n",
        "## Default Bins = 'auto'\n",
        "ax = sns.histplot(data=df,\n",
        "                  x='age')\n",
        "plt.xticks(fontsize=10, weight='bold')\n",
        "plt.yticks(fontsize=10, weight='bold')\n",
        "# Set Axes Labels\n",
        "ax.set_xlabel('Age', fontsize=14, weight='bold')\n",
        "ax.set_ylabel('Count', fontsize=14, weight='bold')\n",
        "# Add a title\n",
        "ax.set_title('Distribution of Age', fontsize=16, weight='bold');"
      ],
      "metadata": {
        "colab": {
          "base_uri": "https://localhost:8080/",
          "height": 479
        },
        "id": "ymLcqmBbv082",
        "outputId": "4d1e267b-f1df-474e-93f8-de9ece02da6d"
      },
      "execution_count": 39,
      "outputs": [
        {
          "output_type": "display_data",
          "data": {
            "text/plain": [
              "<Figure size 640x480 with 1 Axes>"
            ],
            "image/png": "[encoded data removed]"
          },
          "metadata": {}
        }
      ]
    },
    {
      "cell_type": "markdown",
      "source": [
        "- Age Boxplot"
      ],
      "metadata": {
        "id": "Pn9-Pkfmu6Zs"
      }
    },
    {
      "cell_type": "code",
      "source": [
        "## Define a MatplotLib ax object using seaborn.boxplot()\n",
        "# Use x = for horizontal\n",
        "ax = sns.boxplot(data = df,\n",
        "                 x = 'age')\n",
        "ax.set_xlabel('Age', fontsize=14, weight='bold')\n",
        "plt.xticks(fontsize=10, weight='bold');\n"
      ],
      "metadata": {
        "colab": {
          "base_uri": "https://localhost:8080/",
          "height": 454
        },
        "id": "Yw4bWOlBvAl5",
        "outputId": "0d2137e5-8054-4b59-b2e4-9479d8c76bb4"
      },
      "execution_count": 40,
      "outputs": [
        {
          "output_type": "display_data",
          "data": {
            "text/plain": [
              "<Figure size 640x480 with 1 Axes>"
            ],
            "image/png": "[encoded data removed]"
          },
          "metadata": {}
        }
      ]
    },
    {
      "cell_type": "markdown",
      "source": [
        "- There are no outliers and the median Age is 45."
      ],
      "metadata": {
        "id": "91VpyOwXvF8U"
      }
    },
    {
      "cell_type": "markdown",
      "source": [
        "###Hypertension Column"
      ],
      "metadata": {
        "id": "U_syKFRrLAvl"
      }
    },
    {
      "cell_type": "code",
      "source": [
        "## Define a MatplotLib ax object using seaborn.histplot()\n",
        "## Default Bins = 'auto'\n",
        "ax = sns.histplot(data=df,\n",
        "                  x='hypertension')\n",
        "plt.xticks(fontsize=10, weight='bold')\n",
        "plt.yticks(fontsize=10, weight='bold')\n",
        "# Set Axes Labels\n",
        "ax.set_xlabel('Hypertension', fontsize=14, weight='bold')\n",
        "ax.set_ylabel('Count', fontsize=14, weight='bold')\n",
        "# Add a title\n",
        "ax.set_title('Distribution of Hypertension', fontsize=16, weight='bold');"
      ],
      "metadata": {
        "colab": {
          "base_uri": "https://localhost:8080/",
          "height": 479
        },
        "id": "5CZ6G7lOw6JB",
        "outputId": "f455cb82-1fe9-4ec2-aeac-cec311b72931"
      },
      "execution_count": 41,
      "outputs": [
        {
          "output_type": "display_data",
          "data": {
            "text/plain": [
              "<Figure size 640x480 with 1 Axes>"
            ],
            "image/png": "[encoded data removed]"
          },
          "metadata": {}
        }
      ]
    },
    {
      "cell_type": "markdown",
      "source": [
        " - Where 0 indicates does not have hypertension and 1 indicates they do.  The majority do not have hypertension. "
      ],
      "metadata": {
        "id": "PSRl2_l5YGi2"
      }
    },
    {
      "cell_type": "markdown",
      "source": [
        "### Heart Disease Column"
      ],
      "metadata": {
        "id": "4IOVUXDHdaku"
      }
    },
    {
      "cell_type": "code",
      "source": [
        "## Define a MatplotLib ax object using seaborn.histplot()\n",
        "## Default Bins = 'auto'\n",
        "ax = sns.histplot(data=df,\n",
        "                  x='heart_disease')\n",
        "plt.xticks(fontsize=10, weight='bold')\n",
        "plt.yticks(fontsize=10, weight='bold')\n",
        "# Set Axes Labels\n",
        "ax.set_xlabel('Heart Disease', fontsize=14, weight='bold')\n",
        "ax.set_ylabel('Count', fontsize=14, weight='bold')\n",
        "# Add a title\n",
        "ax.set_title('Distribution of Heart Disease', fontsize=16, weight='bold');"
      ],
      "metadata": {
        "colab": {
          "base_uri": "https://localhost:8080/",
          "height": 479
        },
        "id": "mvkqffeZdgh5",
        "outputId": "1c9eb399-6d30-48b0-ab0b-b4ccbb490850"
      },
      "execution_count": 49,
      "outputs": [
        {
          "output_type": "display_data",
          "data": {
            "text/plain": [
              "<Figure size 640x480 with 1 Axes>"
            ],
            "image/png": "[encoded data removed]"
          },
          "metadata": {}
        }
      ]
    },
    {
      "cell_type": "markdown",
      "source": [
        "Where 0 indicates does not have heart disease and 1 indicates they do. The majority do not have heart disease."
      ],
      "metadata": {
        "id": "kgmQa6CCdsHq"
      }
    },
    {
      "cell_type": "markdown",
      "source": [
        "### Average Glucose Level"
      ],
      "metadata": {
        "id": "6SMimeSAd8gd"
      }
    },
    {
      "cell_type": "code",
      "source": [
        "## Define a MatplotLib ax object using seaborn.histplot()\n",
        "## Default Bins = 'auto'\n",
        "ax = sns.histplot(data=df,\n",
        "                  x='avg_glucose_level')\n",
        "plt.xticks(fontsize=10, weight='bold')\n",
        "plt.yticks(fontsize=10, weight='bold')\n",
        "# Set Axes Labels\n",
        "ax.set_xlabel('Average Glucose Level', fontsize=14, weight='bold')\n",
        "ax.set_ylabel('Count', fontsize=14, weight='bold')\n",
        "# Add a title\n",
        "ax.set_title('Distribution of Average Glucose Level', fontsize=16, weight='bold');"
      ],
      "metadata": {
        "colab": {
          "base_uri": "https://localhost:8080/",
          "height": 479
        },
        "id": "nDZ4Suz4d-m3",
        "outputId": "ba7703e8-2ab6-4e2f-8f89-56b1033af5f5"
      },
      "execution_count": 54,
      "outputs": [
        {
          "output_type": "display_data",
          "data": {
            "text/plain": [
              "<Figure size 640x480 with 1 Axes>"
            ],
            "image/png": "[encoded data removed]"
          },
          "metadata": {}
        }
      ]
    },
    {
      "cell_type": "markdown",
      "source": [
        "- The maximum average glucose level is 270 where most people had an average glucose level of under 100.  "
      ],
      "metadata": {
        "id": "HNSAY0qzetFq"
      }
    },
    {
      "cell_type": "markdown",
      "source": [
        "### BMI Column"
      ],
      "metadata": {
        "id": "8CbmibK0fSq6"
      }
    },
    {
      "cell_type": "code",
      "source": [
        "## Define a MatplotLib ax object using seaborn.histplot()\n",
        "## Default Bins = 'auto'\n",
        "ax = sns.histplot(data=df,\n",
        "                  x='bmi')\n",
        "plt.xticks(fontsize=10, weight='bold')\n",
        "plt.yticks(fontsize=10, weight='bold')\n",
        "# Set Axes Labels\n",
        "ax.set_xlabel('BMI', fontsize=14, weight='bold')\n",
        "ax.set_ylabel('Count', fontsize=14, weight='bold')\n",
        "# Add a title\n",
        "ax.set_title('Distribution of BMI', fontsize=16, weight='bold');"
      ],
      "metadata": {
        "colab": {
          "base_uri": "https://localhost:8080/",
          "height": 479
        },
        "id": "kHhNbZbqfWdC",
        "outputId": "c0cb30b1-6648-4103-8721-6418aa7bbcb8"
      },
      "execution_count": 55,
      "outputs": [
        {
          "output_type": "display_data",
          "data": {
            "text/plain": [
              "<Figure size 640x480 with 1 Axes>"
            ],
            "image/png": "[encoded data removed]"
          },
          "metadata": {}
        }
      ]
    },
    {
      "cell_type": "markdown",
      "source": [
        "- The mean and median BMI were 28. "
      ],
      "metadata": {
        "id": "Qa7DzTiWfpTF"
      }
    },
    {
      "cell_type": "markdown",
      "source": [
        "### Stroke Column"
      ],
      "metadata": {
        "id": "eOGtQOhacnuC"
      }
    },
    {
      "cell_type": "code",
      "source": [
        "## Define a MatplotLib ax object using seaborn.histplot()\n",
        "## Default Bins = 'auto'\n",
        "ax = sns.histplot(data=df,\n",
        "                  x='stroke')\n",
        "plt.xticks(fontsize=10, weight='bold')\n",
        "plt.yticks(fontsize=10, weight='bold')\n",
        "# Set Axes Labels\n",
        "ax.set_xlabel('Stroke', fontsize=14, weight='bold')\n",
        "ax.set_ylabel('Count', fontsize=14, weight='bold')\n",
        "# Add a title\n",
        "ax.set_title('Distribution of Stroke', fontsize=16, weight='bold');"
      ],
      "metadata": {
        "colab": {
          "base_uri": "https://localhost:8080/",
          "height": 479
        },
        "id": "_wb_bbDeccGI",
        "outputId": "4aa6d410-297e-4d20-f42f-e29b9d294049"
      },
      "execution_count": 48,
      "outputs": [
        {
          "output_type": "display_data",
          "data": {
            "text/plain": [
              "<Figure size 640x480 with 1 Axes>"
            ],
            "image/png": "[encoded data removed]"
          },
          "metadata": {}
        }
      ]
    },
    {
      "cell_type": "markdown",
      "source": [
        "- We can see this is a very unbalanced dataset with most showing 0 which is no stroke. "
      ],
      "metadata": {
        "id": "CQdPcb4ycqkR"
      }
    },
    {
      "cell_type": "markdown",
      "source": [
        "##Categorical Columns"
      ],
      "metadata": {
        "id": "-UY5QBis2R1V"
      }
    },
    {
      "cell_type": "markdown",
      "source": [
        "- For each categorical column we will display the value counts, descriptive statistics, and a bar plot to visualize the data."
      ],
      "metadata": {
        "id": "GDoaoxrLgGCB"
      }
    },
    {
      "cell_type": "markdown",
      "source": [
        "###Gender Column"
      ],
      "metadata": {
        "id": "ABntGOsDgUun"
      }
    },
    {
      "cell_type": "code",
      "source": [
        "#Display the value counts for the column\n",
        "df['gender'].value_counts()"
      ],
      "metadata": {
        "colab": {
          "base_uri": "https://localhost:8080/"
        },
        "id": "OKxHsw3tgT5u",
        "outputId": "d34e05f4-9703-4f64-941b-1b5e70d5c6a3"
      },
      "execution_count": 56,
      "outputs": [
        {
          "output_type": "execute_result",
          "data": {
            "text/plain": [
              "Female    2994\n",
              "Male      2115\n",
              "Other        1\n",
              "Name: gender, dtype: int64"
            ]
          },
          "metadata": {},
          "execution_count": 56
        }
      ]
    },
    {
      "cell_type": "code",
      "source": [
        "#Display the normalized value counts for the column\n",
        "df['gender'].value_counts(normalize = True)"
      ],
      "metadata": {
        "colab": {
          "base_uri": "https://localhost:8080/"
        },
        "id": "wnjy4z-Igb5I",
        "outputId": "39635327-6336-4048-ca04-516b3ebb7266"
      },
      "execution_count": 57,
      "outputs": [
        {
          "output_type": "execute_result",
          "data": {
            "text/plain": [
              "Female    0.585910\n",
              "Male      0.413894\n",
              "Other     0.000196\n",
              "Name: gender, dtype: float64"
            ]
          },
          "metadata": {},
          "execution_count": 57
        }
      ]
    },
    {
      "cell_type": "code",
      "source": [
        "#Display the descriptive statistics for the column\n",
        "df['gender'].describe()"
      ],
      "metadata": {
        "colab": {
          "base_uri": "https://localhost:8080/"
        },
        "id": "ACG5cyCqgiEE",
        "outputId": "b7cdaac1-ade5-4259-dcce-bf29aa23d503"
      },
      "execution_count": 58,
      "outputs": [
        {
          "output_type": "execute_result",
          "data": {
            "text/plain": [
              "count       5110\n",
              "unique         3\n",
              "top       Female\n",
              "freq        2994\n",
              "Name: gender, dtype: object"
            ]
          },
          "metadata": {},
          "execution_count": 58
        }
      ]
    },
    {
      "cell_type": "code",
      "source": [
        "## Define a MatplotLib ax object using seaborn.countplot()\n",
        "ax = sns.countplot(data=df,\n",
        "                   x='gender')\n",
        "plt.xticks(fontsize=10, weight='bold')\n",
        "plt.yticks(fontsize=10, weight='bold')\n",
        "# Set Axes Labels\n",
        "ax.set_xlabel('Gender', fontsize=14, weight='bold')\n",
        "ax.set_ylabel('Count', fontsize=14, weight='bold')\n",
        "## Set the Title\n",
        "ax.set_title('Gender', fontsize=16, weight='bold');"
      ],
      "metadata": {
        "colab": {
          "base_uri": "https://localhost:8080/",
          "height": 479
        },
        "id": "s5pOZPcWgm5f",
        "outputId": "b24fe756-77a6-4dd3-99e2-6e9bad5ce76d"
      },
      "execution_count": 59,
      "outputs": [
        {
          "output_type": "display_data",
          "data": {
            "text/plain": [
              "<Figure size 640x480 with 1 Axes>"
            ],
            "image/png": "[encoded data removed]"
          },
          "metadata": {}
        }
      ]
    },
    {
      "cell_type": "markdown",
      "source": [
        "- Most are Female and we only had 1 person listed as \"other\"."
      ],
      "metadata": {
        "id": "wU6njMfig0GJ"
      }
    },
    {
      "cell_type": "markdown",
      "source": [
        "### Ever Married Column"
      ],
      "metadata": {
        "id": "hNg0oTOlg77r"
      }
    },
    {
      "cell_type": "code",
      "source": [
        "#Display the value counts for the column\n",
        "df['ever_married'].value_counts()"
      ],
      "metadata": {
        "colab": {
          "base_uri": "https://localhost:8080/"
        },
        "id": "W-7dsBm7g-Ux",
        "outputId": "a7d81162-c1c9-4de8-9b58-857a30369a85"
      },
      "execution_count": 60,
      "outputs": [
        {
          "output_type": "execute_result",
          "data": {
            "text/plain": [
              "Yes    3353\n",
              "No     1757\n",
              "Name: ever_married, dtype: int64"
            ]
          },
          "metadata": {},
          "execution_count": 60
        }
      ]
    },
    {
      "cell_type": "code",
      "source": [
        "#Display the normalized value counts for the column\n",
        "df['ever_married'].value_counts(normalize = True)"
      ],
      "metadata": {
        "colab": {
          "base_uri": "https://localhost:8080/"
        },
        "id": "8sCIq7Ixg-m9",
        "outputId": "c93aa7d9-f60b-457d-a315-cac437aa96bd"
      },
      "execution_count": 61,
      "outputs": [
        {
          "output_type": "execute_result",
          "data": {
            "text/plain": [
              "Yes    0.656164\n",
              "No     0.343836\n",
              "Name: ever_married, dtype: float64"
            ]
          },
          "metadata": {},
          "execution_count": 61
        }
      ]
    },
    {
      "cell_type": "code",
      "source": [
        "#Display the descriptive statistics for the column\n",
        "df['ever_married'].describe()"
      ],
      "metadata": {
        "colab": {
          "base_uri": "https://localhost:8080/"
        },
        "id": "oiHXcKHcg-05",
        "outputId": "de40b09d-c479-423e-96cb-34af4b84bb9f"
      },
      "execution_count": 62,
      "outputs": [
        {
          "output_type": "execute_result",
          "data": {
            "text/plain": [
              "count     5110\n",
              "unique       2\n",
              "top        Yes\n",
              "freq      3353\n",
              "Name: ever_married, dtype: object"
            ]
          },
          "metadata": {},
          "execution_count": 62
        }
      ]
    },
    {
      "cell_type": "code",
      "source": [
        "## Define a MatplotLib ax object using seaborn.countplot()\n",
        "ax = sns.countplot(data=df,\n",
        "                   x='ever_married')\n",
        "plt.xticks(fontsize=10, weight='bold')\n",
        "plt.yticks(fontsize=10, weight='bold')\n",
        "# Set Axes Labels\n",
        "ax.set_xlabel('Ever Married', fontsize=14, weight='bold')\n",
        "ax.set_ylabel('Count', fontsize=14, weight='bold')\n",
        "## Set the Title\n",
        "ax.set_title('Ever Married', fontsize=16, weight='bold');"
      ],
      "metadata": {
        "colab": {
          "base_uri": "https://localhost:8080/",
          "height": 479
        },
        "id": "X8730RB7g_UQ",
        "outputId": "9dc518a3-e8c7-40ba-96db-e885752244d3"
      },
      "execution_count": 63,
      "outputs": [
        {
          "output_type": "display_data",
          "data": {
            "text/plain": [
              "<Figure size 640x480 with 1 Axes>"
            ],
            "image/png": "[encoded data removed]"
          },
          "metadata": {}
        }
      ]
    },
    {
      "cell_type": "markdown",
      "source": [
        "### Work Type Column"
      ],
      "metadata": {
        "id": "y6Mzncmhh3SG"
      }
    },
    {
      "cell_type": "code",
      "source": [
        "#Display the value counts for the column\n",
        "df['work_type'].value_counts()"
      ],
      "metadata": {
        "colab": {
          "base_uri": "https://localhost:8080/"
        },
        "id": "kCUgNUreh7Fc",
        "outputId": "feda9a66-3f91-4466-81ad-3d5d57e6099a"
      },
      "execution_count": 65,
      "outputs": [
        {
          "output_type": "execute_result",
          "data": {
            "text/plain": [
              "Private          2925\n",
              "Self-employed     819\n",
              "children          687\n",
              "Govt_job          657\n",
              "Never_worked       22\n",
              "Name: work_type, dtype: int64"
            ]
          },
          "metadata": {},
          "execution_count": 65
        }
      ]
    },
    {
      "cell_type": "code",
      "source": [
        "#Display the normalized value counts for the column\n",
        "df['work_type'].value_counts(normalize = True)"
      ],
      "metadata": {
        "colab": {
          "base_uri": "https://localhost:8080/"
        },
        "id": "PuiM_EjAh640",
        "outputId": "496d82a4-fceb-489e-de3f-12fc30e611b9"
      },
      "execution_count": 66,
      "outputs": [
        {
          "output_type": "execute_result",
          "data": {
            "text/plain": [
              "Private          0.572407\n",
              "Self-employed    0.160274\n",
              "children         0.134442\n",
              "Govt_job         0.128571\n",
              "Never_worked     0.004305\n",
              "Name: work_type, dtype: float64"
            ]
          },
          "metadata": {},
          "execution_count": 66
        }
      ]
    },
    {
      "cell_type": "code",
      "source": [
        "#Display the descriptive statistics for the column\n",
        "df['work_type'].describe()"
      ],
      "metadata": {
        "colab": {
          "base_uri": "https://localhost:8080/"
        },
        "id": "D1QXK7WBh6s0",
        "outputId": "9e942ed7-8f04-4440-94a2-244f4060a5b3"
      },
      "execution_count": 67,
      "outputs": [
        {
          "output_type": "execute_result",
          "data": {
            "text/plain": [
              "count        5110\n",
              "unique          5\n",
              "top       Private\n",
              "freq         2925\n",
              "Name: work_type, dtype: object"
            ]
          },
          "metadata": {},
          "execution_count": 67
        }
      ]
    },
    {
      "cell_type": "code",
      "source": [
        "## Define a MatplotLib ax object using seaborn.countplot()\n",
        "ax = sns.countplot(data=df,\n",
        "                   x='work_type')\n",
        "plt.xticks(fontsize=10, weight='bold')\n",
        "plt.yticks(fontsize=10, weight='bold')\n",
        "# Set Axes Labels\n",
        "ax.set_xlabel('Work Type', fontsize=14, weight='bold')\n",
        "ax.set_ylabel('Count', fontsize=14, weight='bold')\n",
        "## Set the Title\n",
        "ax.set_title('Work Type', fontsize=16, weight='bold');"
      ],
      "metadata": {
        "colab": {
          "base_uri": "https://localhost:8080/",
          "height": 479
        },
        "id": "ICiu23SXh6gm",
        "outputId": "cf6a548d-4dfa-48a1-8b31-888ba4429c81"
      },
      "execution_count": 68,
      "outputs": [
        {
          "output_type": "display_data",
          "data": {
            "text/plain": [
              "<Figure size 640x480 with 1 Axes>"
            ],
            "image/png": "[encoded data removed]"
          },
          "metadata": {}
        }
      ]
    },
    {
      "cell_type": "markdown",
      "source": [
        " - The majority of people have a Private work type"
      ],
      "metadata": {
        "id": "IW9JMMFTi4Bz"
      }
    },
    {
      "cell_type": "markdown",
      "source": [
        "### Residence Type Column"
      ],
      "metadata": {
        "id": "HKbxLrLbh7t7"
      }
    },
    {
      "cell_type": "code",
      "source": [
        "#Display the value counts for the column\n",
        "df['Residence_type'].value_counts()"
      ],
      "metadata": {
        "colab": {
          "base_uri": "https://localhost:8080/"
        },
        "id": "giZT4gwwh-PZ",
        "outputId": "beac25e1-f07c-4d11-8c7e-750d92945481"
      },
      "execution_count": 73,
      "outputs": [
        {
          "output_type": "execute_result",
          "data": {
            "text/plain": [
              "Urban    2596\n",
              "Rural    2514\n",
              "Name: Residence_type, dtype: int64"
            ]
          },
          "metadata": {},
          "execution_count": 73
        }
      ]
    },
    {
      "cell_type": "code",
      "source": [
        "#Display the normalized value counts for the column\n",
        "df['Residence_type'].value_counts(normalize = True)"
      ],
      "metadata": {
        "colab": {
          "base_uri": "https://localhost:8080/"
        },
        "id": "-gEaKfuWh-cA",
        "outputId": "270d48ef-ffe6-4819-c63e-5dace4cd452e"
      },
      "execution_count": 72,
      "outputs": [
        {
          "output_type": "execute_result",
          "data": {
            "text/plain": [
              "Urban    0.508023\n",
              "Rural    0.491977\n",
              "Name: Residence_type, dtype: float64"
            ]
          },
          "metadata": {},
          "execution_count": 72
        }
      ]
    },
    {
      "cell_type": "code",
      "source": [
        "#Display the descriptive statistics for the column\n",
        "df['Residence_type'].describe()"
      ],
      "metadata": {
        "colab": {
          "base_uri": "https://localhost:8080/"
        },
        "id": "xLKD6UWFiAnc",
        "outputId": "7c885ffc-363e-4b1d-88ca-96c47b36e9d8"
      },
      "execution_count": 70,
      "outputs": [
        {
          "output_type": "execute_result",
          "data": {
            "text/plain": [
              "count      5110\n",
              "unique        2\n",
              "top       Urban\n",
              "freq       2596\n",
              "Name: Residence_type, dtype: object"
            ]
          },
          "metadata": {},
          "execution_count": 70
        }
      ]
    },
    {
      "cell_type": "code",
      "source": [
        "## Define a MatplotLib ax object using seaborn.countplot()\n",
        "ax = sns.countplot(data=df,\n",
        "                   x='Residence_type')\n",
        "plt.xticks(fontsize=10, weight='bold')\n",
        "plt.yticks(fontsize=10, weight='bold')\n",
        "# Set Axes Labels\n",
        "ax.set_xlabel('Residence Type', fontsize=14, weight='bold')\n",
        "ax.set_ylabel('Count', fontsize=14, weight='bold')\n",
        "## Set the Title\n",
        "ax.set_title('Residence Type', fontsize=16, weight='bold');"
      ],
      "metadata": {
        "colab": {
          "base_uri": "https://localhost:8080/",
          "height": 479
        },
        "id": "IapR6Q6LiAZ5",
        "outputId": "d700eb69-9946-4ab2-f4fb-d552dc3a0dff"
      },
      "execution_count": 71,
      "outputs": [
        {
          "output_type": "display_data",
          "data": {
            "text/plain": [
              "<Figure size 640x480 with 1 Axes>"
            ],
            "image/png": "[encoded data removed]"
          },
          "metadata": {}
        }
      ]
    },
    {
      "cell_type": "markdown",
      "source": [
        "- These are split fairly evenly with Urban being slightly higher."
      ],
      "metadata": {
        "id": "ix2nJIpYjZ3R"
      }
    },
    {
      "cell_type": "markdown",
      "source": [
        "### Smoking Status Column"
      ],
      "metadata": {
        "id": "RXNCVWlniBKu"
      }
    },
    {
      "cell_type": "code",
      "source": [
        "#Display the value counts for the column\n",
        "df['smoking_status'].value_counts()"
      ],
      "metadata": {
        "colab": {
          "base_uri": "https://localhost:8080/"
        },
        "id": "ZRTIJ63eiGGr",
        "outputId": "19959863-6329-4fed-ba95-a3223b21fd9a"
      },
      "execution_count": 74,
      "outputs": [
        {
          "output_type": "execute_result",
          "data": {
            "text/plain": [
              "never smoked       1892\n",
              "Unknown            1544\n",
              "formerly smoked     885\n",
              "smokes              789\n",
              "Name: smoking_status, dtype: int64"
            ]
          },
          "metadata": {},
          "execution_count": 74
        }
      ]
    },
    {
      "cell_type": "code",
      "source": [
        "#Display the normalized value counts for the column\n",
        "df['smoking_status'].value_counts(normalize = True)"
      ],
      "metadata": {
        "colab": {
          "base_uri": "https://localhost:8080/"
        },
        "id": "N2F0gQJViF5q",
        "outputId": "04e50935-7032-47ce-c4cb-bc3f2674bba1"
      },
      "execution_count": 75,
      "outputs": [
        {
          "output_type": "execute_result",
          "data": {
            "text/plain": [
              "never smoked       0.370254\n",
              "Unknown            0.302153\n",
              "formerly smoked    0.173190\n",
              "smokes             0.154403\n",
              "Name: smoking_status, dtype: float64"
            ]
          },
          "metadata": {},
          "execution_count": 75
        }
      ]
    },
    {
      "cell_type": "code",
      "source": [
        "#Display the descriptive statistics for the column\n",
        "df['smoking_status'].describe()"
      ],
      "metadata": {
        "colab": {
          "base_uri": "https://localhost:8080/"
        },
        "id": "O9wcqoeIiFtH",
        "outputId": "9c7cce78-bce1-49d6-b0cf-ad283162bf38"
      },
      "execution_count": 76,
      "outputs": [
        {
          "output_type": "execute_result",
          "data": {
            "text/plain": [
              "count             5110\n",
              "unique               4\n",
              "top       never smoked\n",
              "freq              1892\n",
              "Name: smoking_status, dtype: object"
            ]
          },
          "metadata": {},
          "execution_count": 76
        }
      ]
    },
    {
      "cell_type": "code",
      "source": [
        "## Define a MatplotLib ax object using seaborn.countplot()\n",
        "ax = sns.countplot(data=df,\n",
        "                   x='smoking_status')\n",
        "plt.xticks(fontsize=10, weight='bold')\n",
        "plt.yticks(fontsize=10, weight='bold')\n",
        "# Set Axes Labels\n",
        "ax.set_xlabel('Smoking Status', fontsize=14, weight='bold')\n",
        "ax.set_ylabel('Count', fontsize=14, weight='bold')\n",
        "## Set the Title\n",
        "ax.set_title('Smoking Status', fontsize=16, weight='bold');"
      ],
      "metadata": {
        "colab": {
          "base_uri": "https://localhost:8080/",
          "height": 479
        },
        "id": "PenR399xiFg_",
        "outputId": "f5278193-0f72-471b-8a30-ee1624f4b750"
      },
      "execution_count": 69,
      "outputs": [
        {
          "output_type": "display_data",
          "data": {
            "text/plain": [
              "<Figure size 640x480 with 1 Axes>"
            ],
            "image/png": "[encoded data removed]"
          },
          "metadata": {}
        }
      ]
    },
    {
      "cell_type": "markdown",
      "source": [
        "- The majority have never smoked"
      ],
      "metadata": {
        "id": "XpObGC8fjJas"
      }
    },
    {
      "cell_type": "markdown",
      "source": [
        "##Heatmap of the correlation between features."
      ],
      "metadata": {
        "id": "ysNaFtU-wTj6"
      }
    },
    {
      "cell_type": "code",
      "source": [
        "figsize= (20, 10)\n",
        "corr = df.corr()\n",
        "sns.heatmap(corr, cmap = 'Blues', annot = True) ;"
      ],
      "metadata": {
        "id": "__g-yJ22wYYq",
        "colab": {
          "base_uri": "https://localhost:8080/",
          "height": 602
        },
        "outputId": "dbaf5c5e-fea3-4dbd-b24e-e6882231903e"
      },
      "execution_count": 64,
      "outputs": [
        {
          "output_type": "stream",
          "name": "stderr",
          "text": [
            "<ipython-input-64-ec41a76270d5>:2: FutureWarning: The default value of numeric_only in DataFrame.corr is deprecated. In a future version, it will default to False. Select only valid columns or specify the value of numeric_only to silence this warning.\n",
            "  corr = df.corr()\n"
          ]
        },
        {
          "output_type": "display_data",
          "data": {
            "text/plain": [
              "<Figure size 640x480 with 2 Axes>"
            ],
            "image/png": "[encoded data removed]"
          },
          "metadata": {}
        }
      ]
    },
    {
      "cell_type": "markdown",
      "source": [
        "- Age has the highest correlation to Stroke."
      ],
      "metadata": {
        "id": "r8dsO537IMOv"
      }
    },
    {
      "cell_type": "markdown",
      "source": [
        "#**Explanatory Data Analysis**\n"
      ],
      "metadata": {
        "id": "rB2QEm3YQw7L"
      }
    },
    {
      "cell_type": "markdown",
      "source": [
        "# Preprocessing for Machine Learning"
      ],
      "metadata": {
        "id": "8NxXN4sC761C"
      }
    },
    {
      "cell_type": "markdown",
      "source": [
        "##Identify each feature as ordinal, numerical, or nominal "
      ],
      "metadata": {
        "id": "vlBJRuKyCCPG"
      }
    },
    {
      "cell_type": "markdown",
      "source": [
        "\n",
        "- ordinal features = none\n",
        "- numeric features = age, hypertension, heart disease, average glucose level, bmi, stroke\n",
        "- Nomimal features= gender, ever married, work type, residence type, smoking status\n",
        "\n",
        "\n",
        "\n"
      ],
      "metadata": {
        "id": "sZnhzTQbCFkH"
      }
    },
    {
      "cell_type": "markdown",
      "source": [
        "##Drop Duplicates and Fix Inconsistencies in Categorical Data"
      ],
      "metadata": {
        "id": "yMwCuuTtAlvC"
      }
    },
    {
      "cell_type": "markdown",
      "source": [
        "##Define features (X) and target (y)"
      ],
      "metadata": {
        "id": "oZCtx8Zd-yWg"
      }
    },
    {
      "cell_type": "markdown",
      "source": [
        "- Target: Stroke (0= no and 1= yes)\n",
        "- Features: the remaining of the columns "
      ],
      "metadata": {
        "id": "ipkNLmeQquUx"
      }
    },
    {
      "cell_type": "code",
      "source": [
        "#Defining my Target variable which is y and the remaining features X\n",
        "X = df.drop(columns = ['stroke'])\n",
        "y = df['stroke']"
      ],
      "metadata": {
        "id": "_-tsRSkx-4hi"
      },
      "execution_count": null,
      "outputs": []
    },
    {
      "cell_type": "markdown",
      "source": [
        "#Train Test Split"
      ],
      "metadata": {
        "id": "T3PInIGD_mde"
      }
    },
    {
      "cell_type": "markdown",
      "source": [
        "#Prepare the Data"
      ],
      "metadata": {
        "id": "wy9RLzz4Sclk"
      }
    },
    {
      "cell_type": "markdown",
      "source": [
        "##Instantiate Column Selectors"
      ],
      "metadata": {
        "id": "Qtfb4sxiIKE5"
      }
    },
    {
      "cell_type": "markdown",
      "source": [
        "##Instantiate Transformers"
      ],
      "metadata": {
        "id": "4xKfVYGqT7vN"
      }
    },
    {
      "cell_type": "markdown",
      "source": [
        "##Instantiate Pipelines"
      ],
      "metadata": {
        "id": "0m1cyGn0XBF8"
      }
    },
    {
      "cell_type": "markdown",
      "source": [
        "##Instantiate Column Transformer"
      ],
      "metadata": {
        "id": "e-K0fwloNifB"
      }
    },
    {
      "cell_type": "markdown",
      "source": [
        "##Fit and Transform Data"
      ],
      "metadata": {
        "id": "IeC7f657NpqL"
      }
    },
    {
      "cell_type": "markdown",
      "source": [
        "##Inspect Preprocessed Data"
      ],
      "metadata": {
        "id": "LMEbT6H6ruay"
      }
    },
    {
      "cell_type": "markdown",
      "source": [
        "##Convert Preprocessed Array to Dataframes"
      ],
      "metadata": {
        "id": "3bfag9gZdBHd"
      }
    }
  ]
}